{
 "cells": [
  {
   "cell_type": "code",
   "execution_count": 9,
   "metadata": {},
   "outputs": [],
   "source": [
    "from pathlib import Path\n",
    "import json\n",
    "import numpy as np\n",
    "path_folder = Path(\"/home/gathenes/paragraph_benchmark/241026_expanded\")\n"
   ]
  },
  {
   "cell_type": "code",
   "execution_count": 10,
   "metadata": {},
   "outputs": [
    {
     "name": "stdout",
     "output_type": "stream",
     "text": [
      "/home/gathenes/paragraph_benchmark/241026_expanded/lr-0.00001_dr-0.3,0.3,0.2,0.2_mk-0.4_bs-20_dim1-4000,2000,1000,500_alpha-4.5_pen-0_weight_1_--bigembedding_multi/results_dict.json\n",
      "/home/gathenes/paragraph_benchmark/241026_expanded/lr-0.00001_dr-0.4,0.3,0.2_mk-0.4_bs-40_dim1-4000,2000,500_alpha-4.5_pen-0_weight_1_--bigembedding_multi/results_dict.json\n"
     ]
    }
   ],
   "source": [
    "ap_list = []\n",
    "roc_list = []\n",
    "for file in path_folder.rglob(\"*/results_dict.json\"):\n",
    "    with open(file) as f :\n",
    "        data=json.load(f)\n",
    "        ap=data[\"ap\"]\n",
    "        if ap>0.729:\n",
    "            print(file)\n",
    "        auc=data[\"auc\"]\n",
    "        ap_list.append(ap)\n",
    "        roc_list.append(auc)\n"
   ]
  },
  {
   "cell_type": "code",
   "execution_count": 3,
   "metadata": {},
   "outputs": [
    {
     "name": "stdout",
     "output_type": "stream",
     "text": [
      "0.7305527587730561\n"
     ]
    }
   ],
   "source": [
    "print(np.max(ap_list))\n"
   ]
  },
  {
   "cell_type": "code",
   "execution_count": 4,
   "metadata": {},
   "outputs": [],
   "source": [
    "from pathlib import Path\n",
    "import json\n",
    "import numpy as np\n",
    "path_folder = Path(\"/home/gathenes/paragraph_benchmark/241020_pecan\")\n"
   ]
  },
  {
   "cell_type": "code",
   "execution_count": 5,
   "metadata": {},
   "outputs": [],
   "source": [
    "ap_list = []\n",
    "roc_list = []\n",
    "\n",
    "for file in path_folder.rglob(\"lr-0.000005_bn---batch-norm_dr-0.2_mk-0.3_bs-10_dim1-4000_dim2-2000_dim3-1_alpha-4.5_seed-*/results_dict.json\"):\n",
    "    with open(file) as f :\n",
    "        data=json.load(f)\n",
    "        ap=data[\"ap\"]\n",
    "        auc=data[\"auc\"]\n",
    "        ap_list.append(ap)\n",
    "        roc_list.append(auc)\n"
   ]
  },
  {
   "cell_type": "code",
   "execution_count": 6,
   "metadata": {},
   "outputs": [
    {
     "name": "stdout",
     "output_type": "stream",
     "text": [
      "0.7007848935307467\n",
      "0.954763998752724\n"
     ]
    }
   ],
   "source": [
    "print(np.mean(ap_list))\n",
    "print(np.mean(roc_list))\n"
   ]
  },
  {
   "cell_type": "markdown",
   "metadata": {},
   "source": [
    "# parcours de pdb_dict"
   ]
  },
  {
   "cell_type": "code",
   "execution_count": 7,
   "metadata": {},
   "outputs": [
    {
     "ename": "ImportError",
     "evalue": "cannot import name 'read_pdb_to_dataframe' from 'utils' (/home/gathenes/paratope_model/utils.py)",
     "output_type": "error",
     "traceback": [
      "\u001b[0;31m---------------------------------------------------------------------------\u001b[0m",
      "\u001b[0;31mImportError\u001b[0m                               Traceback (most recent call last)",
      "\u001b[1;32m/home/gathenes/paratope_model/clean_notebook.ipynb Cell 8\u001b[0m line \u001b[0;36m4\n\u001b[1;32m      <a href='vscode-notebook-cell://ssh-remote%2Bsaber/home/gathenes/paratope_model/clean_notebook.ipynb#X10sdnNjb2RlLXJlbW90ZQ%3D%3D?line=1'>2</a>\u001b[0m \u001b[39mfrom\u001b[39;00m \u001b[39mpathlib\u001b[39;00m \u001b[39mimport\u001b[39;00m Path\n\u001b[1;32m      <a href='vscode-notebook-cell://ssh-remote%2Bsaber/home/gathenes/paratope_model/clean_notebook.ipynb#X10sdnNjb2RlLXJlbW90ZQ%3D%3D?line=2'>3</a>\u001b[0m \u001b[39mimport\u001b[39;00m \u001b[39mjson\u001b[39;00m\n\u001b[0;32m----> <a href='vscode-notebook-cell://ssh-remote%2Bsaber/home/gathenes/paratope_model/clean_notebook.ipynb#X10sdnNjb2RlLXJlbW90ZQ%3D%3D?line=3'>4</a>\u001b[0m \u001b[39mfrom\u001b[39;00m \u001b[39mutils\u001b[39;00m \u001b[39mimport\u001b[39;00m read_pdb_to_dataframe\n\u001b[1;32m      <a href='vscode-notebook-cell://ssh-remote%2Bsaber/home/gathenes/paratope_model/clean_notebook.ipynb#X10sdnNjb2RlLXJlbW90ZQ%3D%3D?line=4'>5</a>\u001b[0m \u001b[39mimport\u001b[39;00m \u001b[39mpandas\u001b[39;00m \u001b[39mas\u001b[39;00m \u001b[39mpd\u001b[39;00m\n\u001b[1;32m      <a href='vscode-notebook-cell://ssh-remote%2Bsaber/home/gathenes/paratope_model/clean_notebook.ipynb#X10sdnNjb2RlLXJlbW90ZQ%3D%3D?line=5'>6</a>\u001b[0m \u001b[39mfrom\u001b[39;00m \u001b[39mtqdm\u001b[39;00m \u001b[39mimport\u001b[39;00m tqdm\n",
      "\u001b[0;31mImportError\u001b[0m: cannot import name 'read_pdb_to_dataframe' from 'utils' (/home/gathenes/paratope_model/utils.py)"
     ]
    }
   ],
   "source": [
    "import pandas as pd\n",
    "from pathlib import Path\n",
    "import json\n",
    "from utils import read_pdb_to_dataframe\n",
    "import pandas as pd\n",
    "from tqdm import tqdm\n",
    "from biopandas.pdb import PandasPdb\n"
   ]
  },
  {
   "cell_type": "code",
   "execution_count": null,
   "metadata": {},
   "outputs": [],
   "source": [
    "import json\n",
    "with open(\"/home/gathenes/paragraph_benchmark/241020_expanded/lr000005-dr0.2-mk-0.4-alpha4.5-bs10-dim1-4000-dim2-2000-dim3-500/pdb_dict.json\") as f:\n",
    "    whole_data=json.load(f)\n",
    "    data=whole_data[\"pdb_dict\"]\n"
   ]
  },
  {
   "cell_type": "code",
   "execution_count": null,
   "metadata": {},
   "outputs": [
    {
     "name": "stdout",
     "output_type": "stream",
     "text": [
      "{'1': '0.055325716733932495', '2': '0.21174472570419312', '3': '0.00010702433064579964', '4': '5.9191723266849294e-05', '5': '7.343963079620153e-05', '6': '4.435618393472396e-06', '7': '1.3736853361479007e-05', '8': '7.516273115015792e-08', '9': '2.3857410269556567e-07', '11': '2.6336920200265013e-06', '12': '1.4440682889471645e-06', '13': '5.569828772422625e-06', '14': '0.00019178939692210406', '15': '1.9780949514824897e-05', '16': '2.4932040105341002e-05', '17': '7.31749678379856e-05', '18': '1.9251439198342268e-07', '19': '1.0134300509889727e-06', '20': '9.927781320584472e-06', '21': '4.49631761512137e-06', '22': '6.458808456955012e-07', '23': '2.4656719688209705e-05', '24': '0.00015696034824941307', '25': '0.00010533339809626341', '26': '0.000638080295175314', '27': '0.025822877883911133', '28': '0.06925298273563385', '29': '0.1277371197938919', '30': '0.004125533625483513', '35': '0.8886623978614807', '36': '0.7516539096832275', '37': '0.8820043206214905', '38': '0.5111811757087708', '39': '0.003974719438701868', '40': '0.1525404304265976', '41': '0.0007091853185556829', '42': '0.0007281614234670997', '43': '8.11946447356604e-05', '44': '1.583001358085312e-05', '45': '4.750477819470689e-05', '46': '7.4593277531676e-05', '47': '0.00048620166489854455', '48': '0.00018581567564979196', '49': '6.146739178802818e-05', '50': '1.3679868970939424e-05', '51': '0.00027671296265907586', '52': '0.015312349423766136', '53': '0.00034377898555248976', '54': '0.0009993374114856124', '55': '0.30041179060935974', '56': '0.007951989769935608', '57': '0.957416296005249', '58': '0.8801649808883667', '59': '0.8361448049545288', '63': '0.03771647810935974', '64': '0.8391875624656677', '65': '0.16758891940116882', '66': '0.48424169421195984', '67': '0.020873751491308212', '68': '0.012961390428245068', '69': '0.030150534585118294', '70': '0.0005201980820856988', '71': '0.000639232515823096', '72': '0.017817368730902672', '74': '0.0014599832938984036', '75': '0.00030141533352434635', '76': '4.552415703074075e-05', '77': '0.003415434854105115', '78': '0.004704912193119526', '79': '0.0018587162485346198', '80': '0.009127884171903133', '81': '0.0006782195996493101', '82': '0.0029752771370112896', '83': '0.003098896937444806', '84': '0.001126873423345387', '85': '0.0012627971591427922', '86': '1.0070684766105842e-05', '87': '9.326209692517295e-05', '88': '2.929494257841725e-06', '89': '0.00014913524501025677', '90': '0.0002464627905283123', '91': '7.871183333918452e-05', '92': '0.0003600672062020749', '93': '0.0001432156132068485', '94': '3.107777274635737e-06', '95': '4.7900025492708664e-06', '96': '2.629290520417271e-06', '97': '7.861011545173824e-05', '98': '1.0069532436318696e-05', '99': '1.4848135833744891e-05', '100': '2.0759914605150698e-06', '101': '0.0002610770461615175', '102': '3.9933391235535964e-05', '103': '9.449855861021206e-05', '104': '8.96165056474274e-06', '105': '0.006674673408269882', '106': '0.01131728570908308', '107': '0.5067826509475708', '108': '0.7947754263877869', '109': '0.8558509945869446', '113': '0.8047905564308167', '114': '0.5098767280578613', '115': '0.015510832890868187', '116': '0.014790881425142288', '117': '0.051877036690711975', '118': '0.00034309696638956666', '119': '7.483745775971329e-06', '120': '4.911456926492974e-05', '121': '1.2175618394394405e-05', '122': '1.037235279000015e-06', '123': '0.0003789733746089041', '124': '2.6951277050102362e-06', '125': '1.0073144039779436e-05', '126': '2.89493414129538e-06', '127': '6.632601980527397e-06', '128': '1.7773669242160395e-05'}\n"
     ]
    }
   ],
   "source": [
    "print(data['1bvk'][\"heavy\"])\n"
   ]
  },
  {
   "cell_type": "code",
   "execution_count": null,
   "metadata": {},
   "outputs": [],
   "source": [
    "pdb=\"6rlo\"\n",
    "pdb_dict = data[pdb]\n",
    "new_pdb_dict={\"heavy\":{}, \"light\":{}}\n",
    "for key,val in pdb_dict[\"heavy\"].items():\n",
    "    new_pdb_dict[\"heavy\"][int(key)]=float(val)\n",
    "for key,val in pdb_dict[\"light\"].items():\n",
    "    new_pdb_dict[\"light\"][int(key)]=float(val)\n"
   ]
  },
  {
   "cell_type": "code",
   "execution_count": null,
   "metadata": {},
   "outputs": [],
   "source": [
    "pdb_path = f\"/home/gathenes/all_structures/imgt/{pdb}.pdb\"\n",
    "data_pdb, _ = read_pdb_to_dataframe(pdb_path)\n"
   ]
  },
  {
   "cell_type": "code",
   "execution_count": null,
   "metadata": {},
   "outputs": [],
   "source": [
    "heavy_chain, light_chain = \"C\",\"D\"\n"
   ]
  },
  {
   "cell_type": "code",
   "execution_count": null,
   "metadata": {},
   "outputs": [],
   "source": [
    "data_pdb_heavy=data_pdb.query(\"chain_id==@heavy_chain\")\n",
    "data_pdb_light=data_pdb.query(\"chain_id==@light_chain\")\n",
    "data_pdb_other=data_pdb.query(\"chain_id!=@light_chain and chain_id!=@heavy_chain\")\n"
   ]
  },
  {
   "cell_type": "code",
   "execution_count": null,
   "metadata": {},
   "outputs": [
    {
     "name": "stderr",
     "output_type": "stream",
     "text": [
      "/tmp/ipykernel_3818163/952639194.py:1: SettingWithCopyWarning: \n",
      "A value is trying to be set on a copy of a slice from a DataFrame.\n",
      "Try using .loc[row_indexer,col_indexer] = value instead\n",
      "\n",
      "See the caveats in the documentation: https://pandas.pydata.org/pandas-docs/stable/user_guide/indexing.html#returning-a-view-versus-a-copy\n",
      "  data_pdb_heavy[\"b_factor\"]=data_pdb_heavy[\"residue_number\"].map(new_pdb_dict[\"heavy\"])\n",
      "/tmp/ipykernel_3818163/952639194.py:2: SettingWithCopyWarning: \n",
      "A value is trying to be set on a copy of a slice from a DataFrame.\n",
      "Try using .loc[row_indexer,col_indexer] = value instead\n",
      "\n",
      "See the caveats in the documentation: https://pandas.pydata.org/pandas-docs/stable/user_guide/indexing.html#returning-a-view-versus-a-copy\n",
      "  data_pdb_light[\"b_factor\"]=data_pdb_light[\"residue_number\"].map(new_pdb_dict[\"light\"])\n",
      "/tmp/ipykernel_3818163/952639194.py:3: SettingWithCopyWarning: \n",
      "A value is trying to be set on a copy of a slice from a DataFrame.\n",
      "Try using .loc[row_indexer,col_indexer] = value instead\n",
      "\n",
      "See the caveats in the documentation: https://pandas.pydata.org/pandas-docs/stable/user_guide/indexing.html#returning-a-view-versus-a-copy\n",
      "  data_pdb_other[\"b_factor\"]=0\n"
     ]
    }
   ],
   "source": [
    "data_pdb_heavy[\"b_factor\"]=data_pdb_heavy[\"residue_number\"].map(new_pdb_dict[\"heavy\"])\n",
    "data_pdb_light[\"b_factor\"]=data_pdb_light[\"residue_number\"].map(new_pdb_dict[\"light\"])\n",
    "data_pdb_other[\"b_factor\"]=0\n"
   ]
  },
  {
   "cell_type": "code",
   "execution_count": null,
   "metadata": {},
   "outputs": [],
   "source": [
    "new_data_pdb = pd.concat([data_pdb_heavy, data_pdb_light, data_pdb_other])\n"
   ]
  },
  {
   "cell_type": "code",
   "execution_count": null,
   "metadata": {},
   "outputs": [],
   "source": [
    "new_data_pdb[\"b_factor\"]=new_data_pdb[\"b_factor\"].fillna(0)\n"
   ]
  },
  {
   "cell_type": "code",
   "execution_count": null,
   "metadata": {},
   "outputs": [
    {
     "name": "stdout",
     "output_type": "stream",
     "text": [
      "15875\n",
      "15875\n"
     ]
    }
   ],
   "source": [
    "print(len(new_data_pdb))\n",
    "print(len(data_pdb_heavy)+len(data_pdb_light)+len(data_pdb_other))\n"
   ]
  },
  {
   "cell_type": "code",
   "execution_count": null,
   "metadata": {},
   "outputs": [],
   "source": [
    "atomic_df = PandasPdb().read_pdb(pdb_path)\n",
    "atomic_df = atomic_df.get_model(1)\n",
    "if len(atomic_df.df[\"ATOM\"]) == 0:\n",
    "    raise ValueError(f\"No model found for index: {1}\")\n"
   ]
  },
  {
   "cell_type": "code",
   "execution_count": null,
   "metadata": {},
   "outputs": [],
   "source": [
    "atomic_df.df[\"ATOM\"][\"b_factor\"] = new_data_pdb.query(\"record_name=='ATOM'\")[\"b_factor\"]\n"
   ]
  },
  {
   "cell_type": "code",
   "execution_count": null,
   "metadata": {},
   "outputs": [
    {
     "name": "stdout",
     "output_type": "stream",
     "text": [
      "Index(['record_name', 'atom_number', 'blank_1', 'atom_name', 'alt_loc',\n",
      "       'residue_name', 'blank_2', 'chain_id', 'residue_number', 'insertion',\n",
      "       'blank_3', 'x_coord', 'y_coord', 'z_coord', 'occupancy', 'b_factor',\n",
      "       'blank_4', 'segment_id', 'element_symbol', 'charge', 'line_idx',\n",
      "       'model_id'],\n",
      "      dtype='object')\n"
     ]
    }
   ],
   "source": [
    "print(atomic_df.df[\"ATOM\"].columns)\n"
   ]
  },
  {
   "cell_type": "code",
   "execution_count": null,
   "metadata": {},
   "outputs": [
    {
     "name": "stderr",
     "output_type": "stream",
     "text": [
      "/home/gathenes/.pyenv/versions/3.9.6/envs/analysis/lib/python3.9/site-packages/biopandas/pdb/pandas_pdb.py:624: UserWarning: Column model_id is not an expected column and will be skipped.\n",
      "  warn(\n"
     ]
    }
   ],
   "source": [
    "atomic_df.to_pdb(f\"/home/gathenes/paragraph_benchmark/visualize/{pdb}.pdb\", records = [\"ATOM\"])\n"
   ]
  }
 ],
 "metadata": {
  "kernelspec": {
   "display_name": "analysis",
   "language": "python",
   "name": "python3"
  },
  "language_info": {
   "codemirror_mode": {
    "name": "ipython",
    "version": 3
   },
   "file_extension": ".py",
   "mimetype": "text/x-python",
   "name": "python",
   "nbconvert_exporter": "python",
   "pygments_lexer": "ipython3",
   "version": "3.9.6"
  }
 },
 "nbformat": 4,
 "nbformat_minor": 2
}
