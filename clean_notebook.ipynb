{
 "cells": [
  {
   "cell_type": "code",
   "execution_count": 1,
   "metadata": {},
   "outputs": [],
   "source": [
    "from pathlib import Path\n",
    "import json\n",
    "import numpy as np\n",
    "import pandas as pd\n"
   ]
  },
  {
   "cell_type": "markdown",
   "metadata": {},
   "source": [
    "# paragraph"
   ]
  },
  {
   "cell_type": "code",
   "execution_count": null,
   "metadata": {},
   "outputs": [],
   "source": [
    "def get_results(path_folder, name):\n",
    "    ap_list = []\n",
    "    roc_list = []\n",
    "    records=[]\n",
    "    for file in path_folder.rglob(\"*/summary_dict.json\"):\n",
    "        with open(file) as f :\n",
    "            summary_data=json.load(f)\n",
    "        if not (file.parents[0]/Path(\"test_set_results_dict.json\")).exists():\n",
    "            continue\n",
    "        result_dict = file.parents[0]/Path(\"test_set_results_dict.json\")\n",
    "        with open(result_dict) as f :\n",
    "            result_data = json.load(f)\n",
    "        summary_data[\"ap\"]=ap=float(result_data[\"ap\"])\n",
    "        summary_data[\"auc\"]=auc=float(result_data[\"auc\"])\n",
    "        summary_data[\"pen\"]=file.parents[0].as_posix().split(\"_\")[6]\n",
    "        summary_data[\"mcc_best_val\"]=float(result_data.get(\"mcc_best_val\",0))\n",
    "        summary_data[\"f1_best_val\"]=float(result_data.get(\"f1_best_val\",0))\n",
    "        summary_data[\"mcc_05\"]=float(result_data.get(\"mcc_05\",0))\n",
    "        summary_data[\"f1_05\"]=float(result_data.get(\"f1_05\",0))\n",
    "        summary_data[\"mcc\"]=float(result_data.get(\"mcc\",0))\n",
    "        records.append(summary_data)\n",
    "        ap_list.append(ap)\n",
    "        roc_list.append(auc)\n",
    "    df=pd.DataFrame.from_records(records).drop(columns=[\"best_epoch\",\n",
    "        \"result_folder\",\n",
    "        \"best_ap\",\n",
    "        \"train_folder_path\",\n",
    "        \"val_folder_path\",\n",
    "        \"n_epochs\",\n",
    "        \"input_size\",\n",
    "        \"override\",\n",
    "        \"patience\",\n",
    "        ])\n",
    "    df.groupby([\"pen\",\"mask_prob\",\"alphas\",\"embedding_models\", \"batch_size\",\"dims\",\"dropouts\",\"positive_weight\",\"learning_rate\",])[[\"ap\",\"auc\", \"mcc_best_val\",\"mcc_05\",\"f1_05\",\"mcc\",\"f1_best_val\"]].mean().to_csv(path_folder.parents[0]/Path(\"results\")/Path(f\"{name}.csv\"))\n"
   ]
  },
  {
   "cell_type": "code",
   "execution_count": null,
   "metadata": {},
   "outputs": [
    {
     "ename": "KeyError",
     "evalue": "'auc'",
     "output_type": "error",
     "traceback": [
      "\u001b[0;31m---------------------------------------------------------------------------\u001b[0m",
      "\u001b[0;31mKeyError\u001b[0m                                  Traceback (most recent call last)",
      "Cell \u001b[0;32mIn[7], line 2\u001b[0m\n\u001b[1;32m      1\u001b[0m path_folder \u001b[38;5;241m=\u001b[39m Path(\u001b[38;5;124m\"\u001b[39m\u001b[38;5;124m/home/athenes/benchmark2/mipe/250308\u001b[39m\u001b[38;5;124m\"\u001b[39m)\n\u001b[0;32m----> 2\u001b[0m \u001b[43mget_results\u001b[49m\u001b[43m(\u001b[49m\u001b[43mpath_folder\u001b[49m\u001b[43m,\u001b[49m\u001b[43m \u001b[49m\u001b[38;5;124;43m\"\u001b[39;49m\u001b[38;5;124;43m250308\u001b[39;49m\u001b[38;5;124;43m\"\u001b[39;49m\u001b[43m)\u001b[49m\n",
      "Cell \u001b[0;32mIn[5], line 14\u001b[0m, in \u001b[0;36mget_results\u001b[0;34m(path_folder, name)\u001b[0m\n\u001b[1;32m     12\u001b[0m     result_data \u001b[38;5;241m=\u001b[39m json\u001b[38;5;241m.\u001b[39mload(f)\n\u001b[1;32m     13\u001b[0m summary_data[\u001b[38;5;124m\"\u001b[39m\u001b[38;5;124map\u001b[39m\u001b[38;5;124m\"\u001b[39m]\u001b[38;5;241m=\u001b[39map\u001b[38;5;241m=\u001b[39m\u001b[38;5;28mfloat\u001b[39m(result_data[\u001b[38;5;124m\"\u001b[39m\u001b[38;5;124map\u001b[39m\u001b[38;5;124m\"\u001b[39m])\n\u001b[0;32m---> 14\u001b[0m summary_data[\u001b[38;5;124m\"\u001b[39m\u001b[38;5;124mauc\u001b[39m\u001b[38;5;124m\"\u001b[39m]\u001b[38;5;241m=\u001b[39mauc\u001b[38;5;241m=\u001b[39m\u001b[38;5;28mfloat\u001b[39m(\u001b[43mresult_data\u001b[49m\u001b[43m[\u001b[49m\u001b[38;5;124;43m\"\u001b[39;49m\u001b[38;5;124;43mauc\u001b[39;49m\u001b[38;5;124;43m\"\u001b[39;49m\u001b[43m]\u001b[49m)\n\u001b[1;32m     15\u001b[0m summary_data[\u001b[38;5;124m\"\u001b[39m\u001b[38;5;124mpen\u001b[39m\u001b[38;5;124m\"\u001b[39m]\u001b[38;5;241m=\u001b[39mfile\u001b[38;5;241m.\u001b[39mparents[\u001b[38;5;241m0\u001b[39m]\u001b[38;5;241m.\u001b[39mas_posix()\u001b[38;5;241m.\u001b[39msplit(\u001b[38;5;124m\"\u001b[39m\u001b[38;5;124m_\u001b[39m\u001b[38;5;124m\"\u001b[39m)[\u001b[38;5;241m6\u001b[39m]\n\u001b[1;32m     16\u001b[0m summary_data[\u001b[38;5;124m\"\u001b[39m\u001b[38;5;124mmcc_05\u001b[39m\u001b[38;5;124m\"\u001b[39m]\u001b[38;5;241m=\u001b[39m\u001b[38;5;28mfloat\u001b[39m(result_data\u001b[38;5;241m.\u001b[39mget(\u001b[38;5;124m\"\u001b[39m\u001b[38;5;124mmcc_05\u001b[39m\u001b[38;5;124m\"\u001b[39m,\u001b[38;5;241m0\u001b[39m))\n",
      "\u001b[0;31mKeyError\u001b[0m: 'auc'"
     ]
    }
   ],
   "source": [
    "path_folder = Path(\"/home/athenes/benchmark2/mipe/250106\")\n",
    "get_results(path_folder, \"250106\")\n"
   ]
  },
  {
   "cell_type": "code",
   "execution_count": 4,
   "metadata": {},
   "outputs": [],
   "source": [
    "path_folder = Path(\"/home/athenes/benchmark2/paragraph/250106\")\n",
    "get_results(path_folder, \"250106\")\n"
   ]
  },
  {
   "cell_type": "code",
   "execution_count": 5,
   "metadata": {},
   "outputs": [],
   "source": [
    "path_folder = Path(\"/home/athenes/benchmark2/pecan/250104\")\n",
    "get_results(path_folder, \"250104\")\n"
   ]
  },
  {
   "cell_type": "code",
   "execution_count": 6,
   "metadata": {},
   "outputs": [],
   "source": [
    "path_folder = Path(\"/home/athenes/benchmark2/paragraph/ablation_study_2\")\n",
    "get_results(path_folder, \"ablation_study_2\")\n"
   ]
  }
 ],
 "metadata": {
  "kernelspec": {
   "display_name": "analysis",
   "language": "python",
   "name": "python3"
  },
  "language_info": {
   "codemirror_mode": {
    "name": "ipython",
    "version": 3
   },
   "file_extension": ".py",
   "mimetype": "text/x-python",
   "name": "python",
   "nbconvert_exporter": "python",
   "pygments_lexer": "ipython3",
   "version": "3.10.13"
  }
 },
 "nbformat": 4,
 "nbformat_minor": 2
}
