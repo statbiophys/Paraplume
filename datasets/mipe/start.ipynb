{
 "cells": [
  {
   "cell_type": "code",
   "execution_count": 5,
   "metadata": {},
   "outputs": [],
   "source": [
    "import pandas as pd\n"
   ]
  },
  {
   "cell_type": "code",
   "execution_count": 1,
   "metadata": {},
   "outputs": [],
   "source": [
    "import os\n"
   ]
  },
  {
   "cell_type": "code",
   "execution_count": 4,
   "metadata": {},
   "outputs": [
    {
     "data": {
      "text/plain": [
       "environ{'USER': 'athenes',\n",
       "        'SSH_CLIENT': '129.199.127.51 38366 22',\n",
       "        'XDG_SESSION_TYPE': 'tty',\n",
       "        'SHLVL': '1',\n",
       "        'MOTD_SHOWN': 'pam',\n",
       "        'HOME': '/home/athenes',\n",
       "        'PYENV_SHELL': 'bash',\n",
       "        'DBUS_SESSION_BUS_ADDRESS': 'unix:path=/run/user/50937/bus',\n",
       "        'LOGNAME': 'athenes',\n",
       "        '_': '/home/athenes/.pyenv/versions/3.10.13/envs/paratyping/bin/python',\n",
       "        'XDG_SESSION_CLASS': 'user',\n",
       "        'XDG_SESSION_ID': '629',\n",
       "        'PATH': '/home/athenes/.pyenv/versions/3.10.13/envs/paratyping/bin:/home/athenes/.vscode-server/bin/e7e037083ff4455cf320e344325dacb480062c3c/bin/remote-cli:/home/athenes/.pyenv/shims:/home/athenes/.pyenv/bin:/usr/local/bin:/home/athenes/bin:/usr/local/cuda-12.6/bin:/usr/local/bin:/usr/bin:/bin:/usr/local/games:/usr/games:/usr/bin',\n",
       "        'VSCODE_AGENT_FOLDER': '/home/athenes/.vscode-server',\n",
       "        'XDG_RUNTIME_DIR': '/run/user/50937',\n",
       "        'LANG': 'fr_FR.UTF-8',\n",
       "        'SHELL': '/bin/bash',\n",
       "        'PWD': '/home/athenes',\n",
       "        'SSH_CONNECTION': '129.199.127.51 38366 129.199.127.143 22',\n",
       "        'PYENV_ROOT': '/home/athenes/.pyenv',\n",
       "        'VSCODE_HANDLES_SIGPIPE': 'true',\n",
       "        'HISTCONTROL': 'ignoredups',\n",
       "        'HISTSIZE': '5000',\n",
       "        'EDITOR': 'nano',\n",
       "        'GIT_SSL_NO_VERIFY': 'false',\n",
       "        'LS_COLORS': '',\n",
       "        'LD_LIBRARY_PATH': '/usr/local/lib:',\n",
       "        'PS1': '(paratyping) ',\n",
       "        'HISTIGNORE': '&:ls:ll:la:cd:exit:clear:history',\n",
       "        'HISTFILESIZE': '20000',\n",
       "        'VSCODE_AMD_ENTRYPOINT': 'vs/workbench/api/node/extensionHostProcess',\n",
       "        'VSCODE_HANDLES_UNCAUGHT_ERRORS': 'true',\n",
       "        'VSCODE_NLS_CONFIG': '{\"locale\":\"en\",\"osLocale\":\"en\",\"availableLanguages\":{}}',\n",
       "        'BROWSER': '/home/athenes/.vscode-server/bin/e7e037083ff4455cf320e344325dacb480062c3c/bin/helpers/browser.sh',\n",
       "        'VSCODE_CWD': '/home/athenes',\n",
       "        'ELECTRON_RUN_AS_NODE': '1',\n",
       "        'VSCODE_IPC_HOOK_CLI': '/run/user/50937/vscode-ipc-c2aec649-6c9b-480b-96b9-82afc4b64f32.sock',\n",
       "        'APPLICATION_INSIGHTS_NO_DIAGNOSTIC_CHANNEL': '1',\n",
       "        'VSCODE_L10N_BUNDLE_LOCATION': '',\n",
       "        'PYTHONUNBUFFERED': '1',\n",
       "        'VIRTUAL_ENV': '/home/athenes/.pyenv/versions/3.10.13/envs/paratyping',\n",
       "        'PYTHONIOENCODING': 'utf-8',\n",
       "        'VIRTUAL_ENV_PROMPT': '(paratyping) ',\n",
       "        'PYDEVD_IPYTHON_COMPATIBLE_DEBUGGING': '1',\n",
       "        'PYDEVD_USE_FRAME_EVAL': 'NO',\n",
       "        'TERM': 'xterm-color',\n",
       "        'CLICOLOR': '1',\n",
       "        'FORCE_COLOR': '1',\n",
       "        'CLICOLOR_FORCE': '1',\n",
       "        'PAGER': 'cat',\n",
       "        'GIT_PAGER': 'cat',\n",
       "        'MPLBACKEND': 'module://matplotlib_inline.backend_inline'}"
      ]
     },
     "execution_count": 4,
     "metadata": {},
     "output_type": "execute_result"
    }
   ],
   "source": [
    "os.environ\n"
   ]
  },
  {
   "cell_type": "code",
   "execution_count": 6,
   "metadata": {},
   "outputs": [],
   "source": [
    "test = pd.read_csv(\"/home/athenes/paratope_model/datasets/mipe/train_val.csv\")\n"
   ]
  },
  {
   "cell_type": "code",
   "execution_count": 7,
   "metadata": {},
   "outputs": [],
   "source": [
    "test[\"pdb\"]=test[\"pdb\"].str.lower()\n"
   ]
  },
  {
   "cell_type": "code",
   "execution_count": 8,
   "metadata": {},
   "outputs": [],
   "source": [
    "test.to_csv(\"/home/athenes/paratope_model/datasets/mipe/train_val.csv\")\n"
   ]
  }
 ],
 "metadata": {
  "kernelspec": {
   "display_name": "paratyping",
   "language": "python",
   "name": "python3"
  },
  "language_info": {
   "codemirror_mode": {
    "name": "ipython",
    "version": 3
   },
   "file_extension": ".py",
   "mimetype": "text/x-python",
   "name": "python",
   "nbconvert_exporter": "python",
   "pygments_lexer": "ipython3",
   "version": "3.10.13"
  }
 },
 "nbformat": 4,
 "nbformat_minor": 2
}
