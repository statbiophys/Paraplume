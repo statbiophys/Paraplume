{
  "cells": [
  {
   "cell_type": "code",
   "execution_count": 1,
   "metadata": {},
   "outputs": [],
   "source": [
    "import pandas as pd"
   ]
  },
  {
   "cell_type": "code",
   "execution_count": 3,
   "metadata": {},
   "outputs": [],
   "source": [
    "test=pd.read_csv(\"/home/athenes/Paraplume/datasets/mipe/test_set.csv\")\n",
    "test_heavy = test.copy()\n",
    "test_heavy[\"Lchain\"]=\"None\"\n",
    "test_light=test.copy()\n",
    "test_light[\"Hchain\"]=\"None\"\n",
    "test_heavy.to_csv(\"/home/athenes/Paraplume/datasets/mipe/test_set_heavy.csv\")\n",
    "test_light.to_csv(\"/home/athenes/Paraplume/datasets/mipe/test_set_light.csv\")"
   ]
  }
 ],
 "metadata": {
  "kernelspec": {
   "display_name": "analysis",
   "language": "python",
   "name": "python3"
  },
  "language_info": {
   "codemirror_mode": {
    "name": "ipython",
    "version": 3
   },
   "file_extension": ".py",
   "mimetype": "text/x-python",
   "name": "python",
   "nbconvert_exporter": "python",
   "pygments_lexer": "ipython3",
   "version": "3.10.13"
  }
 },
 "nbformat": 4,
 "nbformat_minor": 2
}
