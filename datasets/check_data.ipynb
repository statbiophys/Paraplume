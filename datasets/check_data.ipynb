{
  "cells": [
  {
   "cell_type": "code",
   "execution_count": 1,
   "metadata": {},
   "outputs": [],
   "source": [
    "import pandas as pd\n"
   ]
  },
  {
   "cell_type": "code",
   "execution_count": 3,
   "metadata": {},
   "outputs": [],
   "source": [
    "names = [\"6zdh\", \"one\", \"two\", \"three\", \"four\", \"five\", \"six\", \"seven\", \"eight\", \"nine\", \"ten\"]\n",
    "heavy_chains = [\"H\"] * 11\n",
    "light_chains = [\"L\"] * 11\n",
    "ag_chains = [\"A\"] + [\"H\"] * 10  # First antigen chain is \"A\", rest are \"H\"\n",
    "\n",
    "# Create DataFrame\n",
    "df = pd.DataFrame({\n",
    "    \"pdb\": names,\n",
    "    \"Hchain\": heavy_chains,\n",
    "    \"Lchain\": light_chains,\n",
    "    \"antigen_chain\": ag_chains\n",
    "})\n",
    "\n",
    "df.to_csv(\"/home/athenes/paratope_model/datasets/space2/space2.csv\")\n"
   ]
  },
  {
   "cell_type": "code",
   "execution_count": 5,
   "metadata": {},
   "outputs": [],
   "source": [
    "paraplume_test = pd.read_csv(\"/home/athenes/paratope_model/datasets/paraplume/test.csv\")\n",
    "paraplume_train = pd.read_csv(\"/home/athenes/paratope_model/datasets/paraplume/train.csv\")\n",
    "paraplume_val = pd.read_csv(\"/home/athenes/paratope_model/datasets/paraplume/val.csv\")\n",
    "\n",
    "mipe_test = pd.read_csv(\"/home/athenes/paratope_model/datasets/mipe/test_set.csv\")\n",
    "paragraph_test = pd.read_csv(\"/home/athenes/paratope_model/datasets/paragraph/test_set.csv\")\n",
    "pecan_test = pd.read_csv(\"/home/athenes/paratope_model/datasets/pecan/test_set.csv\")\n"
   ]
  },
  {
   "cell_type": "code",
   "execution_count": 9,
   "metadata": {},
   "outputs": [],
   "source": [
    "for each in pecan_test[\"pdb\"].unique():\n",
    "    if (each in paraplume_train[\"pdb\"].unique() or each in paraplume_val[\"pdb\"].unique()):\n",
    "        print(\"weird\")\n"
   ]
  }
 ],
 "metadata": {
  "kernelspec": {
   "display_name": "analysis",
   "language": "python",
   "name": "python3"
  },
  "language_info": {
   "codemirror_mode": {
    "name": "ipython",
    "version": 3
   },
   "file_extension": ".py",
   "mimetype": "text/x-python",
   "name": "python",
   "nbconvert_exporter": "python",
   "pygments_lexer": "ipython3",
   "version": "3.10.13"
  }
 },
 "nbformat": 4,
 "nbformat_minor": 2
}
