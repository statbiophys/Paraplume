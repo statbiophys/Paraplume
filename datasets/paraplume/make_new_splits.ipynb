{
 "cells": [
  {
   "cell_type": "code",
   "execution_count": 78,
   "metadata": {},
   "outputs": [],
   "source": [
    "import pandas as pd\n",
    "from pathlib import Path\n",
    "from tqdm import tqdm\n",
    "import matplotlib.pyplot as plt\n",
    "import numpy as np\n",
    "from itertools import combinations\n",
    "from Levenshtein import distance\n",
    "from scipy.cluster.hierarchy import fcluster, linkage\n"
   ]
  },
  {
   "cell_type": "markdown",
   "metadata": {},
   "source": [
    "# making clusters"
   ]
  },
  {
   "cell_type": "code",
   "execution_count": 79,
   "metadata": {},
   "outputs": [],
   "source": [
    "paraplume = pd.read_csv(\"/home/athenes/paratope_model/datasets/paraplume/paraplume.csv\")\n"
   ]
  },
  {
   "cell_type": "code",
   "execution_count": 67,
   "metadata": {},
   "outputs": [],
   "source": [
    "from typing import Optional\n",
    "\n",
    "import pandas as pd\n",
    "from biopandas.pdb import PandasPdb\n",
    "\n",
    "def read_pdb_to_dataframe(\n",
    "    pdb_path: Optional[str] = None,\n",
    ") -> pd.DataFrame:\n",
    "    \"\"\"\n",
    "    Read a PDB file, and return a Pandas DataFrame containing the atomic coordinates and metadata.\n",
    "\n",
    "    Args:\n",
    "        pdb_path (str, optional): Path to a local PDB file to read. Defaults to None.\n",
    "\n",
    "    Returns:\n",
    "        pd.DataFrame: A DataFrame containing the atomic coordinates and metadata, removed of it's\n",
    "        hydrogen atomswith one row per atom.\n",
    "    \"\"\"\n",
    "    atomic_df = PandasPdb().read_pdb(pdb_path).df[\"ATOM\"].query(\"element_symbol!='H'\")\n",
    "    atomic_df[\"IMGT\"]=atomic_df[\"residue_number\"].astype(str)+atomic_df[\"insertion\"].astype(str)\n",
    "    return atomic_df\n",
    "amino_acid_dict = {\n",
    "    \"ALA\": \"A\",\n",
    "    \"CYS\": \"C\",\n",
    "    \"ASP\": \"D\",\n",
    "    \"GLU\": \"E\",\n",
    "    \"PHE\": \"F\",\n",
    "    \"GLY\": \"G\",\n",
    "    \"HIS\": \"H\",\n",
    "    \"ILE\": \"I\",\n",
    "    \"LYS\": \"K\",\n",
    "    \"LEU\": \"L\",\n",
    "    \"MET\": \"M\",\n",
    "    \"ASN\": \"N\",\n",
    "    \"PRO\": \"P\",\n",
    "    \"GLN\": \"Q\",\n",
    "    \"ARG\": \"R\",\n",
    "    \"SER\": \"S\",\n",
    "    \"THR\": \"T\",\n",
    "    \"VAL\": \"V\",\n",
    "    \"TRP\": \"W\",\n",
    "    \"TYR\": \"Y\",\n",
    "}\n"
   ]
  },
  {
   "cell_type": "code",
   "execution_count": 68,
   "metadata": {},
   "outputs": [
    {
     "name": "stderr",
     "output_type": "stream",
     "text": [
      "100%|██████████| 3157/3157 [05:31<00:00,  9.53it/s]\n"
     ]
    }
   ],
   "source": [
    "records=[]\n",
    "for pdb,heavy,light in tqdm(paraplume[['pdb','Hchain','Lchain']].values):\n",
    "\n",
    "    hl_chains=[heavy,light]\n",
    "    if not Path(f\"/home/athenes/all_structures/imgt/{pdb}.pdb\").exists():\n",
    "        print(pdb)\n",
    "        continue\n",
    "    pdb_df = read_pdb_to_dataframe(f\"/home/athenes/all_structures/imgt/{pdb}.pdb\").query(\"chain_id in @hl_chains and atom_name=='CA'\")\n",
    "    triplets_heavy= pdb_df.query(\"chain_id==@heavy and residue_number<129\")[\"residue_name\"].tolist()\n",
    "    sequence_heavy = \"\".join([amino_acid_dict[each] for each in triplets_heavy])\n",
    "    triplets_light= pdb_df.query(\"chain_id==@light and residue_number<128\")[\"residue_name\"].tolist()\n",
    "    sequence_light = \"\".join([amino_acid_dict[each] for each in triplets_light])\n",
    "    records.append({\"pdb\":pdb,\"sequences\":sequence_heavy+sequence_light})\n",
    "df = pd.DataFrame.from_records(records)\n",
    "df.to_csv(\"/home/athenes/paratope_model/datasets/paraplume/paraplume_sequences.csv\")\n"
   ]
  },
  {
   "cell_type": "code",
   "execution_count": 82,
   "metadata": {},
   "outputs": [],
   "source": [
    "df=pd.read_csv(\"/home/athenes/paratope_model/datasets/paraplume/paraplume_sequences.csv\")\n"
   ]
  },
  {
   "cell_type": "code",
   "execution_count": 83,
   "metadata": {},
   "outputs": [
    {
     "name": "stdout",
     "output_type": "stream",
     "text": [
      "[224 223 230 231 226 220 225 229 222 219 217 237 232 228 227 234 221 235\n",
      " 236 218 233 214 239 242 216 244 213 240 241 238 163 243 249 215 212 189\n",
      " 245 277 247 248 198 194 209 211 191 206 207 210 188 202 192 246 276 208\n",
      " 106 109]\n"
     ]
    }
   ],
   "source": [
    "print(df[\"sequences\"].str.len().unique())\n"
   ]
  },
  {
   "cell_type": "markdown",
   "metadata": {},
   "source": [
    "# making train_sets"
   ]
  },
  {
   "cell_type": "code",
   "execution_count": 70,
   "metadata": {},
   "outputs": [],
   "source": [
    "mipe_test = pd.read_csv(\"/home/athenes/paratope_model/datasets/mipe/test_set.csv\")\n",
    "paragraph_test = pd.read_csv(\"/home/athenes/paratope_model/datasets/paragraph/test_set.csv\")\n",
    "pecan_test = pd.read_csv(\"/home/athenes/paratope_model/datasets/pecan/test_set.csv\")\n",
    "mipe_pdbs = set(mipe_test[\"pdb\"].unique())\n",
    "paragraph_pdbs = set(paragraph_test[\"pdb\"].unique())\n",
    "pecan_pdbs = set(pecan_test[\"pdb\"].unique())\n",
    "testset_pdbs=set.union(mipe_pdbs,pecan_pdbs,paragraph_pdbs)\n"
   ]
  },
  {
   "cell_type": "code",
   "execution_count": 71,
   "metadata": {},
   "outputs": [],
   "source": [
    "def exclude_from_trainset(pdb_set):\n",
    "    exclude_train_pdbs = []\n",
    "    for pdb1, seq1 in tqdm(df[[\"pdb\",\"sequences\"]].values):\n",
    "        for pdb2, seq2 in df.query(\"pdb in @pdb_set\")[[\"pdb\",\"sequences\"]].values:\n",
    "            if distance(seq1, seq2) / (np.mean([len(seq1), len(seq2)]))<0.05:\n",
    "                exclude_train_pdbs.append(pdb1)\n",
    "    return list(set(exclude_train_pdbs))\n"
   ]
  },
  {
   "cell_type": "code",
   "execution_count": 72,
   "metadata": {},
   "outputs": [
    {
     "name": "stderr",
     "output_type": "stream",
     "text": [
      "100%|██████████| 3157/3157 [00:04<00:00, 647.14it/s]\n",
      "100%|██████████| 3157/3157 [00:07<00:00, 427.80it/s]\n",
      "100%|██████████| 3157/3157 [00:05<00:00, 539.53it/s]\n"
     ]
    }
   ],
   "source": [
    "exclude_mipe = exclude_from_trainset(mipe_pdbs)\n",
    "exclude_paragraph = exclude_from_trainset(paragraph_pdbs)\n",
    "exclude_pecan = exclude_from_trainset(pecan_pdbs)\n"
   ]
  },
  {
   "cell_type": "code",
   "execution_count": 73,
   "metadata": {},
   "outputs": [],
   "source": [
    "exclude_everything = set.union(set(exclude_paragraph), set(exclude_pecan), set(exclude_mipe))\n"
   ]
  },
  {
   "cell_type": "code",
   "execution_count": 74,
   "metadata": {},
   "outputs": [],
   "source": [
    "train_val_paraplume_everything = paraplume.query(\"pdb not in @exclude_everything\")\n",
    "test_paraplume_everything = paraplume.query(\"pdb in @exclude_everything\")\n",
    "train_paraplume_everything = train_val_paraplume_everything.sample(frac=0.9, random_state=42)\n",
    "val_paraplume_everything = train_val_paraplume_everything.drop(train_paraplume_everything.index)\n"
   ]
  },
  {
   "cell_type": "code",
   "execution_count": 75,
   "metadata": {},
   "outputs": [],
   "source": [
    "train_paraplume_everything.to_csv(\"/home/athenes/paratope_model/datasets/paraplume/train.csv\")\n"
   ]
  },
  {
   "cell_type": "code",
   "execution_count": 76,
   "metadata": {},
   "outputs": [],
   "source": [
    "val_paraplume_everything.to_csv(\"/home/athenes/paratope_model/datasets/paraplume/val.csv\")\n"
   ]
  },
  {
   "cell_type": "code",
   "execution_count": 77,
   "metadata": {},
   "outputs": [],
   "source": [
    "test_paraplume_everything.to_csv(\"/home/athenes/paratope_model/datasets/paraplume/test.csv\")\n"
   ]
  }
 ],
 "metadata": {
  "kernelspec": {
   "display_name": "paratyping",
   "language": "python",
   "name": "python3"
  },
  "language_info": {
   "codemirror_mode": {
    "name": "ipython",
    "version": 3
   },
   "file_extension": ".py",
   "mimetype": "text/x-python",
   "name": "python",
   "nbconvert_exporter": "python",
   "pygments_lexer": "ipython3",
   "version": "3.10.13"
  }
 },
 "nbformat": 4,
 "nbformat_minor": 2
}
