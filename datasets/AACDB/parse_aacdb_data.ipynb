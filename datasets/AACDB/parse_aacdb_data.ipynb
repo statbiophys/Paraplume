{
 "cells": [
  {
   "cell_type": "code",
   "execution_count": 81,
   "metadata": {},
   "outputs": [],
   "source": [
    "import pandas as pd\n"
   ]
  },
  {
   "cell_type": "code",
   "execution_count": 82,
   "metadata": {},
   "outputs": [],
   "source": [
    "aacdb = pd.read_csv('/home/athenes/paratope_model/datasets/AACDB/antigen_antibody_data.csv')\n"
   ]
  },
  {
   "cell_type": "code",
   "execution_count": 83,
   "metadata": {},
   "outputs": [],
   "source": [
    "aacdb[\"number_chains\"]=aacdb[\"chains\"].apply(lambda x:len(x.split(\"_\")[0]))\n"
   ]
  },
  {
   "cell_type": "code",
   "execution_count": 84,
   "metadata": {},
   "outputs": [],
   "source": [
    "antibodies = aacdb.query(\"number_chains==2\")\n"
   ]
  },
  {
   "cell_type": "code",
   "execution_count": 85,
   "metadata": {},
   "outputs": [
    {
     "name": "stderr",
     "output_type": "stream",
     "text": [
      "/tmp/ipykernel_2940067/3255571673.py:1: SettingWithCopyWarning: \n",
      "A value is trying to be set on a copy of a slice from a DataFrame.\n",
      "Try using .loc[row_indexer,col_indexer] = value instead\n",
      "\n",
      "See the caveats in the documentation: https://pandas.pydata.org/pandas-docs/stable/user_guide/indexing.html#returning-a-view-versus-a-copy\n",
      "  antibodies[\"antibody_chains\"]=antibodies[\"chains\"].apply(lambda x:x.split(\"_\")[0])\n"
     ]
    }
   ],
   "source": [
    "antibodies[\"antibody_chains\"]=antibodies[\"chains\"].apply(lambda x:x.split(\"_\")[0])\n"
   ]
  },
  {
   "cell_type": "code",
   "execution_count": 86,
   "metadata": {},
   "outputs": [
    {
     "name": "stderr",
     "output_type": "stream",
     "text": [
      "/tmp/ipykernel_2940067/968474468.py:1: SettingWithCopyWarning: \n",
      "A value is trying to be set on a copy of a slice from a DataFrame.\n",
      "Try using .loc[row_indexer,col_indexer] = value instead\n",
      "\n",
      "See the caveats in the documentation: https://pandas.pydata.org/pandas-docs/stable/user_guide/indexing.html#returning-a-view-versus-a-copy\n",
      "  antibodies[\"Hchain\"]=antibodies[\"chains\"].apply(lambda x:x.split(\"_\")[0][0])\n",
      "/tmp/ipykernel_2940067/968474468.py:2: SettingWithCopyWarning: \n",
      "A value is trying to be set on a copy of a slice from a DataFrame.\n",
      "Try using .loc[row_indexer,col_indexer] = value instead\n",
      "\n",
      "See the caveats in the documentation: https://pandas.pydata.org/pandas-docs/stable/user_guide/indexing.html#returning-a-view-versus-a-copy\n",
      "  antibodies[\"Lchain\"]=antibodies[\"chains\"].apply(lambda x:x.split(\"_\")[0][1])\n",
      "/tmp/ipykernel_2940067/968474468.py:3: SettingWithCopyWarning: \n",
      "A value is trying to be set on a copy of a slice from a DataFrame.\n",
      "Try using .loc[row_indexer,col_indexer] = value instead\n",
      "\n",
      "See the caveats in the documentation: https://pandas.pydata.org/pandas-docs/stable/user_guide/indexing.html#returning-a-view-versus-a-copy\n",
      "  antibodies[\"antigen_chain\"]=antibodies[\"chains\"].apply(lambda x:x.split(\"_\")[1])\n"
     ]
    }
   ],
   "source": [
    "antibodies[\"Hchain\"]=antibodies[\"chains\"].apply(lambda x:x.split(\"_\")[0][0])\n",
    "antibodies[\"Lchain\"]=antibodies[\"chains\"].apply(lambda x:x.split(\"_\")[0][1])\n",
    "antibodies[\"antigen_chain\"]=antibodies[\"chains\"].apply(lambda x:x.split(\"_\")[1])\n"
   ]
  },
  {
   "cell_type": "code",
   "execution_count": 87,
   "metadata": {},
   "outputs": [
    {
     "data": {
      "text/plain": [
       "Index(['id', 'pdb', 'chains', 'antibody', 'ab_mutation', 'mutation', 'protein',\n",
       "       'ag_mutation', 'mutation1', 'organism', 'method', 'resolution',\n",
       "       'reference\\t', 'number_chains', 'antibody_chains', 'Hchain', 'Lchain',\n",
       "       'antigen_chain'],\n",
       "      dtype='object')"
      ]
     },
     "execution_count": 87,
     "metadata": {},
     "output_type": "execute_result"
    }
   ],
   "source": [
    "antibodies.columns\n"
   ]
  },
  {
   "cell_type": "code",
   "execution_count": 88,
   "metadata": {},
   "outputs": [
    {
     "name": "stdout",
     "output_type": "stream",
     "text": [
      "3203\n"
     ]
    }
   ],
   "source": [
    "print(len(antibodies[[\"pdb\",\"antibody\"]].drop_duplicates()))\n"
   ]
  },
  {
   "cell_type": "code",
   "execution_count": 89,
   "metadata": {},
   "outputs": [
    {
     "name": "stderr",
     "output_type": "stream",
     "text": [
      "/tmp/ipykernel_2940067/2831982746.py:1: SettingWithCopyWarning: \n",
      "A value is trying to be set on a copy of a slice from a DataFrame.\n",
      "Try using .loc[row_indexer,col_indexer] = value instead\n",
      "\n",
      "See the caveats in the documentation: https://pandas.pydata.org/pandas-docs/stable/user_guide/indexing.html#returning-a-view-versus-a-copy\n",
      "  antibodies[\"pdb\"]=antibodies[\"pdb\"].str.lower()\n"
     ]
    }
   ],
   "source": [
    "antibodies[\"pdb\"]=antibodies[\"pdb\"].str.lower()\n"
   ]
  },
  {
   "cell_type": "code",
   "execution_count": 90,
   "metadata": {},
   "outputs": [],
   "source": [
    "antibodies.drop_duplicates(subset=[\"pdb\",\"antibody\"])[[\"pdb\",\"Hchain\",\"Lchain\",\"antigen_chain\"]].to_csv(\"/home/athenes/paratope_model/datasets/paraplume/old_paraplume.csv\")\n"
   ]
  }
 ],
 "metadata": {
  "kernelspec": {
   "display_name": "paratyping",
   "language": "python",
   "name": "python3"
  },
  "language_info": {
   "codemirror_mode": {
    "name": "ipython",
    "version": 3
   },
   "file_extension": ".py",
   "mimetype": "text/x-python",
   "name": "python",
   "nbconvert_exporter": "python",
   "pygments_lexer": "ipython3",
   "version": "3.10.13"
  }
 },
 "nbformat": 4,
 "nbformat_minor": 2
}
