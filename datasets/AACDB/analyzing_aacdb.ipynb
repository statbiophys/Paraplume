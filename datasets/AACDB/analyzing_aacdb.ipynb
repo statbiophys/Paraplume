{
 "cells": [
  {
   "cell_type": "code",
   "execution_count": 2,
   "metadata": {},
   "outputs": [],
   "source": [
    "import pandas as pd\n"
   ]
  },
  {
   "cell_type": "code",
   "execution_count": 33,
   "metadata": {},
   "outputs": [
    {
     "name": "stdout",
     "output_type": "stream",
     "text": [
      "['1cic' '1dvf' '1iai' '1kb5' '1pg7' '1qfw' '3jbd' '3qum' '3stb' '3ulu'\n",
      " '4kro' '4krp' '4rgn' '4tvp' '4v1d' '4xhj' '4xi5' '4ybl' '4z7o' '4zxb'\n",
      " '4zyp' '5a8h' '5cez' '5d9q' '5fhc' '5fyj' '5fyk' '5fyl' '5hvh' '5i8h'\n",
      " '5jo4' '5js9' '5jsa' '5kel' '5kem' '5ken' '5t3s' '5t3x' '5t3z' '5thr'\n",
      " '5tlj' '5tlk' '5um8' '5utf' '5uty' '5vj6' '5w1k' '5w4l' '5wdu' '5xaj'\n",
      " '6aj9' '6apd' '6b0n' '6chb' '6dzw' '6dzy' '6fg1' '6fg2' '6gjs' '6gju'\n",
      " '6gkd' '6iap' '6jmr' '6mej' '6mek' '6nm6' '6nnf' '6nnj' '6o9i' '6oe5'\n",
      " '6oge' '6ogx' '6okp' '6ol5' '6ol7' '6opa' '6oq5' '6ot1' '6pv7' '6pv8'\n",
      " '6qx4' '6rcu' '6rcv' '6sxi' '6t3j' '6tyl' '6udk' '6ui1' '6ujb' '6ujc'\n",
      " '6ukt' '6v4p' '6v8z' '6vrq' '6w03' '6wmw' '6xc3' '6xc7' '6xdg' '6xoc'\n",
      " '6yz7' '6z2m' '6zh9' '7b2m' '7b2p' '7b2q' '7bel' '7ben' '7beo' '7bep'\n",
      " '7chc' '7che' '7chf' '7cwn' '7cws' '7cwt' '7cwu' '7e5r' '7e5s' '7e8c'\n",
      " '7e8f' '7eh5' '7ey0' '7ey5' '7ezv' '7fcp' '7fim' '7fiy' '7jlk' '7jr7'\n",
      " '7jx3' '7k78' '7k9z' '7klc' '7kn6' '7kn7' '7kzb' '7l0n' '7l7e' '7l7r'\n",
      " '7lbe' '7lbf' '7lbg' '7ldd' '7lde' '7lm8' '7lop' '7lq7' '7luc' '7lxy'\n",
      " '7lxz' '7ly2' '7m42' '7m6d' '7m7w' '7mdu' '7mep' '7mhy' '7mxd' '7mxl'\n",
      " '7mzj' '7mzk' '7n28' '7n8h' '7niu' '7niv' '7nx6' '7nx7' '7nx8' '7nx9'\n",
      " '7nxa' '7nxb' '7or9' '7ora' '7orb' '7p77' '7p78' '7pc2' '7phu' '7pi3'\n",
      " '7pry' '7ps2' '7ps6' '7q0g' '7q0h' '7q3r' '7qnw' '7qnx' '7qny' '7qti'\n",
      " '7qtj' '7r1z' '7r6w' '7r6x' '7r8l' '7rah' '7s07' '7s1b' '7s5q' '7s83'\n",
      " '7sk3' '7sk4' '7sk8' '7so9' '7sob' '7t4q' '7t4r' '7t4s' '7t87' '7tb8'\n",
      " '7tbf' '7tcc' '7tjq' '7tl0' '7tm0' '7tn0' '7tn9' '7tpr' '7u0d' '7u8j'\n",
      " '7u8l' '7u8m' '7ucf' '7ucg' '7ugp' '7ugq' '7unb' '7uxl' '7w71' '7wor'\n",
      " '7wos' '7wou' '7wov' '7wow' '7wwl' '7x1m' '7x2k' '7x3c' '7x7t' '7x7u'\n",
      " '7x7v' '7xcz' '7xda' '7xdk' '7xdl' '7xst' '7y0o' '7y0w' '7y6k' '7zf3'\n",
      " '7zf4' '7zf5' '7zfa' '7zfb' '7zfc' '7zfe' '7zlk' '7zwm' '7zxu' '8a1e'\n",
      " '8bh5' '8blq' '8cml' '8cw9' '8cwj' '8cwk' '8cwv' '8cxc' '8cyj' '8cz8'\n",
      " '8d0y' '8d8q' '8dam' '8db4' '8dbz' '8df5' '8dpl' '8dpm' '8dt8' '8dua'\n",
      " '8dw2' '8dw3' '8dxu' '8elp' '8eoo' '8epa' '8f0h' '8gf2' '8gsd' '8gse'\n",
      " '8gsf' '8gv5' '8gv6' '8h07' '8h08' '8hc4' '8hc5' '8hlb' '8hr2' '8iv4'\n",
      " '8iv5' '8iv8' '8iva' '8szy' '8ttw' '8w83' '7r23' '7r24' '7rxc' '7rxd'\n",
      " '7s8h' '3ixx' '3o0r' '3sdy' '3ulv' '3wfb' '3wfc' '3wfd' '3wfe' '3ztn'\n",
      " '4fqi' '4grw' '4hjg' '4hkz' '4hlz' '4ioi' '4jm2' '4k8r' '4ki5' '4nc1'\n",
      " '4nm8' '4py8' '4rrp' '5cjs' '5cws' '5gux' '7mbx' '7mdw' '7me7' '7mej'\n",
      " '7mfg' '7mfu' '7mxe' '7n8q' '7na7' '7na8' '7oap' '7oaq' '7olz' '7piu'\n",
      " '7piv' '7qia' '7qic' '7qji' '7qjj' '6c5v' '6cnv' '6gwp' '6hjp' '6id4']\n"
     ]
    }
   ],
   "source": [
    "# Read the CSV\n",
    "aacdb = pd.read_csv('/home/athenes/paratope_model/datasets/AACDB/antigen_antibody_data.csv')\n",
    "\n",
    "# Group by \"pdb\" and calculate the number of unique \"antibody\" and \"protein\" for each group\n",
    "duplicated_pdbs = aacdb.groupby(\"pdb\").agg({\"antibody\": \"nunique\", \"protein\": \"nunique\"})\n",
    "\n",
    "# Identify rows where \"antibody\" or \"protein\" has more than 1 unique value\n",
    "duplicated_pdbs = duplicated_pdbs[(duplicated_pdbs[\"antibody\"] > 1) | (duplicated_pdbs[\"protein\"] > 1)].index\n",
    "\n",
    "# Filter rows with those \"pdb\" values\n",
    "result = aacdb[aacdb[\"pdb\"].isin(duplicated_pdbs)]\n",
    "\n",
    "# Get unique \"pdb\" values in lowercase\n",
    "pdbs = result[\"pdb\"].str.lower().unique()\n",
    "\n",
    "# Output\n",
    "print(pdbs)\n"
   ]
  },
  {
   "cell_type": "code",
   "execution_count": 34,
   "metadata": {},
   "outputs": [
    {
     "name": "stdout",
     "output_type": "stream",
     "text": [
      "360\n"
     ]
    }
   ],
   "source": [
    "print(len(pdbs))\n"
   ]
  },
  {
   "cell_type": "code",
   "execution_count": 29,
   "metadata": {},
   "outputs": [],
   "source": [
    "aacdb = pd.read_csv('/home/athenes/paratope_model/datasets/AACDB/antigen_antibody_data.csv')\n",
    "duplicated_pdbs = aacdb.groupby(\"pdb\")[[\"antibody\",\"protein\"]].nunique()\n",
    "duplicated_pdbs = duplicated_pdbs[duplicated_pdbs > 1].index\n",
    "result = aacdb[aacdb[\"pdb\"].isin(duplicated_pdbs)]\n",
    "pdbs=result[\"pdb\"].str.lower().unique()\n"
   ]
  },
  {
   "cell_type": "code",
   "execution_count": 30,
   "metadata": {},
   "outputs": [
    {
     "name": "stdout",
     "output_type": "stream",
     "text": [
      "3674\n"
     ]
    }
   ],
   "source": [
    "print(len(pdbs))\n"
   ]
  },
  {
   "cell_type": "code",
   "execution_count": 32,
   "metadata": {},
   "outputs": [
    {
     "name": "stdout",
     "output_type": "stream",
     "text": [
      "       pdb   antibody                               protein\n",
      "0     1A14    NC10 Fv                         NEURAMINIDASE\n",
      "1     1A2Y    D1.3 Fv                            Lysozyme C\n",
      "2     1ADQ  RF-AN Fab                                IgG Fc\n",
      "3     1AFV   25.3 Fab        HIV TYPE 1 CAPSID PROTEIN(P24)\n",
      "4     1AHW    5G9 Fab                         TISSUE FACTOR\n",
      "...    ...        ...                                   ...\n",
      "7493  6SGE     B6 VHH  Rho-related GTP-binding protein RhoB\n",
      "7494  6SGE     B6 VHH  Rho-related GTP-binding protein RhoB\n",
      "7495  6SGE     B6 VHH  Rho-related GTP-binding protein RhoB\n",
      "7496  6SGE     B6 VHH  Rho-related GTP-binding protein RhoB\n",
      "7497  6V7Y    ID5 VHH  Antigen-presenting glycoprotein CD1d\n",
      "\n",
      "[7498 rows x 3 columns]\n"
     ]
    }
   ],
   "source": [
    "print(result[[\"pdb\",\"antibody\",\"protein\"]])\n"
   ]
  },
  {
   "cell_type": "code",
   "execution_count": 28,
   "metadata": {},
   "outputs": [
    {
     "name": "stdout",
     "output_type": "stream",
     "text": [
      "       pdb            antibody\n",
      "143   1QFW             3299 Fv\n",
      "144   1QFW             3468 Fv\n",
      "634   3QUM          5D3D11 Fab\n",
      "635   3QUM          5D3D11 Fab\n",
      "636   3QUM           5D5A5 Fab\n",
      "...    ...                 ...\n",
      "7386  7QJJ          1 Nanobody\n",
      "7387  7QJJ          2 Nanobody\n",
      "7388  7QJJ          1 Nanobody\n",
      "7446  6GWP  VHH-2w-64 Nanobody\n",
      "7447  6GWP  VHH-2g-42 Nanobody\n",
      "\n",
      "[991 rows x 2 columns]\n"
     ]
    }
   ],
   "source": [
    "print(result[[\"pdb\",\"antibody\"]])\n"
   ]
  }
 ],
 "metadata": {
  "kernelspec": {
   "display_name": "analysis",
   "language": "python",
   "name": "python3"
  },
  "language_info": {
   "codemirror_mode": {
    "name": "ipython",
    "version": 3
   },
   "file_extension": ".py",
   "mimetype": "text/x-python",
   "name": "python",
   "nbconvert_exporter": "python",
   "pygments_lexer": "ipython3",
   "version": "3.10.13"
  }
 },
 "nbformat": 4,
 "nbformat_minor": 2
}
