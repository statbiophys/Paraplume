{
  "cells": [
  {
   "cell_type": "code",
   "execution_count": 6,
   "id": "4b3c08da",
   "metadata": {},
   "outputs": [],
   "source": [
    "from pathlib import Path\n",
    "\n",
    "import pandas as pd\n",
    "from biopandas.pdb import PandasPdb\n"
   ]
  },
  {
   "cell_type": "code",
   "execution_count": 7,
   "id": "c3f6935c",
   "metadata": {},
   "outputs": [],
   "source": [
    "def read_pdb_to_dataframe(\n",
    "    pdb_path: Path,\n",
    ") -> pd.DataFrame:\n",
    "    \"\"\"\n",
    "    Read a PDB file, and return a Pandas DataFrame containing the atomic coordinates and metadata.\n",
    "\n",
    "    Args:\n",
    "        pdb_path (str, optional): Path to a local PDB file to read. Defaults to None.\n",
    "\n",
    "    Returns\n",
    "    -------\n",
    "        pd.DataFrame: A DataFrame containing the atomic coordinates and metadata, removed of it's\n",
    "        hydrogen atoms with one row per atom.\n",
    "    \"\"\"\n",
    "    atomic_df = PandasPdb().read_pdb(pdb_path).df[\"ATOM\"].query(\"element_symbol!='H'\")\n",
    "    atomic_df[\"IMGT\"] = atomic_df[\"residue_number\"].astype(str) + atomic_df[\"insertion\"].astype(str)\n",
    "    return atomic_df"
   ]
  },
  {
   "cell_type": "code",
   "execution_count": 8,
   "id": "e0ac026f",
   "metadata": {},
   "outputs": [],
   "source": [
    "df = read_pdb_to_dataframe(\"/home/athenes/Paraplume/data_with_scripts/6b0s/6b0s.pdb\")"
   ]
  },
  {
   "cell_type": "code",
   "execution_count": 15,
   "id": "53806d79",
   "metadata": {},
   "outputs": [
    {
     "name": "stdout",
     "output_type": "stream",
     "text": [
      "Index(['record_name', 'atom_number', 'blank_1', 'atom_name', 'alt_loc',\n",
      "       'residue_name', 'blank_2', 'chain_id', 'residue_number', 'insertion',\n",
      "       'blank_3', 'x_coord', 'y_coord', 'z_coord', 'occupancy', 'b_factor',\n",
      "       'blank_4', 'segment_id', 'element_symbol', 'charge', 'line_idx',\n",
      "       'IMGT'],\n",
      "      dtype='object')\n"
     ]
    }
   ],
   "source": [
    "print(df.columns)"
   ]
  },
  {
   "cell_type": "code",
   "execution_count": 19,
   "id": "a2cac240",
   "metadata": {},
   "outputs": [],
   "source": [
    "selected = df.query(\"chain_id.isin(['L','H'])\")[[\"occupancy\",\"b_factor\",\"chain_id\",\"IMGT\"]].drop_duplicates()"
   ]
  },
  {
   "cell_type": "code",
   "execution_count": 21,
   "id": "83284c4e",
   "metadata": {},
   "outputs": [
    {
     "name": "stdout",
     "output_type": "stream",
     "text": [
      "      occupancy  b_factor\n",
      "495         0.0      0.01\n",
      "504         0.0      0.10\n",
      "511         0.0      0.00\n",
      "520         0.0      0.00\n",
      "528         0.0      0.00\n",
      "...         ...       ...\n",
      "2176        0.0      0.00\n",
      "2185        0.0      0.00\n",
      "2193        0.0      0.00\n",
      "2200        0.0      0.00\n",
      "2207        0.0      0.00\n",
      "\n",
      "[228 rows x 2 columns]\n"
     ]
    }
   ],
   "source": [
    "print(selected[[\"occupancy\",\"b_factor\"]])"
   ]
  },
  {
   "cell_type": "code",
   "execution_count": 25,
   "id": "cb85ad42",
   "metadata": {},
   "outputs": [
    {
     "name": "stdout",
     "output_type": "stream",
     "text": [
      "True Positives: 23\n",
      "False Positives: 9\n",
      "Total Actual Positives: 23\n",
      "True Positive Rate (TPR): 1.000 (23 over 23)\n",
      "False Positive Rate (FPR): 0.044 (9 over 205)\n"
     ]
    }
   ],
   "source": [
    "# Binarize predictions using threshold 0.5\n",
    "selected[\"predicted\"] = (selected[\"b_factor\"] >= 0.5).astype(int)\n",
    "\n",
    "# Confusion matrix components\n",
    "tp = ((selected[\"predicted\"] == 1) & (selected[\"occupancy\"] == 1)).sum()\n",
    "fp = ((selected[\"predicted\"] == 1) & (selected[\"occupancy\"] == 0)).sum()\n",
    "fn = ((selected[\"predicted\"] == 0) & (selected[\"occupancy\"] == 1)).sum()\n",
    "tn = ((selected[\"predicted\"] == 0) & (selected[\"occupancy\"] == 0)).sum()\n",
    "\n",
    "# Rates\n",
    "tpr = tp / (tp + fn) if (tp + fn) > 0 else 0\n",
    "fpr = fp / (fp + tn) if (fp + tn) > 0 else 0\n",
    "\n",
    "# Print results\n",
    "print(f\"True Positives: {tp}\")\n",
    "print(f\"False Positives: {fp}\")\n",
    "print(f\"Total Actual Positives: {tp + fn}\")\n",
    "print(f\"True Positive Rate (TPR): {tpr:.3f} ({tp} over {tp+fn})\")\n",
    "print(f\"False Positive Rate (FPR): {fpr:.3f} ({fp} over {fp+tn})\")\n"
   ]
  }
 ],
 "metadata": {
  "kernelspec": {
   "display_name": "analysis",
   "language": "python",
   "name": "python3"
  },
  "language_info": {
   "codemirror_mode": {
    "name": "ipython",
    "version": 3
   },
   "file_extension": ".py",
   "mimetype": "text/x-python",
   "name": "python",
   "nbconvert_exporter": "python",
   "pygments_lexer": "ipython3",
   "version": "3.10.13"
  }
 },
 "nbformat": 4,
 "nbformat_minor": 5
}
