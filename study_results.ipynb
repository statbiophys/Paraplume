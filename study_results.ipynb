{
 "cells": [
  {
   "cell_type": "code",
   "execution_count": 21,
   "metadata": {},
   "outputs": [],
   "source": [
    "import pandas as pd\n",
    "from sklearn.metrics import (\n",
    "    average_precision_score,roc_auc_score\n",
    ")\n",
    "import numpy as np\n"
   ]
  },
  {
   "cell_type": "code",
   "execution_count": 22,
   "metadata": {},
   "outputs": [],
   "source": [
    "cdr1 = list(range(27, 38 + 1))\n",
    "cdr2=list(range(56, 65 + 1))\n",
    "cdr3=list(range(105, 117 + 1))\n",
    "cdrs = cdr1 + cdr2 + cdr3\n",
    "all=list(range(129))\n",
    "framework = [each for each in all if each not in cdrs]\n",
    "def get_ap_scores(predictions, column=\"prediction\"):\n",
    "    cdr_ranges = {\n",
    "    \"CDR1\": cdr1,\n",
    "    \"CDR2\": cdr2,\n",
    "    \"CDR3\": cdr3,\n",
    "    }\n",
    "    ap_scores = {}\n",
    "\n",
    "    for cdr_name, cdr_range in cdr_ranges.items():\n",
    "        preds_cdr = predictions.query(\"IMGT_bis in @cdr_range and chain_type=='light'\")[column].tolist()\n",
    "        labs_cdr = predictions.query(\"IMGT_bis in @cdr_range and chain_type=='light'\")[\"labels\"].tolist()\n",
    "        ap_scores[f\"{cdr_name} light\"] = average_precision_score(labs_cdr, preds_cdr)\n",
    "        preds_cdr = predictions.query(\"IMGT_bis in @cdr_range and chain_type=='heavy'\")[column].tolist()\n",
    "        labs_cdr = predictions.query(\"IMGT_bis in @cdr_range and chain_type=='heavy'\")[\"labels\"].tolist()\n",
    "        ap_scores[f\"{cdr_name} heavy\"] = average_precision_score(labs_cdr, preds_cdr)\n",
    "\n",
    "    for name, range in zip([\"CDRs\",\"Framework\",\"Whole sequence\"],[cdrs,framework, all]):\n",
    "        preds_cdr = predictions.query(\"IMGT_bis in @range\")[column].tolist()\n",
    "        labs_cdr = predictions.query(\"IMGT_bis in @range\")[\"labels\"].tolist()\n",
    "        ap_scores[name] = average_precision_score(labs_cdr, preds_cdr)\n",
    "\n",
    "    return ap_scores\n",
    "def get_roc_scores(predictions, column=\"prediction\"):\n",
    "    cdr_ranges = {\n",
    "    \"CDR1\": cdr1,\n",
    "    \"CDR2\": cdr2,\n",
    "    \"CDR3\": cdr3,\n",
    "    }\n",
    "    ap_scores = {}\n",
    "\n",
    "    for cdr_name, cdr_range in cdr_ranges.items():\n",
    "        preds_cdr = predictions.query(\"IMGT_bis in @cdr_range and chain_type=='light'\")[column].tolist()\n",
    "        labs_cdr = predictions.query(\"IMGT_bis in @cdr_range and chain_type=='light'\")[\"labels\"].tolist()\n",
    "        ap_scores[f\"{cdr_name} light\"] = roc_auc_score(labs_cdr, preds_cdr)\n",
    "        preds_cdr = predictions.query(\"IMGT_bis in @cdr_range and chain_type=='heavy'\")[column].tolist()\n",
    "        labs_cdr = predictions.query(\"IMGT_bis in @cdr_range and chain_type=='heavy'\")[\"labels\"].tolist()\n",
    "        ap_scores[f\"{cdr_name} heavy\"] = roc_auc_score(labs_cdr, preds_cdr)\n",
    "\n",
    "    for name, range in zip([\"CDRs\",\"Framework\",\"Whole sequence\"],[cdrs,framework, all]):\n",
    "        preds_cdr = predictions.query(\"IMGT_bis in @range\")[column].tolist()\n",
    "        labs_cdr = predictions.query(\"IMGT_bis in @range\")[\"labels\"].tolist()\n",
    "        ap_scores[name] = roc_auc_score(labs_cdr, preds_cdr)\n",
    "\n",
    "    return ap_scores\n"
   ]
  },
  {
   "cell_type": "markdown",
   "metadata": {},
   "source": [
    "# LLM / Paragraph / combined"
   ]
  },
  {
   "cell_type": "code",
   "execution_count": 23,
   "metadata": {},
   "outputs": [],
   "source": [
    "\n",
    "llm_path = \"/home/athenes/benchmark/paragraph/241226/lr-0.00001_dr-0.4,0.4,0.4_mk-0.4_bs-16_dim1-2000,1000,500_alphas-4,5,6_pen-0.00001_weight_1_multi___emb_all_seed_15/prediction_test_set.csv\"\n",
    "paragraph_path=\"/home/athenes/benchmark/graph/paragraph_241223/lr-0.00001_dr-0_mk-0_depth-6_pen-0_emb_esm,prot-t5_lin_dim-10,10_graph_distance-10/prediction.csv\"\n"
   ]
  },
  {
   "cell_type": "code",
   "execution_count": 36,
   "metadata": {},
   "outputs": [],
   "source": [
    "def get_ap_roc_df(llm_path,paragraph_path):\n",
    "    predictions_llm = pd.read_csv(llm_path)\n",
    "    predictions_llm[\"IMGT_bis\"] = predictions_llm[\"IMGT\"].str.replace(r'[a-zA-Z]$', '', regex=True).astype(int)\n",
    "    predictions_paragraph = pd.read_csv(paragraph_path)\n",
    "    predictions_paragraph[\"IMGT_bis\"] = predictions_paragraph[\"IMGT\"].str.replace(r'[a-zA-Z]$', '', regex=True).astype(int)\n",
    "    combined = pd.merge(predictions_llm, predictions_paragraph[['pdb', 'IMGT', 'chain_type', 'prediction']],\n",
    "                        on=[\"pdb\", \"IMGT\", \"chain_type\"],\n",
    "                        how=\"left\",\n",
    "                        suffixes=(\"_llm\", \"_paragraph\"))\n",
    "    combined[\"prediction\"] = np.where(\n",
    "        combined[\"prediction_paragraph\"].notna(),\n",
    "        combined[\"prediction_paragraph\"],\n",
    "        combined[\"prediction_llm\"]\n",
    "    )\n",
    "    combined[\"prediction_paragraph\"] = np.where(\n",
    "        combined[\"prediction_paragraph\"].notna(),\n",
    "        combined[\"prediction_paragraph\"],\n",
    "        0\n",
    "    )\n",
    "    ap_dict={}\n",
    "    ap_dict[\"LLM\"] = get_ap_scores(combined, column=\"prediction_llm\")\n",
    "    ap_dict[\"Paragraph\"] = get_ap_scores(combined, column=\"prediction_paragraph\")\n",
    "    ap_dict[\"Combined\"] = get_ap_scores(combined, column=\"prediction\")\n",
    "    roc_dict={}\n",
    "    roc_dict[\"LLM\"] = get_roc_scores(combined, column=\"prediction_llm\")\n",
    "    roc_dict[\"Paragraph\"] = get_roc_scores(combined, column=\"prediction_paragraph\")\n",
    "    roc_dict[\"Combined\"] = get_roc_scores(combined, column=\"prediction\")\n",
    "    ap_df = pd.DataFrame(ap_dict)\n",
    "    roc_df = pd.DataFrame(roc_dict)\n",
    "    return ap_df, roc_df\n"
   ]
  },
  {
   "cell_type": "code",
   "execution_count": 37,
   "metadata": {},
   "outputs": [],
   "source": [
    "ap_df_list = []\n",
    "roc_df_list=[]\n",
    "for seed in range(1,17):\n",
    "    llm_path = f\"/home/athenes/benchmark2/paragraph/250106/lr-0.00001_dr-0.4,0.4,0.4_mk-0.2_bs-16_dim1-2000,1000,500_alphas-4,5,6_pen-0.00001_weight_1_multi___emb_all_seed_{seed}/prediction_test_set.csv\"\n",
    "    paragraph_path=f\"/home/athenes/benchmark2/3D_paragraph/one-hot/{seed}/prediction_abb3.csv\"\n",
    "    ap_df, roc_df = get_ap_roc_df(llm_path,paragraph_path)\n",
    "    ap_df_list.append(ap_df)\n",
    "    roc_df_list.append(roc_df)\n",
    "final_abb3_ap = sum(ap_df_list)/len(ap_df_list)\n",
    "final_abb3_roc = sum(roc_df_list)/len(roc_df_list)\n"
   ]
  },
  {
   "cell_type": "code",
   "execution_count": 38,
   "metadata": {},
   "outputs": [],
   "source": [
    "ap_df_list = []\n",
    "roc_df_list=[]\n",
    "for seed in range(1,17):\n",
    "    llm_path = f\"/home/athenes/benchmark2/paragraph/250106/lr-0.00001_dr-0.4,0.4,0.4_mk-0.2_bs-16_dim1-2000,1000,500_alphas-4,5,6_pen-0.00001_weight_1_multi___emb_all_seed_{seed}/prediction_test_set.csv\"\n",
    "    paragraph_path=f\"/home/athenes/benchmark2/3D_paragraph/one-hot/{seed}/prediction_.csv\"\n",
    "    ap_df, roc_df = get_ap_roc_df(llm_path,paragraph_path)\n",
    "    ap_df_list.append(ap_df)\n",
    "    roc_df_list.append(roc_df)\n",
    "final_crystal_ap = sum(ap_df_list)/len(ap_df_list)\n",
    "final_crystal_roc = sum(roc_df_list)/len(roc_df_list)\n"
   ]
  },
  {
   "cell_type": "code",
   "execution_count": 39,
   "metadata": {},
   "outputs": [
    {
     "name": "stdout",
     "output_type": "stream",
     "text": [
      "                     LLM  Paragraph  Combined\n",
      "CDRs            0.771617   0.779981  0.779843\n",
      "Framework       0.555931   0.407509  0.541183\n",
      "Whole sequence  0.742213   0.722582  0.746903\n",
      "                     LLM  Paragraph  Combined\n",
      "CDRs            0.871009   0.871299  0.871193\n",
      "Framework       0.966327   0.766798  0.961907\n",
      "Whole sequence  0.966458   0.933710  0.965233\n"
     ]
    }
   ],
   "source": [
    "print(final_abb3_ap[-3:])\n",
    "print(final_abb3_roc[-3:])\n"
   ]
  },
  {
   "cell_type": "code",
   "execution_count": 40,
   "metadata": {},
   "outputs": [
    {
     "name": "stdout",
     "output_type": "stream",
     "text": [
      "                     LLM  Paragraph  Combined\n",
      "CDRs            0.771617   0.804365  0.804365\n",
      "Framework       0.555931   0.437125  0.573009\n",
      "Whole sequence  0.742213   0.747320  0.772229\n",
      "                     LLM  Paragraph  Combined\n",
      "CDRs            0.871009   0.884247  0.884247\n",
      "Framework       0.966327   0.767355  0.962992\n",
      "Whole sequence  0.966458   0.936074  0.967905\n"
     ]
    }
   ],
   "source": [
    "print(final_crystal_ap[-3:])\n",
    "print(final_crystal_roc[-3:])\n"
   ]
  },
  {
   "cell_type": "code",
   "execution_count": null,
   "metadata": {},
   "outputs": [],
   "source": []
  }
 ],
 "metadata": {
  "kernelspec": {
   "display_name": "analysis",
   "language": "python",
   "name": "python3"
  },
  "language_info": {
   "codemirror_mode": {
    "name": "ipython",
    "version": 3
   },
   "file_extension": ".py",
   "mimetype": "text/x-python",
   "name": "python",
   "nbconvert_exporter": "python",
   "pygments_lexer": "ipython3",
   "version": "3.10.13"
  }
 },
 "nbformat": 4,
 "nbformat_minor": 2
}
