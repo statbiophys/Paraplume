{
 "cells": [
  {
   "cell_type": "code",
   "execution_count": 2,
   "metadata": {},
   "outputs": [],
   "source": [
    "import pandas as pd"
   ]
  },
  {
   "cell_type": "code",
   "execution_count": 5,
   "metadata": {},
   "outputs": [],
   "source": [
    "df = pd.read_csv(\"/home/athenes/Paraplume/data_with_scripts/speed_tests/paragraph.csv\")"
   ]
  },
  {
   "cell_type": "code",
   "execution_count": 6,
   "metadata": {},
   "outputs": [],
   "source": [
    "df[:1].to_csv(\"/home/athenes/Paraplume/data_with_scripts/speed_tests/paragraph1.csv\")\n",
    "df[:10].to_csv(\"/home/athenes/Paraplume/data_with_scripts/speed_tests/paragraph10.csv\")\n",
    "df[:100].to_csv(\"/home/athenes/Paraplume/data_with_scripts/speed_tests/paragraph100.csv\")\n",
    "df[:1000].to_csv(\"/home/athenes/Paraplume/data_with_scripts/speed_tests/paragraph1000.csv\")\n",
    "df[:10000].to_csv(\"/home/athenes/Paraplume/data_with_scripts/speed_tests/paragraph10000.csv\")\n",
    "df[:100000].to_csv(\"/home/athenes/Paraplume/data_with_scripts/speed_tests/paragraph100000.csv\")"
   ]
  }
 ],
 "metadata": {
  "kernelspec": {
   "display_name": "analysis",
   "language": "python",
   "name": "python3"
  },
  "language_info": {
   "codemirror_mode": {
    "name": "ipython",
    "version": 3
   },
   "file_extension": ".py",
   "mimetype": "text/x-python",
   "name": "python",
   "nbconvert_exporter": "python",
   "pygments_lexer": "ipython3",
   "version": "3.10.13"
  }
 },
 "nbformat": 4,
 "nbformat_minor": 2
}
