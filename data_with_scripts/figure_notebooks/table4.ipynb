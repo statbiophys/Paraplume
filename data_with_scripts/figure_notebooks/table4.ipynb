{
 "cells": [
  {
   "cell_type": "code",
   "execution_count": 1,
   "metadata": {},
   "outputs": [],
   "source": [
    "import pandas as pd\n",
    "from pathlib import Path\n",
    "import json\n"
   ]
  },
  {
   "cell_type": "markdown",
   "metadata": {},
   "source": [
    "# affinity"
   ]
  },
  {
   "cell_type": "code",
   "execution_count": 2,
   "metadata": {},
   "outputs": [],
   "source": [
    "benchmark=Path(\"/home/athenes/Paraplume/data_with_scripts/sequence_representation/affinity/results\")\n"
   ]
  },
  {
   "cell_type": "code",
   "execution_count": 3,
   "metadata": {},
   "outputs": [],
   "source": [
    "records=[]\n",
    "for file in benchmark.rglob(\"*.json\"):\n",
    "    with open(file) as f:\n",
    "        data=json.load(f)\n",
    "    data= {k: v for k, v in data.items() if k in [\"llm\",\"sequence_embedding\",\"r2\"]}\n",
    "    data[\"dataset\"]=file.parents[0].stem.split(\"_\")[0]\n",
    "    records.append(data)\n"
   ]
  },
  {
   "cell_type": "code",
   "execution_count": 4,
   "metadata": {},
   "outputs": [],
   "source": [
    "df=pd.DataFrame.from_records(records)\n"
   ]
  },
  {
   "cell_type": "code",
   "execution_count": 5,
   "metadata": {},
   "outputs": [
    {
     "name": "stdout",
     "output_type": "stream",
     "text": [
      "      sequence_embedding        r2        llm         dataset\n",
      "31  embeddings_classical  0.384687    ablang2      Warszawski\n",
      "4   embeddings_classical  0.259480    ablang2          Koenig\n",
      "26  embeddings_classical  0.276593    ablang2  Shanehsazzadeh\n",
      "24   embeddings_paratope  0.335107    ablang2  Shanehsazzadeh\n",
      "11   embeddings_paratope  0.345738    ablang2      Warszawski\n",
      "13   embeddings_paratope  0.238973    ablang2          Koenig\n",
      "30   embeddings_paratope  0.258743  antiberty      Warszawski\n",
      "25   embeddings_paratope  0.312584  antiberty  Shanehsazzadeh\n",
      "8    embeddings_paratope  0.235559  antiberty          Koenig\n",
      "10  embeddings_classical  0.196790  antiberty          Koenig\n",
      "12  embeddings_classical  0.169295  antiberty      Warszawski\n",
      "20  embeddings_classical  0.288733  antiberty  Shanehsazzadeh\n",
      "0   embeddings_classical  0.305266        esm          Koenig\n",
      "33   embeddings_paratope  0.379757        esm      Warszawski\n",
      "29   embeddings_paratope  0.310837        esm          Koenig\n",
      "22   embeddings_paratope  0.311778        esm  Shanehsazzadeh\n",
      "35  embeddings_classical  0.306897        esm  Shanehsazzadeh\n",
      "5   embeddings_classical  0.334125        esm      Warszawski\n",
      "15   embeddings_paratope  0.405006       igT5      Warszawski\n",
      "21  embeddings_classical  0.301067       igT5          Koenig\n",
      "9   embeddings_classical  0.469585       igT5      Warszawski\n",
      "27  embeddings_classical  0.336415       igT5  Shanehsazzadeh\n",
      "28   embeddings_paratope  0.270054       igT5          Koenig\n",
      "3    embeddings_paratope  0.329057       igT5  Shanehsazzadeh\n",
      "34  embeddings_classical  0.337856     igbert  Shanehsazzadeh\n",
      "19   embeddings_paratope  0.291716     igbert          Koenig\n",
      "32   embeddings_paratope  0.341561     igbert  Shanehsazzadeh\n",
      "23   embeddings_paratope  0.408734     igbert      Warszawski\n",
      "7   embeddings_classical  0.418817     igbert      Warszawski\n",
      "16  embeddings_classical  0.288760     igbert          Koenig\n",
      "1   embeddings_classical  0.293702    prot-t5          Koenig\n",
      "6   embeddings_classical  0.310565    prot-t5  Shanehsazzadeh\n",
      "14   embeddings_paratope  0.397295    prot-t5      Warszawski\n",
      "18  embeddings_classical  0.390929    prot-t5      Warszawski\n",
      "2    embeddings_paratope  0.327230    prot-t5  Shanehsazzadeh\n",
      "17   embeddings_paratope  0.321538    prot-t5          Koenig\n"
     ]
    }
   ],
   "source": [
    "print(df.sort_values(\"llm\"))"
   ]
  },
  {
   "cell_type": "markdown",
   "metadata": {},
   "source": [
    "# expression"
   ]
  },
  {
   "cell_type": "code",
   "execution_count": 6,
   "metadata": {},
   "outputs": [
    {
     "name": "stdout",
     "output_type": "stream",
     "text": [
      "   dataset        llm    sequence_embedding        r2\n",
      "0   Koenig    ablang2  embeddings_classical  0.581298\n",
      "1   Koenig    ablang2   embeddings_paratope  0.450048\n",
      "2   Koenig  antiberty  embeddings_classical  0.357854\n",
      "3   Koenig  antiberty   embeddings_paratope  0.438941\n",
      "4   Koenig        esm  embeddings_classical  0.678021\n",
      "5   Koenig        esm   embeddings_paratope  0.655849\n",
      "6   Koenig       igT5  embeddings_classical  0.639468\n",
      "7   Koenig       igT5   embeddings_paratope  0.516523\n",
      "8   Koenig     igbert  embeddings_classical  0.609798\n",
      "9   Koenig     igbert   embeddings_paratope  0.594934\n",
      "10  Koenig    prot-t5  embeddings_classical  0.716093\n",
      "11  Koenig    prot-t5   embeddings_paratope  0.681159\n"
     ]
    }
   ],
   "source": [
    "benchmark=Path(\"/home/athenes/Paraplume/data_with_scripts/sequence_representation/expression/results\")\n",
    "\n",
    "records=[]\n",
    "for file in benchmark.rglob(\"*.json\"):\n",
    "    with open(file) as f:\n",
    "        data=json.load(f)\n",
    "    data= {k: v for k, v in data.items()}\n",
    "    data[\"dataset\"]=file.parents[0].stem.split(\"_\")[0]\n",
    "    records.append(data)\n",
    "\n",
    "df=pd.DataFrame.from_records(records)\n",
    "\n",
    "print(df.query(\"fold_seed==1\").groupby([\"dataset\",\"llm\",\"sequence_embedding\"])[\"r2\"].mean().reset_index())"
   ]
  }
 ],
 "metadata": {
  "kernelspec": {
   "display_name": "analysis",
   "language": "python",
   "name": "python3"
  },
  "language_info": {
   "codemirror_mode": {
    "name": "ipython",
    "version": 3
   },
   "file_extension": ".py",
   "mimetype": "text/x-python",
   "name": "python",
   "nbconvert_exporter": "python",
   "pygments_lexer": "ipython3",
   "version": "3.10.13"
  }
 },
 "nbformat": 4,
 "nbformat_minor": 2
}
