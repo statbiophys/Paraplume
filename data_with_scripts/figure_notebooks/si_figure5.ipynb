{
 "cells": [
  {
   "cell_type": "code",
   "execution_count": 1,
   "metadata": {},
   "outputs": [
    {
     "name": "stdout",
     "output_type": "stream",
     "text": [
      "INFO: Pandarallel will run on 48 workers.\n",
      "INFO: Pandarallel will use Memory file system to transfer data between the main process and workers.\n"
     ]
    }
   ],
   "source": [
    "import pandas as pd\n",
    "import numpy as np\n",
    "import seaborn as sns\n",
    "import matplotlib.pyplot as plt\n",
    "from mpl_toolkits.axes_grid1 import make_axes_locatable\n",
    "import matplotlib.pyplot as plt\n",
    "from scipy.stats import pearsonr\n",
    "from pandarallel import pandarallel\n",
    "pandarallel.initialize()\n"
   ]
  },
  {
   "cell_type": "markdown",
   "metadata": {},
   "source": [
    "# functions"
   ]
  },
  {
   "cell_type": "code",
   "execution_count": 2,
   "metadata": {},
   "outputs": [],
   "source": [
    "def calculate_mutations(row):\n",
    "    heavy_mutations = np.sum([row[\"germline_heavy\"][i]!=row[\"sequence_heavy\"][i] for i in range(min(len(row[\"sequence_heavy\"]), len(row[\"germline_heavy\"])))])\n",
    "    light_mutations = np.sum([row[\"germline_light\"][i]!=row[\"sequence_light\"][i] for i in range(min(len(row[\"sequence_light\"]), len(row[\"germline_light\"])))])\n",
    "    return heavy_mutations + light_mutations\n"
   ]
  },
  {
   "cell_type": "markdown",
   "metadata": {},
   "source": [
    "# data"
   ]
  },
  {
   "cell_type": "code",
   "execution_count": 3,
   "metadata": {},
   "outputs": [],
   "source": [
    "immunized_sequences = pd.read_pickle(\"/home/athenes/paratope_clustering/saber/250326/tt_whole_seq/paratope_tt_mutations_sequences.pkl\")\n",
    "immunized_germlines = pd.read_pickle(\"/home/athenes/paratope_clustering/saber/250326/tt_whole_seq/paratope_tt_mutations_germline.pkl\")\n",
    "naive_sequences = pd.read_pickle(\"/home/athenes/paratope_clustering/saber/250326/naive_whole_seq/paratope_naive_sequences.pkl\")\n",
    "naive_germlines = pd.read_pickle(\"/home/athenes/paratope_clustering/saber/250326/naive_whole_seq/paratope_naive_germline.pkl\")\n"
   ]
  },
  {
   "cell_type": "code",
   "execution_count": 4,
   "metadata": {},
   "outputs": [],
   "source": [
    "immunized_sequences[\"paratope_size\"]=immunized_sequences[\"model_prediction_heavy\"].apply(lambda x:np.sum(x))+immunized_sequences[\"model_prediction_light\"].apply(lambda x:np.sum(x))\n",
    "immunized_sequences[\"normalized_paratope_size\"]=immunized_sequences[\"paratope_size\"]/(immunized_sequences.sequence_heavy.str.len()+immunized_sequences.sequence_light.str.len())\n",
    "naive_sequences[\"paratope_size\"]=naive_sequences[\"model_prediction_heavy\"].apply(lambda x:np.sum(x))+naive_sequences[\"model_prediction_light\"].apply(lambda x:np.sum(x))\n",
    "naive_sequences[\"normalized_paratope_size\"]=naive_sequences[\"paratope_size\"]/(naive_sequences.sequence_heavy.str.len()+naive_sequences.sequence_light.str.len())"
   ]
  },
  {
   "cell_type": "code",
   "execution_count": 5,
   "metadata": {},
   "outputs": [],
   "source": [
    "naive_sequences[\"paratope_size\"]=naive_sequences[\"model_prediction_heavy\"].apply(lambda x:np.sum(x))+naive_sequences[\"model_prediction_light\"].apply(lambda x:np.sum(x))\n",
    "naive_sequences[\"normalized_paratope_size\"]=naive_sequences[\"paratope_size\"]/(naive_sequences.sequence_heavy.str.len()+naive_sequences.sequence_light.str.len())"
   ]
  },
  {
   "cell_type": "code",
   "execution_count": 6,
   "metadata": {},
   "outputs": [],
   "source": [
    "naive_germlines[\"paratope_size\"]=naive_germlines[\"model_prediction_heavy\"].apply(lambda x:np.sum(x))+naive_germlines[\"model_prediction_light\"].apply(lambda x:np.sum(x))\n",
    "naive_germlines[\"normalized_paratope_size\"]=naive_germlines[\"paratope_size\"]/(naive_germlines.sequence_heavy.str.len()+naive_germlines.sequence_light.str.len())"
   ]
  },
  {
   "cell_type": "code",
   "execution_count": 7,
   "metadata": {},
   "outputs": [],
   "source": [
    "immunized_sequences[\"paratope_size\"]=immunized_sequences[\"model_prediction_heavy\"].apply(lambda x:np.sum(x))+immunized_sequences[\"model_prediction_light\"].apply(lambda x:np.sum(x))\n",
    "immunized_sequences[\"normalized_paratope_size\"]=immunized_sequences[\"paratope_size\"]/(immunized_sequences.sequence_heavy.str.len()+immunized_sequences.sequence_light.str.len())"
   ]
  },
  {
   "cell_type": "code",
   "execution_count": 8,
   "metadata": {},
   "outputs": [],
   "source": [
    "immunized_germlines[\"paratope_size\"]=immunized_germlines[\"model_prediction_heavy\"].apply(lambda x:np.sum(x))+immunized_germlines[\"model_prediction_light\"].apply(lambda x:np.sum(x))\n",
    "immunized_germlines[\"normalized_paratope_size\"]=immunized_germlines[\"paratope_size\"]/(immunized_germlines.sequence_heavy.str.len()+immunized_germlines.sequence_light.str.len())"
   ]
  },
  {
   "cell_type": "code",
   "execution_count": 9,
   "metadata": {},
   "outputs": [],
   "source": [
    "immunized_sequences[\"germline_heavy\"]=immunized_germlines[\"sequence_heavy\"]\n",
    "immunized_sequences[\"germline_light\"]=immunized_germlines[\"sequence_light\"]\n"
   ]
  },
  {
   "cell_type": "code",
   "execution_count": 10,
   "metadata": {},
   "outputs": [],
   "source": [
    "naive_sequences[\"germline_heavy\"]=naive_germlines[\"sequence_heavy\"]\n",
    "naive_sequences[\"germline_light\"]=naive_germlines[\"sequence_light\"]\n"
   ]
  },
  {
   "cell_type": "code",
   "execution_count": 11,
   "metadata": {},
   "outputs": [],
   "source": [
    "immunized_sequences[\"mutation_count\"]=immunized_sequences.apply(calculate_mutations, axis=1)\n",
    "naive_sequences[\"mutation_count\"]=naive_sequences.apply(calculate_mutations, axis=1)"
   ]
  },
  {
   "cell_type": "code",
   "execution_count": 12,
   "metadata": {},
   "outputs": [],
   "source": [
    "immunized_sequences[\"clone_size\"] = immunized_sequences.groupby(\"family\")[\"family\"].transform(\"count\")\n"
   ]
  },
  {
   "cell_type": "code",
   "execution_count": 13,
   "metadata": {},
   "outputs": [],
   "source": [
    "naive_sequences[\"clone_size\"] = naive_sequences.groupby(\"family\")[\"family\"].transform(\"count\")\n"
   ]
  },
  {
   "cell_type": "code",
   "execution_count": 14,
   "metadata": {},
   "outputs": [
    {
     "name": "stdout",
     "output_type": "stream",
     "text": [
      "0.920863309352518\n"
     ]
    }
   ],
   "source": [
    "print(len(immunized_sequences.query(\"clone_size>1\"))/len(immunized_sequences))"
   ]
  },
  {
   "cell_type": "code",
   "execution_count": 15,
   "metadata": {},
   "outputs": [
    {
     "name": "stdout",
     "output_type": "stream",
     "text": [
      "0.10285220397579949\n"
     ]
    }
   ],
   "source": [
    "print(len(naive_sequences.query(\"clone_size>1\"))/len(naive_sequences))"
   ]
  },
  {
   "cell_type": "code",
   "execution_count": 16,
   "metadata": {},
   "outputs": [
    {
     "name": "stdout",
     "output_type": "stream",
     "text": [
      "0       QVQLQQPGAELVKPGASVKLSCKASGYTFTSYWMHWVKQRPGQGLE...\n",
      "1       EVQLQQSGPELVKPGASVKIPCKASGYTFTDYNMDWVKQSHGKSLE...\n",
      "2       QVQLQQSGPELVKPGASVKISCKASGYSFTSYYIHWVKQRPGQGLE...\n",
      "3       EFQLQQSGPELVKPGASVKMSCKASGYTFTSYVMHWVKQKPGQGLE...\n",
      "4       QVQLQQSGAELMKPGASVKLSCKATGYTFTGYWIEWVKQRPGHGLE...\n",
      "                              ...                        \n",
      "1152    EVKLVESGGGLVQPGGSLRLSCATSGFTFTDYYMSWVRQPPGKALE...\n",
      "1153    EVKLVESGGGLVQPGGSLRLSCATSGFTFTDYYMSWVRQPPGKALE...\n",
      "1154    EVQLVESGGGLVQPKGSLKLSCAASGFTFNTYAMNWVRQAPGKGLE...\n",
      "1155    EVQLVESGGGLVQPKGSLKLSCAASVFTFNTYAMHWVCQAPGKGLE...\n",
      "1156    LVKTGASVKISCKASGYSFTGYYMHWVKQSHGKSLEWIGYISCYNG...\n",
      "Name: germline_heavy, Length: 1157, dtype: object\n"
     ]
    }
   ],
   "source": [
    "print(naive_sequences[\"germline_heavy\"])"
   ]
  },
  {
   "cell_type": "markdown",
   "metadata": {},
   "source": [
    "# results"
   ]
  },
  {
   "cell_type": "code",
   "execution_count": 17,
   "metadata": {},
   "outputs": [],
   "source": [
    "plt.rcParams.update({\n",
    "    \"axes.titlesize\": 38,\n",
    "    \"axes.labelsize\": 35,\n",
    "    \"xtick.labelsize\": 32,\n",
    "    \"ytick.labelsize\": 32,\n",
    "    \"legend.fontsize\": 33,\n",
    "    \"text.usetex\": True,\n",
    "    \"font.family\": \"serif\",\n",
    "    \"font.serif\": [\"Computer Modern\"],\n",
    "})\n",
    "FONT=28"
   ]
  },
  {
   "cell_type": "code",
   "execution_count": 22,
   "metadata": {},
   "outputs": [
    {
     "data": {
      "image/png": "[encoded data removed]",
      "text/plain": [
       "<Figure size 1800x700 with 2 Axes>"
      ]
     },
     "metadata": {},
     "output_type": "display_data"
    }
   ],
   "source": [
    "import matplotlib.pyplot as plt\n",
    "import seaborn as sns\n",
    "\n",
    "# Set up the figure and subplots\n",
    "fig, axs = plt.subplots(1, 2, figsize=(18, 7), sharey=True)\n",
    "\n",
    "# Left subplot: Immunized\n",
    "sns.histplot(\n",
    "    immunized_sequences.query(\"mutation_count < 21\"),\n",
    "    x=\"mutation_count\",\n",
    "    bins=20,\n",
    "    stat=\"density\",\n",
    "    color=\"darkblue\",\n",
    "    ax=axs[0]\n",
    ")\n",
    "axs[0].set_title(\"Immunized\")\n",
    "axs[0].set_xlabel(\"AA mutation count\")\n",
    "axs[0].set_ylabel(\"Frequency\")\n",
    "axs[0].set_xlim([0, 20])\n",
    "\n",
    "# Right subplot: Naive\n",
    "sns.histplot(\n",
    "    naive_sequences.query(\"mutation_count < 21\"),\n",
    "    x=\"mutation_count\",\n",
    "    bins=20,\n",
    "    stat=\"density\",\n",
    "    color=\"darkblue\",\n",
    "    ax=axs[1]\n",
    ")\n",
    "axs[1].set_title(\"Naive\")\n",
    "axs[1].set_xlabel(\"AA mutation count\")\n",
    "axs[1].set_xlim([0, 20])\n",
    "\n",
    "# Adjust layout and save\n",
    "plt.tight_layout()\n",
    "plt.savefig(\"/home/athenes/Paraplume/data_with_scripts/plots/si_figure5.png\", bbox_inches='tight', dpi=300)\n",
    "plt.show()\n"
   ]
  }
 ],
 "metadata": {
  "kernelspec": {
   "display_name": "analysis",
   "language": "python",
   "name": "python3"
  },
  "language_info": {
   "codemirror_mode": {
    "name": "ipython",
    "version": 3
   },
   "file_extension": ".py",
   "mimetype": "text/x-python",
   "name": "python",
   "nbconvert_exporter": "python",
   "pygments_lexer": "ipython3",
   "version": "3.10.13"
  }
 },
 "nbformat": 4,
 "nbformat_minor": 2
}
