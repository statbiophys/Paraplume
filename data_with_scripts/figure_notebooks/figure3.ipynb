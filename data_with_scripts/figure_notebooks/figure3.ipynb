{
 "cells": [
  {
   "cell_type": "code",
   "execution_count": 1,
   "metadata": {},
   "outputs": [],
   "source": [
    "import numpy as np\n",
    "import pandas as pd\n",
    "import matplotlib.pyplot as plt\n",
    "from collections import defaultdict\n",
    "import sys\n",
    "sys.setrecursionlimit(100000)\n",
    "def rec_dd():\n",
    "    return defaultdict(rec_dd)\n",
    "import numpy as np\n",
    "import matplotlib.pyplot as plt\n",
    "import seaborn as sns\n",
    "import scipy.stats as stats\n",
    "from matplotlib.ticker import MaxNLocator\n",
    "from scipy import stats\n",
    "plt.rcParams.update({\n",
    "    \"axes.titlesize\": 26,    # Font size for axes titles\n",
    "    \"axes.labelsize\": 25,    # Font size for axes labels\n",
    "    \"xtick.labelsize\": 20,   # Font size for x-axis tick labels\n",
    "    \"ytick.labelsize\": 20,   # Font size for y-axis tick labels\n",
    "    \"legend.fontsize\": 26,   # Font size for legend\n",
    "    \"text.usetex\": True,\n",
    "    \"font.family\": \"serif\",\n",
    "    \"font.serif\": [\"Computer Modern\"],\n",
    "})\n",
    "from matplotlib.transforms import Bbox\n"
   ]
  },
  {
   "cell_type": "markdown",
   "metadata": {},
   "source": [
    "# function"
   ]
  },
  {
   "cell_type": "code",
   "execution_count": 2,
   "metadata": {},
   "outputs": [],
   "source": [
    "def plot_ax(data, ax, x_axis=\"resolution\", y_axis=\"error\", title=\"\", legend=True, color=\"red\", regplot=True, label=\"\", x_pos=0.05, y_pos=0.95):\n",
    "    ax.scatter(\n",
    "        data[x_axis],\n",
    "        data[y_axis],\n",
    "        c=color,\n",
    "        s=10,\n",
    "        label=label,\n",
    "    )\n",
    "    r_value = stats.pearsonr(data[x_axis], data[y_axis]).statistic\n",
    "\n",
    "    if regplot:\n",
    "        # Compute the regression line manually\n",
    "        slope, intercept, _, _, _ = stats.linregress(data[x_axis], data[y_axis])\n",
    "        # Extend the regression line across the entire x-axis\n",
    "        x_range = np.linspace(data[x_axis].min(), data[x_axis].max(), 500)\n",
    "        y_range = slope * x_range + intercept\n",
    "\n",
    "        ax.plot(\n",
    "            x_range,\n",
    "            y_range,\n",
    "            color=color,\n",
    "            linestyle=\"--\",\n",
    "            label=f\"Regression Line {label}\",\n",
    "        )\n",
    "\n",
    "    # Add the R-value as text on the plot\n",
    "    ax.text(\n",
    "        x_pos, y_pos,  # Position (adjust based on your plot)\n",
    "        f\"$r = {r_value:.2f}$\",  # Format the R-value to 2 decimal places\n",
    "        transform=ax.transAxes,  # Coordinate system for text placement\n",
    "        fontsize=20,\n",
    "        verticalalignment='top',\n",
    "    )\n",
    "    ax.set_xlabel(x_axis)\n",
    "    ax.set_ylabel(y_axis)\n",
    "    if legend :\n",
    "        ax.set_title(title)\n",
    "        ax.legend()\n",
    "        ax.legend(loc='upper right')\n",
    "    return ax\n"
   ]
  },
  {
   "cell_type": "markdown",
   "metadata": {},
   "source": [
    "# Read data"
   ]
  },
  {
   "cell_type": "code",
   "execution_count": 3,
   "metadata": {},
   "outputs": [
    {
     "name": "stdout",
     "output_type": "stream",
     "text": [
      "8697\n",
      "5314\n",
      "4051\n",
      "1228\n",
      "1122\n"
     ]
    }
   ],
   "source": [
    "total_summary_epitope=pd.read_csv(\n",
    "    \"/home/gabrielathenes/Documents/all_structures/error_summary_250212_antigen.csv\"\n",
    ")\n",
    "total_summary_paratope=pd.read_csv(\"/home/gabrielathenes/Documents/all_structures/error_summary_250212_antibody.csv\")\n",
    "\n",
    "data = pd.read_csv(\n",
    "    \"/home/gabrielathenes/Documents/all_structures/sabdab_summary_all.tsv\",\n",
    "    sep=\"\\t\",\n",
    ")\n",
    "print(len(data[\"pdb\"].unique()))\n",
    "data = data.query(\"resolution not in(['NOT','3.9, 3.9','8.9, 8.9'])\")\n",
    "data = data.astype({\"resolution\": float})\n",
    "data = data.query(\n",
    "    \"antigen_type.isin(['peptide','protein'])\"\n",
    ")\n",
    "print(len(data[\"pdb\"].unique()))\n",
    "data=data.dropna(subset=[\"Hchain\", \"Lchain\"])\n",
    "nanobodies = data[(data[\"Hchain\"].str.contains(r'[a-z]') | data[\"Lchain\"].str.contains(r'[a-z]'))][\"pdb\"].unique()\n",
    "data=data.query(\"pdb not in @nanobodies\")\n",
    "print(len(data[\"pdb\"].unique()))\n",
    "data[\"group_size\"] = data.groupby(\"pdb\")[\"pdb\"].transform('size')\n",
    "data=data.query(\"group_size==2\")\n",
    "print(len(data[\"pdb\"].unique()))\n",
    "\n",
    "aacdb = pd.read_csv('/home/gabrielathenes/Documents/all_structures/antigen_antibody_data.csv')\n",
    "duplicated_pdbs = aacdb.groupby(\"pdb\").agg({\"antibody\": \"nunique\", \"protein\": \"nunique\"})\n",
    "duplicated_pdbs = duplicated_pdbs[(duplicated_pdbs[\"antibody\"] > 1) | (duplicated_pdbs[\"protein\"] > 1)].index\n",
    "result = aacdb[aacdb[\"pdb\"].isin(duplicated_pdbs)]\n",
    "pdbs = result[\"pdb\"].str.lower().unique()\n",
    "\n",
    "data=data.query(\"pdb not in @pdbs\")\n",
    "print(len(data[\"pdb\"].unique()))\n"
   ]
  },
  {
   "cell_type": "code",
   "execution_count": 4,
   "metadata": {},
   "outputs": [],
   "source": [
    "for column in ['distance', 'error','error_normalized', 'epitope_size']:\n",
    "    dict_to_use = total_summary_epitope.set_index(\"pdb\")[column].to_dict()\n",
    "    data[f\"{column}_antigen\"] = data[\"pdb\"].map(dict_to_use)\n",
    "total_summary_h = total_summary_paratope.query(\"chain=='Hchain'\")\n",
    "total_summary_l = total_summary_paratope.query(\"chain=='Lchain'\")\n",
    "for column in ['distance', 'error','error_normalized', 'paratope_size']:\n",
    "    dict_to_use = total_summary_h.set_index(\"pdb\")[column].to_dict()\n",
    "    data[f\"{column}_Hchain\"] = data[\"pdb\"].map(dict_to_use)\n",
    "    dict_to_use = total_summary_l.set_index(\"pdb\")[column].to_dict()\n",
    "    data[f\"{column}_Lchain\"] = data[\"pdb\"].map(dict_to_use)\n",
    "data[\"paratope_size\"]=data[\"paratope_size_Hchain\"]+data[\"paratope_size_Lchain\"]\n",
    "data[\"distance_antibody\"]=data[\"distance_Hchain\"]+data[\"distance_Lchain\"]\n",
    "data[\"error_paratope\"]=data[\"error_Hchain\"]+data[\"error_Lchain\"]\n"
   ]
  },
  {
   "cell_type": "code",
   "execution_count": 5,
   "metadata": {},
   "outputs": [
    {
     "name": "stderr",
     "output_type": "stream",
     "text": [
      "/tmp/ipykernel_300485/1317865293.py:2: SettingWithCopyWarning: \n",
      "A value is trying to be set on a copy of a slice from a DataFrame.\n",
      "Try using .loc[row_indexer,col_indexer] = value instead\n",
      "\n",
      "See the caveats in the documentation: https://pandas.pydata.org/pandas-docs/stable/user_guide/indexing.html#returning-a-view-versus-a-copy\n",
      "  data_filtered[\"normalized_error_epitope\"]=data_filtered[\"error_antigen\"]/data_filtered[\"epitope_size_antigen\"]\n",
      "/tmp/ipykernel_300485/1317865293.py:3: SettingWithCopyWarning: \n",
      "A value is trying to be set on a copy of a slice from a DataFrame.\n",
      "Try using .loc[row_indexer,col_indexer] = value instead\n",
      "\n",
      "See the caveats in the documentation: https://pandas.pydata.org/pandas-docs/stable/user_guide/indexing.html#returning-a-view-versus-a-copy\n",
      "  data_filtered[\"normalized_error_paratope\"]=data_filtered[\"error_paratope\"]/data_filtered[\"paratope_size\"]\n"
     ]
    }
   ],
   "source": [
    "data_filtered=data.query(\"distance_Hchain<20 and distance_Lchain<20 and distance_antigen<40 and pdb!='8da0'\")\n",
    "data_filtered[\"normalized_error_epitope\"]=data_filtered[\"error_antigen\"]/data_filtered[\"epitope_size_antigen\"]\n",
    "data_filtered[\"normalized_error_paratope\"]=data_filtered[\"error_paratope\"]/data_filtered[\"paratope_size\"]\n",
    "\n",
    "data_filtered.to_csv(\"/home/gabrielathenes/Documents/all_structures/final_curated_data.csv\")\n"
   ]
  },
  {
   "cell_type": "code",
   "execution_count": 6,
   "metadata": {},
   "outputs": [
    {
     "name": "stderr",
     "output_type": "stream",
     "text": [
      "/tmp/ipykernel_300485/19523546.py:4: SettingWithCopyWarning: \n",
      "A value is trying to be set on a copy of a slice from a DataFrame.\n",
      "Try using .loc[row_indexer,col_indexer] = value instead\n",
      "\n",
      "See the caveats in the documentation: https://pandas.pydata.org/pandas-docs/stable/user_guide/indexing.html#returning-a-view-versus-a-copy\n",
      "  data_filtered[\"total_paratope_size\"] = data_filtered[\"paratope_size_Hchain\"] + data_filtered[\"paratope_size_Lchain\"]\n",
      "/tmp/ipykernel_300485/19523546.py:5: SettingWithCopyWarning: \n",
      "A value is trying to be set on a copy of a slice from a DataFrame.\n",
      "Try using .loc[row_indexer,col_indexer] = value instead\n",
      "\n",
      "See the caveats in the documentation: https://pandas.pydata.org/pandas-docs/stable/user_guide/indexing.html#returning-a-view-versus-a-copy\n",
      "  data_filtered[\"normalized_error\"] = data_filtered[\"error_paratope\"] / (data_filtered[\"total_paratope_size\"] + 0.01)\n"
     ]
    },
    {
     "data": {
      "image/png": "[encoded data removed]",
      "text/plain": [
       "<Figure size 600x400 with 1 Axes>"
      ]
     },
     "metadata": {},
     "output_type": "display_data"
    }
   ],
   "source": [
    "import matplotlib.pyplot as plt\n",
    "\n",
    "# Assuming data_filtered and plot_ax are already defined\n",
    "data_filtered[\"total_paratope_size\"] = data_filtered[\"paratope_size_Hchain\"] + data_filtered[\"paratope_size_Lchain\"]\n",
    "data_filtered[\"normalized_error\"] = data_filtered[\"error_paratope\"] / (data_filtered[\"total_paratope_size\"] + 0.01)\n",
    "\n",
    "fig, axes = plt.subplots(figsize=(6, 4))\n",
    "ax = plot_ax(data_filtered,\n",
    "             ax=axes,\n",
    "             color=\"darkblue\",\n",
    "             x_axis=\"error_normalized_antigen\",\n",
    "             y_axis=\"normalized_error\",\n",
    "             regplot=False,\n",
    "             legend=False,\n",
    "             x_pos=0.05,\n",
    "             y_pos=0.95)\n",
    "\n",
    "# Remove top and right spines\n",
    "axes.spines['top'].set_visible(False)\n",
    "axes.spines['right'].set_visible(False)\n",
    "\n",
    "plt.ylabel(r\"Normalized Paratope Asymmetry\")\n",
    "plt.xlabel(r\"Normalized Epitope Asymmetry\",fontsize=20)\n",
    "plt.ylim([0, 1])\n",
    "plt.xlim([0, 1])\n",
    "# Remove default y-label\n",
    "axes.set_ylabel(\"\")\n",
    "plt.xticks([0, 0.5, 1])\n",
    "plt.yticks([0, 0.5, 1])\n",
    "fig.text(-0.02, 0.5, r\"Normalized Paratope Asymmetry\", va='center', rotation='vertical', fontsize=20)\n",
    "plt.show()\n",
    "#plt.savefig(\"/home/gabrielathenes/Dropbox/paratyping/second_draft/figures/normalized_paratope_epitope_asymetry.png\", bbox_inches='tight', dpi=300)\n"
   ]
  }
 ],
 "metadata": {
  "kernelspec": {
   "display_name": "analysis",
   "language": "python",
   "name": "python3"
  },
  "language_info": {
   "codemirror_mode": {
    "name": "ipython",
    "version": 3
   },
   "file_extension": ".py",
   "mimetype": "text/x-python",
   "name": "python",
   "nbconvert_exporter": "python",
   "pygments_lexer": "ipython3",
   "version": "3.9.6"
  }
 },
 "nbformat": 4,
 "nbformat_minor": 2
}
