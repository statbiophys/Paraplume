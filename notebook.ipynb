{
 "cells": [
  {
   "cell_type": "code",
   "execution_count": 11,
   "metadata": {},
   "outputs": [],
   "source": [
    "import pandas as pd\n",
    "from pathlib import Path"
   ]
  },
  {
   "cell_type": "code",
   "execution_count": 12,
   "metadata": {},
   "outputs": [],
   "source": [
    "from utils import read_pdb_to_dataframe"
   ]
  },
  {
   "cell_type": "code",
   "execution_count": 24,
   "metadata": {},
   "outputs": [
    {
     "name": "stdout",
     "output_type": "stream",
     "text": [
      "two_abonly\n",
      "EVQLVESGEGLVQPGGSLRISCAASGFTFSNYPMHWVRQAPGQGLESVSSITSNGDGTFYANSVKGRFTISRDNSKNTLYLQMGSLRTEDTALYFCAREVAEQLDCYFDLWGRGTLVTVSS\n",
      "DIQMTQSPSSLSASVGDRVTITCRASQSIRTYLNWYQHKPGKAPKLLIFAASSLQSGVPSRFSGSGSGTDFSLTISSLQPEDFATYYCQQSYITPPITFGQGTRLEIK\n",
      "====================\n",
      "four_abonly\n",
      "QVLLVESGGGVVQPGRSLRLSCAASDFIFSNYAIHWVRQAPGKGLEWVAGVSSDGTIKYYADSVKGRFTISRDNSKKTLYLQMNSLRTEDTAVYHCAREALETTVTIFDYWGQGTLVTVSS\n",
      "DIQITQSPSSLSASVGDRVTITCRASQTISRYLNWYQQKPGKAPKLLIYAASTLQSGVPSRFSGSGSGTDFTLTISSLQPEDFATYFCQQSYSSPPITFGQGTRLEI\n",
      "====================\n",
      "ten_abonly\n",
      "DVQLVESGGGLVQPGGSLRLSCSASGFTFSNYAMHWVRQTPGKTLEYVSSITRDGGGTFYADSVKGRFTISRDNSKSTLFLQMGSLRTDDTALYYCVRETINTVMLVLDLWGQGTLATVSS\n",
      "DIPMTQSPSSLSASVGDRVTITCRAPQTINNFLNWYQLKPGKAPKLLIYGASNLQSGVPSRFSGSGSGTEYTLTISSLQPEDLATYYCQQTYITPQFTFGRGTKVEIK\n",
      "====================\n",
      "nine_abonly\n",
      "EVRLVESGGGVVQPGGSLRLSCAASEFTSDDYAMHWVRQAPGKALEWVSLISGADDTAYYADSVRGRFTISRGNSKNSLYLQMTSLRTEDTALYFCARDSHTSGFYYFDSWGQGALVTVSS\n",
      "DIQMTQSPSSLSASVGDRVTITCRASQTISIYLNWYQQKPGKAPKLLVYAASSLQSGVPSRFSGSGSGTDFTLTISSLQPEDFATYFCQQSYTTPGWTFGQGTKLEIK\n",
      "====================\n",
      "six_abonly\n",
      "EVQLVESGGGVVQPGRSLRLSCAASGFTFSNYAIHWVRQAPGKGLEWVAVISYDGSNKYYADSVKGRFTISRDNSKNTLYLQMNSLRAEDTAVYYCARDFDDSSFWAFDYWGQGTLVTVSS\n",
      "DIQLTQSPSSLSASVGDRVTITCRASQSIRSYLNWYQQKPGKAPKLLIYAASSLQSGVPSRFSGSGSGTDFTLTISSLQPDDFATYYCQQSYSTPPATFGQGTKLEIK\n",
      "====================\n",
      "6zdh_abonly\n",
      "EVQLVESGGGVVQPGRSLRLSCAASAFTFSSYDMHWVRQAPGKGLEWVAVISYDGSNKYYADSVKGRFTISRDNSKNTLYLQMNSLRAEDTAVYYCAKDGGKLWVYYFDYWGQGTLVTVSS\n",
      "DIQMTQSPSSLSASVGDRVTITCRASQSISSYLNWYQQKPGKAPKLLIYAASSLQSGVPSRFSGSGSGTDFTLTISSLQPEDFATYYCQQSYSTLALTFGGGTKVEIK\n",
      "====================\n",
      "one_abonly\n",
      "EVQLVESGGSLVKPGGSLRLSCAASGFDFSNYAMDWVRQAPGKGLEWVSSISNSGSLMFYADSVKGRFTISRDNAKNSLYLQLNSLRAEDTAIYFCAREADSNYQVIFDYWGQGSLVTVSS\n",
      "DIQMTQSPSSLSASVGDRVTITCRASQTINTYLNWYQQKPGKAPRLLIYSVSTLQSGVPSRFSGSGSGTDFTLTISSLQPEDFATYFCQQSYNTPQVTFGQGTRLEIK\n",
      "====================\n",
      "three_abonly\n",
      "EVQLLESGGGLVQRGGSLRLSCAASGFTISSYGMSWVRQAPGKGLEWVSSISGSGGNTYYADSVQGRITISRDNSKNTLYLQMNSLRAEDTAVYFCAREQLWFGEHTFDYWGQGTLVTVSS\n",
      "DIQLTQSPSFLSASVGDRVTISCRASPGISSYLAWYQQKPGKAPKLLIYAASSLQSGVPSRFSGSGSGTEFTLTISSLQPEDFATYYCQQLNSYPPITFGQGTRLEIK\n",
      "====================\n",
      "eight_abonly\n",
      "EEHLVESGGGLVRPGGSLRLSCAASGFTFSHYAMHWVRQAPGKGLEYVSSISSDGGLTFYANSVKGRFTISRDNSKNTLYLQMGSLRGEDMALYYCARETRDHIVVVLDFWGQGTLVTVSS\n",
      "DIQMTQSPSSLSASVGDRVSITCRASQSISRYLNWYQQKPGKAPILLIFAASSLQRGVPSRFSGSGSGTDFTLTISSLQPEDFATYYCQQSYINPEYTFGQGTKLEIK\n",
      "====================\n",
      "five_abonly\n",
      "QVQLVESGGGVVQPGRSLRLSCAASGFTFSTYGMHWVRQAPGKGLEWVAVIWYDGSNKFYADSMKGRFTISRDNSKHTLYLQMNSLRAEDTAVYYCARADGDTSVDAFDIWGQGTMVTVSS\n",
      "DIQMTQSPSSLSASVGDRVTITCRASQSISSYLNWYQQKPGKAPKLLIYAASSLQSGVPSRFSGTGSGTDFTLTISSLQPEDFATYYCQQSYSGFSWTFGQGTKVEIK\n",
      "====================\n",
      "seven_abonly\n",
      "EVQLVESGGGLVQPGGSLRLSCAASGFTFRNYAMHWVRQAPGKGLEYVSGISRDGGGTFYADSMKGRFTISRDNSKSTLYLHMGSLRAEDMAVYYCAREATVTMDAHFDHWGQGTLVTVSS\n",
      "DIQMTQSPSSLSASVGDRVTITCRASQTISSYLNWYQHKPGKAPKLLIYVASRLQSGVPSRFSGSGSGTDFTLTISNLQAEDFATYYCQQSYITPQLTFGGGTKVEIK\n",
      "====================\n"
     ]
    }
   ],
   "source": [
    "# Three-letter to one-letter amino acid dictionary\n",
    "aa_dict = {\n",
    "    \"ALA\": \"A\", \"ARG\": \"R\", \"ASN\": \"N\", \"ASP\": \"D\", \"CYS\": \"C\",\n",
    "    \"GLN\": \"Q\", \"GLU\": \"E\", \"GLY\": \"G\", \"HIS\": \"H\", \"ILE\": \"I\",\n",
    "    \"LEU\": \"L\", \"LYS\": \"K\", \"MET\": \"M\", \"PHE\": \"F\", \"PRO\": \"P\",\n",
    "    \"SER\": \"S\", \"THR\": \"T\", \"TRP\": \"W\", \"TYR\": \"Y\", \"VAL\": \"V\"\n",
    "}\n",
    "\n",
    "# Convert 3-letter amino acids to 1-letter\n",
    "\n",
    "for file in Path(\"/home/athenes/paratope_clustering/covabdab/visualize_space2\").rglob(\"*abonly.pdb\"):\n",
    "    pdb = read_pdb_to_dataframe(file)\n",
    "    print(file.stem)\n",
    "    sequence_heavy = \"\".join([aa_dict.get(each, \"X\") for each in pdb.query(\"atom_name=='CA' and chain_id=='H'\")[\"residue_name\"].tolist()])\n",
    "    sequence_light = \"\".join([aa_dict.get(each, \"X\") for each in pdb.query(\"atom_name=='CA' and chain_id=='L'\")[\"residue_name\"].tolist()])\n",
    "    print(sequence_heavy)\n",
    "    print(sequence_light)\n",
    "    print(\"=\"*20)"
   ]
  },
  {
   "cell_type": "code",
   "execution_count": 26,
   "metadata": {},
   "outputs": [
    {
     "name": "stdout",
     "output_type": "stream",
     "text": [
      "Saved sorted sequences to /home/athenes/paratope_clustering/covabdab/antibody_sequences.txt\n"
     ]
    }
   ],
   "source": [
    "from pathlib import Path\n",
    "\n",
    "# Three-letter to one-letter amino acid dictionary\n",
    "aa_dict = {\n",
    "    \"ALA\": \"A\", \"ARG\": \"R\", \"ASN\": \"N\", \"ASP\": \"D\", \"CYS\": \"C\",\n",
    "    \"GLN\": \"Q\", \"GLU\": \"E\", \"GLY\": \"G\", \"HIS\": \"H\", \"ILE\": \"I\",\n",
    "    \"LEU\": \"L\", \"LYS\": \"K\", \"MET\": \"M\", \"PHE\": \"F\", \"PRO\": \"P\",\n",
    "    \"SER\": \"S\", \"THR\": \"T\", \"TRP\": \"W\", \"TYR\": \"Y\", \"VAL\": \"V\"\n",
    "}\n",
    "\n",
    "output_file = \"/home/athenes/paratope_clustering/covabdab/antibody_sequences.txt\"\n",
    "\n",
    "# Store results in a list before writing\n",
    "sequences = []\n",
    "\n",
    "for file in Path(\"/home/athenes/paratope_clustering/covabdab/visualize_space2\").rglob(\"*abonly.pdb\"):\n",
    "    pdb = read_pdb_to_dataframe(file)\n",
    "    name = file.stem\n",
    "\n",
    "    sequence_heavy = \"\".join([aa_dict.get(each, \"X\") for each in pdb.query(\"atom_name=='CA' and chain_id=='H'\")[\"residue_name\"].tolist()])\n",
    "    sequence_light = \"\".join([aa_dict.get(each, \"X\") for each in pdb.query(\"atom_name=='CA' and chain_id=='L'\")[\"residue_name\"].tolist()])\n",
    "\n",
    "    sequences.append((name, sequence_heavy, sequence_light))\n",
    "\n",
    "# Sort by name\n",
    "sequences.sort(key=lambda x: x[0])\n",
    "\n",
    "# Write to file\n",
    "with open(output_file, \"w\") as f:\n",
    "    f.write(\"Name\\tSequence_Heavy\\tSequence_Light\\n\")\n",
    "    for name, sequence_heavy, sequence_light in sequences:\n",
    "        f.write(f\"{name}\\t{sequence_heavy}\\t{sequence_light}\\n\")\n",
    "\n",
    "print(f\"Saved sorted sequences to {output_file}\")\n"
   ]
  }
 ],
 "metadata": {
  "kernelspec": {
   "display_name": "paratyping",
   "language": "python",
   "name": "python3"
  },
  "language_info": {
   "codemirror_mode": {
    "name": "ipython",
    "version": 3
   },
   "file_extension": ".py",
   "mimetype": "text/x-python",
   "name": "python",
   "nbconvert_exporter": "python",
   "pygments_lexer": "ipython3",
   "version": "3.10.13"
  }
 },
 "nbformat": 4,
 "nbformat_minor": 2
}
