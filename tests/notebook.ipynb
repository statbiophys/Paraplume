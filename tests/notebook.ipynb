{
 "cells": [
  {
   "cell_type": "code",
   "execution_count": 39,
   "metadata": {},
   "outputs": [],
   "source": [
    "import pandas as pd\n",
    "from paraplume.infer import predict_paratope, predict_paratope_seq"
   ]
  },
  {
   "cell_type": "code",
   "execution_count": 40,
   "metadata": {},
   "outputs": [],
   "source": [
    "df = pd.read_csv(\"/home/athenes/Paraplume/data_with_scripts/repertoire_analysis/hifibio&naive_mice/tt_sequences.csv\")"
   ]
  },
  {
   "cell_type": "code",
   "execution_count": 41,
   "metadata": {},
   "outputs": [],
   "source": [
    "test=df[:20][[\"sequence_heavy\",\"sequence_light\"]].copy()\n",
    "test.to_csv(\"/home/athenes/Paraplume/tests/data/test.csv\")"
   ]
  },
  {
   "cell_type": "code",
   "execution_count": 42,
   "metadata": {},
   "outputs": [],
   "source": [
    "test_heavy=df[:20][[\"sequence_heavy\",\"sequence_light\"]].copy()\n",
    "test_heavy[\"sequence_light\"]=\"\"\n",
    "test_heavy.to_csv(\"/home/athenes/Paraplume/tests/data/test_heavy.csv\")"
   ]
  },
  {
   "cell_type": "code",
   "execution_count": 43,
   "metadata": {},
   "outputs": [],
   "source": [
    "test_light=df[:20][[\"sequence_heavy\",\"sequence_light\"]].copy()\n",
    "test_light[\"sequence_heavy\"]=\"\"\n",
    "test_light.to_csv(\"/home/athenes/Paraplume/tests/data/test_light.csv\")"
   ]
  },
  {
   "cell_type": "code",
   "execution_count": 44,
   "metadata": {},
   "outputs": [
    {
     "name": "stdout",
     "output_type": "stream",
     "text": [
      "\u001b[2m2025-07-02T14:45:49.489735Z\u001b[0m [\u001b[32m\u001b[1minfo     \u001b[0m] \u001b[1mLoading training summary dictionary.\u001b[0m \u001b[36mpath\u001b[0m=\u001b[35m/home/athenes/Paraplume/paraplume/trained_models/large/summary_dict.json\u001b[0m\n"
     ]
    },
    {
     "name": "stdout",
     "output_type": "stream",
     "text": [
      "\u001b[2m2025-07-02T14:45:49.550865Z\u001b[0m [\u001b[32m\u001b[1minfo     \u001b[0m] \u001b[1mLoading model.                \u001b[0m \u001b[36mpath\u001b[0m=\u001b[35m/home/athenes/Paraplume/paraplume/trained_models/large/checkpoint.pt\u001b[0m\n",
      "\u001b[2m2025-07-02T14:45:49.589415Z\u001b[0m [\u001b[32m\u001b[1minfo     \u001b[0m] \u001b[1mCREATING EMBEDDINGS           \u001b[0m \u001b[36membedding_model\u001b[0m=\u001b[35mablang2\u001b[0m\n"
     ]
    },
    {
     "name": "stderr",
     "output_type": "stream",
     "text": [
      "100%|██████████| 1/1 [00:00<00:00,  1.37it/s]"
     ]
    },
    {
     "name": "stdout",
     "output_type": "stream",
     "text": [
      "\u001b[2m2025-07-02T14:45:50.323222Z\u001b[0m [\u001b[32m\u001b[1minfo     \u001b[0m] \u001b[1mCREATING EMBEDDINGS           \u001b[0m \u001b[36membedding_model\u001b[0m=\u001b[35migbert\u001b[0m\n"
     ]
    },
    {
     "name": "stderr",
     "output_type": "stream",
     "text": [
      "\n",
      "100%|██████████| 1/1 [00:01<00:00,  1.41s/it]"
     ]
    },
    {
     "name": "stdout",
     "output_type": "stream",
     "text": [
      "\u001b[2m2025-07-02T14:45:51.737753Z\u001b[0m [\u001b[32m\u001b[1minfo     \u001b[0m] \u001b[1mCREATING EMBEDDINGS           \u001b[0m \u001b[36membedding_model\u001b[0m=\u001b[35migT5\u001b[0m\n"
     ]
    },
    {
     "name": "stderr",
     "output_type": "stream",
     "text": [
      "\n",
      "Loading checkpoint shards: 100%|██████████| 3/3 [00:00<00:00, 55.69it/s]\n",
      "100%|██████████| 1/1 [00:02<00:00,  2.04s/it]"
     ]
    },
    {
     "name": "stdout",
     "output_type": "stream",
     "text": [
      "\u001b[2m2025-07-02T14:45:53.778905Z\u001b[0m [\u001b[32m\u001b[1minfo     \u001b[0m] \u001b[1mCREATING EMBEDDINGS           \u001b[0m \u001b[36membedding_model\u001b[0m=\u001b[35mesm\u001b[0m\n"
     ]
    },
    {
     "name": "stderr",
     "output_type": "stream",
     "text": [
      "\n",
      "100%|██████████| 1/1 [00:04<00:00,  4.48s/it]"
     ]
    },
    {
     "name": "stdout",
     "output_type": "stream",
     "text": [
      "\u001b[2m2025-07-02T14:45:58.270731Z\u001b[0m [\u001b[32m\u001b[1minfo     \u001b[0m] \u001b[1mCREATING EMBEDDINGS           \u001b[0m \u001b[36membedding_model\u001b[0m=\u001b[35mantiberty\u001b[0m\n"
     ]
    },
    {
     "name": "stderr",
     "output_type": "stream",
     "text": [
      "\n",
      "100%|██████████| 1/1 [00:00<00:00,  5.57it/s]\n"
     ]
    },
    {
     "name": "stdout",
     "output_type": "stream",
     "text": [
      "\u001b[2m2025-07-02T14:45:58.468404Z\u001b[0m [\u001b[32m\u001b[1minfo     \u001b[0m] \u001b[1mCREATING EMBEDDINGS           \u001b[0m \u001b[36membedding_model\u001b[0m=\u001b[35mprot-t5\u001b[0m\n"
     ]
    },
    {
     "name": "stderr",
     "output_type": "stream",
     "text": [
      "100%|██████████| 1/1 [00:02<00:00,  2.82s/it]"
     ]
    },
    {
     "name": "stdout",
     "output_type": "stream",
     "text": [
      "\u001b[2m2025-07-02T14:46:01.318059Z\u001b[0m [\u001b[32m\u001b[1minfo     \u001b[0m] \u001b[1mLoading training summary dictionary.\u001b[0m \u001b[36mpath\u001b[0m=\u001b[35m/home/athenes/Paraplume/paraplume/trained_models/large/summary_dict.json\u001b[0m\n",
      "\u001b[2m2025-07-02T14:46:01.360637Z\u001b[0m [\u001b[32m\u001b[1minfo     \u001b[0m] \u001b[1mLoading model.                \u001b[0m \u001b[36mpath\u001b[0m=\u001b[35m/home/athenes/Paraplume/paraplume/trained_models/large/checkpoint.pt\u001b[0m\n",
      "\u001b[2m2025-07-02T14:46:01.397693Z\u001b[0m [\u001b[32m\u001b[1minfo     \u001b[0m] \u001b[1mCREATING EMBEDDINGS           \u001b[0m \u001b[36membedding_model\u001b[0m=\u001b[35mablang2\u001b[0m\n"
     ]
    },
    {
     "name": "stderr",
     "output_type": "stream",
     "text": [
      "\n",
      "100%|██████████| 1/1 [00:00<00:00,  1.82it/s]"
     ]
    },
    {
     "name": "stdout",
     "output_type": "stream",
     "text": [
      "\u001b[2m2025-07-02T14:46:01.951669Z\u001b[0m [\u001b[32m\u001b[1minfo     \u001b[0m] \u001b[1mCREATING EMBEDDINGS           \u001b[0m \u001b[36membedding_model\u001b[0m=\u001b[35migbert\u001b[0m\n"
     ]
    },
    {
     "name": "stderr",
     "output_type": "stream",
     "text": [
      "\n",
      "100%|██████████| 1/1 [00:01<00:00,  1.28s/it]"
     ]
    },
    {
     "name": "stdout",
     "output_type": "stream",
     "text": [
      "\u001b[2m2025-07-02T14:46:03.233019Z\u001b[0m [\u001b[32m\u001b[1minfo     \u001b[0m] \u001b[1mCREATING EMBEDDINGS           \u001b[0m \u001b[36membedding_model\u001b[0m=\u001b[35migT5\u001b[0m\n"
     ]
    },
    {
     "name": "stderr",
     "output_type": "stream",
     "text": [
      "\n",
      "Loading checkpoint shards: 100%|██████████| 3/3 [00:00<00:00, 52.39it/s]\n",
      "100%|██████████| 1/1 [00:02<00:00,  2.00s/it]"
     ]
    },
    {
     "name": "stdout",
     "output_type": "stream",
     "text": [
      "\u001b[2m2025-07-02T14:46:05.243086Z\u001b[0m [\u001b[32m\u001b[1minfo     \u001b[0m] \u001b[1mCREATING EMBEDDINGS           \u001b[0m \u001b[36membedding_model\u001b[0m=\u001b[35mesm\u001b[0m\n"
     ]
    },
    {
     "name": "stderr",
     "output_type": "stream",
     "text": [
      "\n",
      "100%|██████████| 1/1 [00:04<00:00,  4.41s/it]"
     ]
    },
    {
     "name": "stdout",
     "output_type": "stream",
     "text": [
      "\u001b[2m2025-07-02T14:46:09.663565Z\u001b[0m [\u001b[32m\u001b[1minfo     \u001b[0m] \u001b[1mCREATING EMBEDDINGS           \u001b[0m \u001b[36membedding_model\u001b[0m=\u001b[35mantiberty\u001b[0m\n"
     ]
    },
    {
     "name": "stderr",
     "output_type": "stream",
     "text": [
      "\n",
      "100%|██████████| 1/1 [00:00<00:00,  3.85it/s]"
     ]
    },
    {
     "name": "stdout",
     "output_type": "stream",
     "text": [
      "\u001b[2m2025-07-02T14:46:09.950168Z\u001b[0m [\u001b[32m\u001b[1minfo     \u001b[0m] \u001b[1mCREATING EMBEDDINGS           \u001b[0m \u001b[36membedding_model\u001b[0m=\u001b[35mprot-t5\u001b[0m\n"
     ]
    },
    {
     "name": "stderr",
     "output_type": "stream",
     "text": [
      "\n",
      "100%|██████████| 1/1 [00:03<00:00,  3.07s/it]"
     ]
    },
    {
     "name": "stdout",
     "output_type": "stream",
     "text": [
      "\u001b[2m2025-07-02T14:46:13.045562Z\u001b[0m [\u001b[32m\u001b[1minfo     \u001b[0m] \u001b[1mLoading training summary dictionary.\u001b[0m \u001b[36mpath\u001b[0m=\u001b[35m/home/athenes/Paraplume/paraplume/trained_models/large/summary_dict.json\u001b[0m\n",
      "\u001b[2m2025-07-02T14:46:13.086408Z\u001b[0m [\u001b[32m\u001b[1minfo     \u001b[0m] \u001b[1mLoading model.                \u001b[0m \u001b[36mpath\u001b[0m=\u001b[35m/home/athenes/Paraplume/paraplume/trained_models/large/checkpoint.pt\u001b[0m\n",
      "\u001b[2m2025-07-02T14:46:13.114389Z\u001b[0m [\u001b[32m\u001b[1minfo     \u001b[0m] \u001b[1mCREATING EMBEDDINGS           \u001b[0m \u001b[36membedding_model\u001b[0m=\u001b[35mablang2\u001b[0m\n"
     ]
    },
    {
     "name": "stderr",
     "output_type": "stream",
     "text": [
      "\n",
      "100%|██████████| 1/1 [00:01<00:00,  1.15s/it]"
     ]
    },
    {
     "name": "stdout",
     "output_type": "stream",
     "text": [
      "\u001b[2m2025-07-02T14:46:14.273820Z\u001b[0m [\u001b[32m\u001b[1minfo     \u001b[0m] \u001b[1mCREATING EMBEDDINGS           \u001b[0m \u001b[36membedding_model\u001b[0m=\u001b[35migbert\u001b[0m\n"
     ]
    },
    {
     "name": "stderr",
     "output_type": "stream",
     "text": [
      "\n",
      "100%|██████████| 1/1 [00:01<00:00,  1.17s/it]"
     ]
    },
    {
     "name": "stdout",
     "output_type": "stream",
     "text": [
      "\u001b[2m2025-07-02T14:46:15.443047Z\u001b[0m [\u001b[32m\u001b[1minfo     \u001b[0m] \u001b[1mCREATING EMBEDDINGS           \u001b[0m \u001b[36membedding_model\u001b[0m=\u001b[35migT5\u001b[0m\n"
     ]
    },
    {
     "name": "stderr",
     "output_type": "stream",
     "text": [
      "\n",
      "Loading checkpoint shards: 100%|██████████| 3/3 [00:00<00:00, 84.62it/s]\n",
      "100%|██████████| 1/1 [00:02<00:00,  2.29s/it]"
     ]
    },
    {
     "name": "stdout",
     "output_type": "stream",
     "text": [
      "\u001b[2m2025-07-02T14:46:17.741385Z\u001b[0m [\u001b[32m\u001b[1minfo     \u001b[0m] \u001b[1mCREATING EMBEDDINGS           \u001b[0m \u001b[36membedding_model\u001b[0m=\u001b[35mesm\u001b[0m\n"
     ]
    },
    {
     "name": "stderr",
     "output_type": "stream",
     "text": [
      "\n",
      "100%|██████████| 1/1 [00:04<00:00,  4.52s/it]"
     ]
    },
    {
     "name": "stdout",
     "output_type": "stream",
     "text": [
      "\u001b[2m2025-07-02T14:46:22.262626Z\u001b[0m [\u001b[32m\u001b[1minfo     \u001b[0m] \u001b[1mCREATING EMBEDDINGS           \u001b[0m \u001b[36membedding_model\u001b[0m=\u001b[35mantiberty\u001b[0m\n"
     ]
    },
    {
     "name": "stderr",
     "output_type": "stream",
     "text": [
      "\n",
      "100%|██████████| 1/1 [00:00<00:00,  7.14it/s]"
     ]
    },
    {
     "name": "stdout",
     "output_type": "stream",
     "text": [
      "\u001b[2m2025-07-02T14:46:22.407983Z\u001b[0m [\u001b[32m\u001b[1minfo     \u001b[0m] \u001b[1mCREATING EMBEDDINGS           \u001b[0m \u001b[36membedding_model\u001b[0m=\u001b[35mprot-t5\u001b[0m\n"
     ]
    },
    {
     "name": "stderr",
     "output_type": "stream",
     "text": [
      "\n",
      "100%|██████████| 1/1 [00:02<00:00,  2.91s/it]\n"
     ]
    }
   ],
   "source": [
    "paratope=predict_paratope(test_heavy)\n",
    "paratope=predict_paratope(test_light)\n",
    "paratope=predict_paratope(test)\n"
   ]
  },
  {
   "cell_type": "code",
   "execution_count": 45,
   "metadata": {},
   "outputs": [
    {
     "name": "stdout",
     "output_type": "stream",
     "text": [
      "\u001b[2m2025-07-02T14:46:25.420716Z\u001b[0m [\u001b[32m\u001b[1minfo     \u001b[0m] \u001b[1mCREATING EMBEDDINGS           \u001b[0m \u001b[36membedding_model\u001b[0m=\u001b[35mesm\u001b[0m\n"
     ]
    },
    {
     "name": "stderr",
     "output_type": "stream",
     "text": [
      "100%|██████████| 1/1 [00:04<00:00,  4.29s/it]"
     ]
    },
    {
     "name": "stdout",
     "output_type": "stream",
     "text": [
      "\u001b[2m2025-07-02T14:46:29.751699Z\u001b[0m [\u001b[32m\u001b[1minfo     \u001b[0m] \u001b[1mCREATING EMBEDDINGS           \u001b[0m \u001b[36membedding_model\u001b[0m=\u001b[35mesm\u001b[0m\n"
     ]
    },
    {
     "name": "stderr",
     "output_type": "stream",
     "text": [
      "\n",
      "100%|██████████| 1/1 [00:04<00:00,  4.26s/it]"
     ]
    },
    {
     "name": "stdout",
     "output_type": "stream",
     "text": [
      "\u001b[2m2025-07-02T14:46:34.052375Z\u001b[0m [\u001b[32m\u001b[1minfo     \u001b[0m] \u001b[1mCREATING EMBEDDINGS           \u001b[0m \u001b[36membedding_model\u001b[0m=\u001b[35mesm\u001b[0m\n"
     ]
    },
    {
     "name": "stderr",
     "output_type": "stream",
     "text": [
      "\n",
      "100%|██████████| 1/1 [00:04<00:00,  4.49s/it]\n"
     ]
    }
   ],
   "source": [
    "import logging\n",
    "logging.basicConfig(level=logging.WARNING)\n",
    "\n",
    "heavy_seq=test[\"sequence_heavy\"].values[0]\n",
    "light_seq=test[\"sequence_light\"].values[0]\n",
    "paratope_heavy, paratope_light=predict_paratope_seq(sequence_heavy=heavy_seq,sequence_light=light_seq, large=False)\n",
    "paratope_heavy, paratope_light=predict_paratope_seq(sequence_heavy=heavy_seq, single_chain=True, large=False)\n",
    "paratope_heavy, paratope_light=predict_paratope_seq(sequence_light=light_seq, single_chain=True, large=False)\n"
   ]
  },
  {
   "cell_type": "code",
   "execution_count": 46,
   "metadata": {},
   "outputs": [
    {
     "name": "stdout",
     "output_type": "stream",
     "text": [
      "{'-', 'K', 'N', '<null_1>', 'Z', '<pad>', 'F', 'Y', 'R', 'P', '<cls>', 'I', 'O', 'C', 'T', 'D', 'H', 'E', 'Q', 'A', 'S', '.', 'W', 'U', '<mask>', 'V', '<unk>', 'L', 'M', 'X', 'B', 'G', '<eos>'}\n"
     ]
    }
   ],
   "source": [
    "import esm\n",
    "esm_model, esm_alphabet = esm.pretrained.esm2_t33_650M_UR50D()\n",
    "print(set(esm_alphabet.all_toks))"
   ]
  }
 ],
 "metadata": {
  "kernelspec": {
   "display_name": "paraplume",
   "language": "python",
   "name": "python3"
  },
  "language_info": {
   "codemirror_mode": {
    "name": "ipython",
    "version": 3
   },
   "file_extension": ".py",
   "mimetype": "text/x-python",
   "name": "python",
   "nbconvert_exporter": "python",
   "pygments_lexer": "ipython3",
   "version": "3.10.13"
  }
 },
 "nbformat": 4,
 "nbformat_minor": 2
}
