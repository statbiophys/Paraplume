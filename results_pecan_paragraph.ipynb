{
 "cells": [
  {
   "cell_type": "code",
   "execution_count": 3,
   "metadata": {},
   "outputs": [],
   "source": [
    "from pathlib import Path\n",
    "import json\n",
    "import numpy as np\n",
    "import pandas as pd\n"
   ]
  },
  {
   "cell_type": "markdown",
   "metadata": {},
   "source": [
    "# paragraph"
   ]
  },
  {
   "cell_type": "code",
   "execution_count": 4,
   "metadata": {},
   "outputs": [],
   "source": [
    "def get_results(path_folder, name):\n",
    "    ap_list = []\n",
    "    roc_list = []\n",
    "    records=[]\n",
    "    for file in path_folder.rglob(\"*/summary_dict.json\"):\n",
    "        with open(file) as f :\n",
    "            summary_data=json.load(f)\n",
    "        if not (file.parents[0]/Path(\"test_set_predictions_dictnew.json\")).exists():\n",
    "            continue\n",
    "        result_dict = file.parents[0]/Path(\"test_set_predictions_dictnew.json\")\n",
    "        with open(result_dict) as f :\n",
    "            result_data = json.load(f)\n",
    "        summary_data[\"ap\"]=ap=float(result_data[\"ap\"])\n",
    "        summary_data[\"roc\"]=roc=float(result_data[\"roc\"])\n",
    "        summary_data[\"mcc\"]=float(result_data[\"mcc\"])\n",
    "        summary_data[\"f1\"]=float(result_data[\"f1\"])\n",
    "        records.append(summary_data)\n",
    "        ap_list.append(ap)\n",
    "        roc_list.append(roc)\n",
    "    df=pd.DataFrame.from_records(records).drop(columns=[\"best_epoch\",\n",
    "        \"result_folder\",\n",
    "        \"train_folder_path\",\n",
    "        \"val_folder_path\",\n",
    "        \"n_epochs\",\n",
    "        \"input_size\",\n",
    "        \"override\",\n",
    "        \"patience\",\n",
    "        ])\n",
    "    df.groupby([\"mask_prob\",\"alphas\",\"embedding_models\", \"batch_size\",\"dims\",\"dropouts\",\"positive_weight\",\"learning_rate\",])[[\"ap\",\"roc\", \"mcc\",\"f1\"]].mean().to_csv(path_folder.parents[0]/Path(\"results\")/Path(f\"{name}.csv\"))\n"
   ]
  },
  {
   "cell_type": "code",
   "execution_count": 5,
   "metadata": {},
   "outputs": [],
   "source": [
    "path_folder = Path(\"/home/athenes/benchmark2/mipe/250324_ablation\")\n",
    "get_results(path_folder, \"250324_ablation\")\n"
   ]
  },
  {
   "cell_type": "code",
   "execution_count": 6,
   "metadata": {},
   "outputs": [],
   "source": [
    "path_folder = Path(\"/home/athenes/benchmark2/paragraph/250324_ablation\")\n",
    "df = get_results(path_folder, \"250324_ablation\")\n"
   ]
  },
  {
   "cell_type": "code",
   "execution_count": 7,
   "metadata": {},
   "outputs": [],
   "source": [
    "path_folder = Path(\"/home/athenes/benchmark2/pecan/250324_ablation\")\n",
    "get_results(path_folder, \"250324_ablation\")\n"
   ]
  }
 ],
 "metadata": {
  "kernelspec": {
   "display_name": "analysis",
   "language": "python",
   "name": "python3"
  },
  "language_info": {
   "codemirror_mode": {
    "name": "ipython",
    "version": 3
   },
   "file_extension": ".py",
   "mimetype": "text/x-python",
   "name": "python",
   "nbconvert_exporter": "python",
   "pygments_lexer": "ipython3",
   "version": "3.10.13"
  }
 },
 "nbformat": 4,
 "nbformat_minor": 2
}
