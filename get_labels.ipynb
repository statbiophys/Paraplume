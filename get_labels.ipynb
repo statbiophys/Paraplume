{
 "cells": [
  {
   "cell_type": "code",
   "execution_count": 9,
   "metadata": {},
   "outputs": [],
   "source": [
    "from pathlib import Path\n",
    "import json\n",
    "import numpy as np\n",
    "import pandas as pd\n"
   ]
  },
  {
   "cell_type": "code",
   "execution_count": 10,
   "metadata": {},
   "outputs": [],
   "source": [
    "def cdr_indices(inverse_number):\n",
    "    cdr_list = []\n",
    "    for cdr_border in [(25,39+1),(55,66+1),(105,119+1)]:\n",
    "        left = cdr_border[0]\n",
    "        right = cdr_border[1]\n",
    "        while str(left) not in inverse_number :\n",
    "            left+=1\n",
    "        while str(right) not in inverse_number:\n",
    "            right-=1\n",
    "        cdr = list(range(inverse_number[str(left)], inverse_number[str(right)]))\n",
    "        cdr_list.append(cdr)\n",
    "    return cdr_list\n",
    "\n",
    "def get_cdr_pm2_indices(inverse_number_heavy, inverse_number_light):\n",
    "    cdr_heavy_list = cdr_indices(inverse_number_heavy)\n",
    "    cdr_light_list = cdr_indices(inverse_number_light)\n",
    "    cdr1h, cdr2h, cdr3h = cdr_heavy_list[0],cdr_heavy_list[1],cdr_heavy_list[2]\n",
    "    cdr1l,cdr2l,cdr3l = cdr_light_list[0],cdr_light_list[1],cdr_light_list[2]\n",
    "    return cdr1h, cdr2h, cdr3h, cdr1l,cdr2l,cdr3l\n"
   ]
  },
  {
   "cell_type": "code",
   "execution_count": 11,
   "metadata": {},
   "outputs": [],
   "source": [
    "test=\"/home/gathenes/paragraph_benchmark/241025_expanded/test_set/dict.json\"\n",
    "train=\"/home/gathenes/paragraph_benchmark/241020_expanded/train_set/dict.json\"\n",
    "val=\"/home/gathenes/paragraph_benchmark/241020_expanded/val_set/dict.json\"\n"
   ]
  },
  {
   "cell_type": "code",
   "execution_count": 12,
   "metadata": {},
   "outputs": [],
   "source": [
    "with open(test) as f:\n",
    "    test_dict=json.load(f)\n"
   ]
  },
  {
   "cell_type": "code",
   "execution_count": 13,
   "metadata": {},
   "outputs": [],
   "source": [
    "with open(train) as f:\n",
    "    train_dict=json.load(f)\n"
   ]
  },
  {
   "cell_type": "code",
   "execution_count": 14,
   "metadata": {},
   "outputs": [],
   "source": [
    "with open(val) as f:\n",
    "    val_dict=json.load(f)\n"
   ]
  },
  {
   "cell_type": "code",
   "execution_count": 15,
   "metadata": {},
   "outputs": [
    {
     "name": "stdout",
     "output_type": "stream",
     "text": [
      "['1', '2', '3', '4', '5', '6', '7', '8', '9', '11', '12', '13', '14', '15', '16', '17', '18', '19', '20', '21', '22', '23', '24', '25', '26', '27', '28', '29', '30', '35', '36', '37', '38', '39', '40', '41', '42', '43', '44', '45', '46', '47', '48', '49', '50', '51', '52', '53', '54', '55', '56', '57', '58', '59', '63', '64', '65', '66', '67', '68', '69', '70', '71', '72', '74', '75', '76', '77', '78', '79', '80', '81', '82', '83', '84', '85', '86', '87', '88', '89', '90', '91', '92', '93', '94', '95', '96', '97', '98', '99', '100', '101', '102', '103', '104', '105', '106', '107', '108', '109', '113', '114', '115', '116', '117', '118', '119', '120', '121', '122', '123', '124', '125', '126', '127', '128']\n"
     ]
    }
   ],
   "source": [
    "print(test_dict[\"0\"][\"H_id numbers\"])\n"
   ]
  },
  {
   "cell_type": "code",
   "execution_count": 16,
   "metadata": {},
   "outputs": [],
   "source": [
    "label_dict=[]\n",
    "for type in [test_dict]:\n",
    "    for values in type.values():\n",
    "        pdb=values[\"pdb_code\"]\n",
    "        temp_dict={}\n",
    "        temp_dict[\"pdb\"]=pdb\n",
    "        labels_heavy, labels_light = values[\"H_id labels 4.5\"], values[\"L_id labels 4.5\"]\n",
    "        numbers_heavy, numbers_light = values[\"H_id numbers\"], values[\"L_id numbers\"]\n",
    "        sequence_heavy, sequence_light = values[\"H_id sequence\"], values[\"L_id sequence\"]\n",
    "        inverse_numbers_heavy = {num:i for i,num in enumerate(numbers_heavy)}\n",
    "        inverse_numbers_light = {num:i for i,num in enumerate(numbers_light)}\n",
    "        cdr1h,cdr2h,cdr3h,_,_,_ = get_cdr_pm2_indices(inverse_numbers_heavy, inverse_numbers_light)\n",
    "        temp_dict[\"cdr1 label\"]=\"\".join([str(labels_heavy[each]) for each in cdr1h])\n",
    "        temp_dict[\"cdr2 label\"]=\"\".join([str(labels_heavy[each]) for each in cdr2h])\n",
    "        temp_dict[\"cdr3 label\"]=\"\".join([str(labels_heavy[each]) for each in cdr3h])\n",
    "        temp_dict[\"cdr1 sequence\"]=\"\".join([str(sequence_heavy[each]) for each in cdr1h])\n",
    "        temp_dict[\"cdr2 sequence\"]=\"\".join([str(sequence_heavy[each]) for each in cdr2h])\n",
    "        temp_dict[\"cdr3 sequence\"]=\"\".join([str(sequence_heavy[each]) for each in cdr3h])\n",
    "        label_dict.append(temp_dict)\n"
   ]
  },
  {
   "cell_type": "code",
   "execution_count": 17,
   "metadata": {},
   "outputs": [],
   "source": [
    "paragraph=pd.DataFrame.from_records(label_dict)\n"
   ]
  },
  {
   "cell_type": "code",
   "execution_count": 18,
   "metadata": {},
   "outputs": [],
   "source": [
    "test_paragraph = pd.read_csv(\"/data/Paratyping_project_data/paratope_prediction_dataset/cleaned_paper_dataset.csv\")\n"
   ]
  },
  {
   "cell_type": "code",
   "execution_count": 19,
   "metadata": {},
   "outputs": [],
   "source": [
    "test_paragraph[\"pdb\"]=test_paragraph[\"pdb\"].str.lower()\n",
    "test_paragraph[\"ph1\"]=test_paragraph[\"ph1\"].apply(lambda x: x.replace(' ', ''))\n",
    "test_paragraph[\"ph2\"]=test_paragraph[\"ph2\"].apply(lambda x: x.replace(' ', ''))\n",
    "test_paragraph[\"ph3\"]=test_paragraph[\"ph3\"].apply(lambda x: x.replace(' ', ''))\n"
   ]
  },
  {
   "cell_type": "code",
   "execution_count": 20,
   "metadata": {},
   "outputs": [
    {
     "name": "stdout",
     "output_type": "stream",
     "text": [
      "--------------------------------------------------\n",
      "1kcs\n",
      "00111110000 ARGGTGFPYWG\n",
      "00111100000 ARGGTGFPYWG\n",
      "--------------------------------------------------\n",
      "4bz1\n",
      "001111100000 SRGSKGAMDYWG\n",
      "001111110000 SRGSKGAMDYWG\n",
      "--------------------------------------------------\n",
      "4j6r\n",
      "0000001011000000 ARGVRRDASWWLQFWG\n",
      "0000011011000000 ARGVRRDASWWLQFWG\n",
      "--------------------------------------------------\n",
      "4nrx\n",
      "0000100001111111101000000 ARQNHYGSGSYFYRTAYYYAMDVWG\n",
      "0010100001111111101000000 ARQNHYGSGSYFYRTAYYYAMDVWG\n",
      "--------------------------------------------------\n",
      "4wht\n",
      "0111000 TRMDYWG\n",
      "0110000 TRMDYWG\n",
      "--------------------------------------------------\n",
      "4xxd\n",
      "1111100 ASGDYWG\n",
      "1110100 ASGDYWG\n",
      "--------------------------------------------------\n",
      "4ydj\n",
      "0001111100011110101000000 ARERGRHFEPKNRDNLEGKFFDLWG\n",
      "0011111101011111101000000 ARERGRHFEPKNRDNLEGKFFDLWG\n",
      "--------------------------------------------------\n",
      "5anm\n",
      "001101101000 ATVMGGGYDYWG\n",
      "0000000000000000 ATVMGKWIKGGYDYWG\n",
      "--------------------------------------------------\n",
      "5csz\n",
      "00111110010000 ARGKGYVRYFDVWG\n",
      "001110000000110010000 ARGKGNTHKPYGYVRYFDVWG\n",
      "--------------------------------------------------\n",
      "5d96\n",
      "00111111000000 ASDSMDPGSFAYWG\n",
      "00111011000000 ASDSMDPGSFAYWG\n",
      "--------------------------------------------------\n",
      "5mhr\n",
      "0000000010000000 AIHYYGISYWYFDVWG\n",
      "0000101110000000 AIHYYGISYWYFDVWG\n",
      "--------------------------------------------------\n",
      "5n7w\n",
      "00000110000000 ARFPYYYGNWDVWG\n",
      "00001111000000 ARFPYYYGNWDVWG\n",
      "--------------------------------------------------\n",
      "5wna\n",
      "0011110111101000000 AIMVATTKNDFHYYKDVWG\n",
      "0011110110101000000 AIMVATTKNDFHYYKDVWG\n",
      "--------------------------------------------------\n",
      "6axk\n",
      "0011100111100000 ARAAYYDTSGYGDYWG\n",
      "0011110111101000 ARAAYYDTSGYGDYWG\n",
      "--------------------------------------------------\n",
      "6ewb\n",
      "00111000000 ARIGRSNDYWG\n",
      "01111100100 ARIGRSNDYWG\n",
      "--------------------------------------------------\n",
      "6i8s\n",
      "0010100111000000 ARERRQWLEGHFDYWG\n",
      "0010101111000000 ARERRQWLEGHFDYWG\n",
      "--------------------------------------------------\n",
      "6iut\n",
      "00011100000000 ARGFWGLDGFDIWG\n",
      "01011110001100 ARGFWGLDGFDIWG\n",
      "--------------------------------------------------\n",
      "6iuv\n",
      "000011111110000000000 ARRATYYYGSGSYFDAFDIWG\n",
      "000011111110010000000 ARRATYYYGSGSYFDAFDIWG\n",
      "--------------------------------------------------\n",
      "6nz7\n",
      "00000111111110000000 ARGITVFGLLIINSAMDVWG\n",
      "00001111111110000000 ARGITVFGLLIINSAMDVWG\n",
      "--------------------------------------------------\n",
      "6obd\n",
      "0111100 TPIDYWG\n",
      "0110100 TPIDYWG\n",
      "--------------------------------------------------\n",
      "6vbo\n",
      "01111110000 AIVGAKADYWG\n",
      "01111100100 AIVGAKADYWG\n"
     ]
    }
   ],
   "source": [
    "for pdb in paragraph[\"pdb\"].unique():\n",
    "    if pdb in test_paragraph[\"pdb\"].unique():\n",
    "        cdr2,cdr1_seq = paragraph.query(\"pdb==@pdb\")[[\"cdr3 label\", \"cdr3 sequence\"]].values[0]\n",
    "        cdr1_test, cdr1_test_seq = test_paragraph.query(\"pdb==@pdb\")[[\"ph3\", \"cdrh3\"]].values[0]\n",
    "        if cdr1_test!=cdr2 or cdr1_seq!=cdr1_test_seq:\n",
    "            print(\"-\"*50)\n",
    "            print(pdb)\n",
    "            print(cdr2, cdr1_seq)\n",
    "            print(cdr1_test,cdr1_test_seq)\n"
   ]
  },
  {
   "cell_type": "markdown",
   "metadata": {},
   "source": [
    "# trash"
   ]
  },
  {
   "cell_type": "code",
   "execution_count": 21,
   "metadata": {},
   "outputs": [
    {
     "ename": "NameError",
     "evalue": "name 'pdb_to_labels' is not defined",
     "output_type": "error",
     "traceback": [
      "\u001b[0;31m---------------------------------------------------------------------------\u001b[0m",
      "\u001b[0;31mNameError\u001b[0m                                 Traceback (most recent call last)",
      "\u001b[1;32m/home/gathenes/paratope_model/get_labels.ipynb Cell 14\u001b[0m line \u001b[0;36m3\n\u001b[1;32m      <a href='vscode-notebook-cell://ssh-remote%2Bsaber/home/gathenes/paratope_model/get_labels.ipynb#X16sdnNjb2RlLXJlbW90ZQ%3D%3D?line=0'>1</a>\u001b[0m \u001b[39mfrom\u001b[39;00m \u001b[39mLevenshtein\u001b[39;00m \u001b[39mimport\u001b[39;00m distance\n\u001b[1;32m      <a href='vscode-notebook-cell://ssh-remote%2Bsaber/home/gathenes/paratope_model/get_labels.ipynb#X16sdnNjb2RlLXJlbW90ZQ%3D%3D?line=1'>2</a>\u001b[0m distance_list\u001b[39m=\u001b[39m[]\n\u001b[0;32m----> <a href='vscode-notebook-cell://ssh-remote%2Bsaber/home/gathenes/paratope_model/get_labels.ipynb#X16sdnNjb2RlLXJlbW90ZQ%3D%3D?line=2'>3</a>\u001b[0m \u001b[39mfor\u001b[39;00m pdb, label \u001b[39min\u001b[39;00m pdb_to_labels\u001b[39m.\u001b[39mitems():\n\u001b[1;32m      <a href='vscode-notebook-cell://ssh-remote%2Bsaber/home/gathenes/paratope_model/get_labels.ipynb#X16sdnNjb2RlLXJlbW90ZQ%3D%3D?line=3'>4</a>\u001b[0m     \u001b[39mif\u001b[39;00m \u001b[39mf\u001b[39m\u001b[39m\"\u001b[39m\u001b[39m{\u001b[39;00mpdb\u001b[39m}\u001b[39;00m\u001b[39m_heavy\u001b[39m\u001b[39m\"\u001b[39m \u001b[39min\u001b[39;00m label_dict:\n\u001b[1;32m      <a href='vscode-notebook-cell://ssh-remote%2Bsaber/home/gathenes/paratope_model/get_labels.ipynb#X16sdnNjb2RlLXJlbW90ZQ%3D%3D?line=4'>5</a>\u001b[0m         \u001b[39mprint\u001b[39m(pdb,label)\n",
      "\u001b[0;31mNameError\u001b[0m: name 'pdb_to_labels' is not defined"
     ]
    }
   ],
   "source": [
    "from Levenshtein import distance\n",
    "distance_list=[]\n",
    "for pdb, label in pdb_to_labels.items():\n",
    "    if f\"{pdb}_heavy\" in label_dict:\n",
    "        print(pdb,label)\n",
    "        print(pdb,label_dict[f\"{pdb}_heavy\"])\n",
    "        dis = distance(label,label_dict[f\"{pdb}_heavy\"])\n",
    "        print(dis)\n",
    "        distance_list.append(dis/len(label))\n",
    "        print(\"-----------\")\n"
   ]
  },
  {
   "cell_type": "code",
   "execution_count": null,
   "metadata": {},
   "outputs": [
    {
     "name": "stdout",
     "output_type": "stream",
     "text": [
      "nan\n",
      "0\n"
     ]
    },
    {
     "name": "stderr",
     "output_type": "stream",
     "text": [
      "/home/gathenes/.pyenv/versions/3.9.6/envs/analysis/lib/python3.9/site-packages/numpy/core/fromnumeric.py:3432: RuntimeWarning: Mean of empty slice.\n",
      "  return _methods._mean(a, axis=axis, dtype=dtype,\n",
      "/home/gathenes/.pyenv/versions/3.9.6/envs/analysis/lib/python3.9/site-packages/numpy/core/_methods.py:190: RuntimeWarning: invalid value encountered in double_scalars\n",
      "  ret = ret.dtype.type(ret / rcount)\n"
     ]
    }
   ],
   "source": [
    "print(np.mean(distance_list))\n",
    "print(len(distance_list))\n"
   ]
  },
  {
   "cell_type": "code",
   "execution_count": null,
   "metadata": {},
   "outputs": [
    {
     "ename": "KeyError",
     "evalue": "'heavy labels'",
     "output_type": "error",
     "traceback": [
      "\u001b[0;31m---------------------------------------------------------------------------\u001b[0m",
      "\u001b[0;31mKeyError\u001b[0m                                  Traceback (most recent call last)",
      "File \u001b[0;32m~/.pyenv/versions/3.9.6/envs/analysis/lib/python3.9/site-packages/pandas/core/indexes/base.py:3805\u001b[0m, in \u001b[0;36mIndex.get_loc\u001b[0;34m(self, key)\u001b[0m\n\u001b[1;32m   3804\u001b[0m \u001b[39mtry\u001b[39;00m:\n\u001b[0;32m-> 3805\u001b[0m     \u001b[39mreturn\u001b[39;00m \u001b[39mself\u001b[39;49m\u001b[39m.\u001b[39;49m_engine\u001b[39m.\u001b[39;49mget_loc(casted_key)\n\u001b[1;32m   3806\u001b[0m \u001b[39mexcept\u001b[39;00m \u001b[39mKeyError\u001b[39;00m \u001b[39mas\u001b[39;00m err:\n",
      "File \u001b[0;32mindex.pyx:167\u001b[0m, in \u001b[0;36mpandas._libs.index.IndexEngine.get_loc\u001b[0;34m()\u001b[0m\n",
      "File \u001b[0;32mindex.pyx:196\u001b[0m, in \u001b[0;36mpandas._libs.index.IndexEngine.get_loc\u001b[0;34m()\u001b[0m\n",
      "File \u001b[0;32mpandas/_libs/hashtable_class_helper.pxi:7081\u001b[0m, in \u001b[0;36mpandas._libs.hashtable.PyObjectHashTable.get_item\u001b[0;34m()\u001b[0m\n",
      "File \u001b[0;32mpandas/_libs/hashtable_class_helper.pxi:7089\u001b[0m, in \u001b[0;36mpandas._libs.hashtable.PyObjectHashTable.get_item\u001b[0;34m()\u001b[0m\n",
      "\u001b[0;31mKeyError\u001b[0m: 'heavy labels'",
      "\nThe above exception was the direct cause of the following exception:\n",
      "\u001b[0;31mKeyError\u001b[0m                                  Traceback (most recent call last)",
      "\u001b[1;32m/home/gathenes/paratope_model/get_labels.ipynb Cell 16\u001b[0m line \u001b[0;36m1\n\u001b[0;32m----> <a href='vscode-notebook-cell://ssh-remote%2Bsaber/home/gathenes/paratope_model/get_labels.ipynb#X15sdnNjb2RlLXJlbW90ZQ%3D%3D?line=0'>1</a>\u001b[0m pdb_to_labels\u001b[39m=\u001b[39mtest_paragraph\u001b[39m.\u001b[39;49mset_index(\u001b[39m\"\u001b[39;49m\u001b[39mpdb\u001b[39;49m\u001b[39m\"\u001b[39;49m)[\u001b[39m\"\u001b[39;49m\u001b[39mheavy labels\u001b[39;49m\u001b[39m\"\u001b[39;49m]\u001b[39m.\u001b[39mto_dict()\n",
      "File \u001b[0;32m~/.pyenv/versions/3.9.6/envs/analysis/lib/python3.9/site-packages/pandas/core/frame.py:4102\u001b[0m, in \u001b[0;36mDataFrame.__getitem__\u001b[0;34m(self, key)\u001b[0m\n\u001b[1;32m   4100\u001b[0m \u001b[39mif\u001b[39;00m \u001b[39mself\u001b[39m\u001b[39m.\u001b[39mcolumns\u001b[39m.\u001b[39mnlevels \u001b[39m>\u001b[39m \u001b[39m1\u001b[39m:\n\u001b[1;32m   4101\u001b[0m     \u001b[39mreturn\u001b[39;00m \u001b[39mself\u001b[39m\u001b[39m.\u001b[39m_getitem_multilevel(key)\n\u001b[0;32m-> 4102\u001b[0m indexer \u001b[39m=\u001b[39m \u001b[39mself\u001b[39;49m\u001b[39m.\u001b[39;49mcolumns\u001b[39m.\u001b[39;49mget_loc(key)\n\u001b[1;32m   4103\u001b[0m \u001b[39mif\u001b[39;00m is_integer(indexer):\n\u001b[1;32m   4104\u001b[0m     indexer \u001b[39m=\u001b[39m [indexer]\n",
      "File \u001b[0;32m~/.pyenv/versions/3.9.6/envs/analysis/lib/python3.9/site-packages/pandas/core/indexes/base.py:3812\u001b[0m, in \u001b[0;36mIndex.get_loc\u001b[0;34m(self, key)\u001b[0m\n\u001b[1;32m   3807\u001b[0m     \u001b[39mif\u001b[39;00m \u001b[39misinstance\u001b[39m(casted_key, \u001b[39mslice\u001b[39m) \u001b[39mor\u001b[39;00m (\n\u001b[1;32m   3808\u001b[0m         \u001b[39misinstance\u001b[39m(casted_key, abc\u001b[39m.\u001b[39mIterable)\n\u001b[1;32m   3809\u001b[0m         \u001b[39mand\u001b[39;00m \u001b[39many\u001b[39m(\u001b[39misinstance\u001b[39m(x, \u001b[39mslice\u001b[39m) \u001b[39mfor\u001b[39;00m x \u001b[39min\u001b[39;00m casted_key)\n\u001b[1;32m   3810\u001b[0m     ):\n\u001b[1;32m   3811\u001b[0m         \u001b[39mraise\u001b[39;00m InvalidIndexError(key)\n\u001b[0;32m-> 3812\u001b[0m     \u001b[39mraise\u001b[39;00m \u001b[39mKeyError\u001b[39;00m(key) \u001b[39mfrom\u001b[39;00m \u001b[39merr\u001b[39;00m\n\u001b[1;32m   3813\u001b[0m \u001b[39mexcept\u001b[39;00m \u001b[39mTypeError\u001b[39;00m:\n\u001b[1;32m   3814\u001b[0m     \u001b[39m# If we have a listlike key, _check_indexing_error will raise\u001b[39;00m\n\u001b[1;32m   3815\u001b[0m     \u001b[39m#  InvalidIndexError. Otherwise we fall through and re-raise\u001b[39;00m\n\u001b[1;32m   3816\u001b[0m     \u001b[39m#  the TypeError.\u001b[39;00m\n\u001b[1;32m   3817\u001b[0m     \u001b[39mself\u001b[39m\u001b[39m.\u001b[39m_check_indexing_error(key)\n",
      "\u001b[0;31mKeyError\u001b[0m: 'heavy labels'"
     ]
    }
   ],
   "source": [
    "pdb_to_labels=test_paragraph.set_index(\"pdb\")[\"heavy labels\"].to_dict()\n"
   ]
  },
  {
   "cell_type": "code",
   "execution_count": null,
   "metadata": {},
   "outputs": [],
   "source": [
    "test_paragraph[\"heavy labels\"]=test_paragraph[\"ph1\"]+test_paragraph[\"ph2\"]+test_paragraph[\"ph3\"]\n"
   ]
  }
 ],
 "metadata": {
  "kernelspec": {
   "display_name": "analysis",
   "language": "python",
   "name": "python3"
  },
  "language_info": {
   "codemirror_mode": {
    "name": "ipython",
    "version": 3
   },
   "file_extension": ".py",
   "mimetype": "text/x-python",
   "name": "python",
   "nbconvert_exporter": "python",
   "pygments_lexer": "ipython3",
   "version": "3.9.6"
  }
 },
 "nbformat": 4,
 "nbformat_minor": 2
}
