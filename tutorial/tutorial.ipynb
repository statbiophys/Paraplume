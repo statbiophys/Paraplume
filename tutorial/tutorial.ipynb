{
 "cells": [
  {
   "cell_type": "code",
   "execution_count": 24,
   "metadata": {},
   "outputs": [],
   "source": [
    "import pandas as pd\n",
    "import numpy as np\n",
    "from paraplume.infer import predict_paratope, predict_paratope_seq"
   ]
  },
  {
   "cell_type": "markdown",
   "metadata": {},
   "source": [
    "# Inference for a csv file"
   ]
  },
  {
   "cell_type": "markdown",
   "metadata": {},
   "source": [
    "### Paired chain"
   ]
  },
  {
   "cell_type": "code",
   "execution_count": 25,
   "metadata": {},
   "outputs": [
    {
     "name": "stdout",
     "output_type": "stream",
     "text": [
      "\u001b[2m2025-07-11T15:07:00.260259Z\u001b[0m [\u001b[32m\u001b[1minfo     \u001b[0m] \u001b[1mLoading training summary dictionary.\u001b[0m \u001b[36mpath\u001b[0m=\u001b[35m/home/athenes/Paraplume/paraplume/trained_models/large/summary_dict.json\u001b[0m\n",
      "\u001b[2m2025-07-11T15:07:00.322548Z\u001b[0m [\u001b[32m\u001b[1minfo     \u001b[0m] \u001b[1mLoading model.                \u001b[0m \u001b[36mpath\u001b[0m=\u001b[35m/home/athenes/Paraplume/paraplume/trained_models/large/checkpoint.pt\u001b[0m\n",
      "\u001b[2m2025-07-11T15:07:00.385551Z\u001b[0m [\u001b[32m\u001b[1minfo     \u001b[0m] \u001b[1mCREATING EMBEDDINGS           \u001b[0m \u001b[36membedding_model\u001b[0m=\u001b[35mablang2\u001b[0m\n"
     ]
    },
    {
     "name": "stderr",
     "output_type": "stream",
     "text": [
      "  0%|          | 0/1 [00:00<?, ?it/s]"
     ]
    },
    {
     "name": "stderr",
     "output_type": "stream",
     "text": [
      "100%|██████████| 1/1 [00:01<00:00,  1.29s/it]"
     ]
    },
    {
     "name": "stdout",
     "output_type": "stream",
     "text": [
      "\u001b[2m2025-07-11T15:07:01.680636Z\u001b[0m [\u001b[32m\u001b[1minfo     \u001b[0m] \u001b[1mCREATING EMBEDDINGS           \u001b[0m \u001b[36membedding_model\u001b[0m=\u001b[35migbert\u001b[0m\n"
     ]
    },
    {
     "name": "stderr",
     "output_type": "stream",
     "text": [
      "\n",
      "100%|██████████| 1/1 [00:01<00:00,  1.03s/it]"
     ]
    },
    {
     "name": "stdout",
     "output_type": "stream",
     "text": [
      "\u001b[2m2025-07-11T15:07:02.715601Z\u001b[0m [\u001b[32m\u001b[1minfo     \u001b[0m] \u001b[1mCREATING EMBEDDINGS           \u001b[0m \u001b[36membedding_model\u001b[0m=\u001b[35migT5\u001b[0m\n"
     ]
    },
    {
     "name": "stderr",
     "output_type": "stream",
     "text": [
      "\n",
      "Loading checkpoint shards: 100%|██████████| 3/3 [00:00<00:00, 54.95it/s]\n",
      "100%|██████████| 1/1 [00:01<00:00,  1.90s/it]"
     ]
    },
    {
     "name": "stdout",
     "output_type": "stream",
     "text": [
      "\u001b[2m2025-07-11T15:07:04.625981Z\u001b[0m [\u001b[32m\u001b[1minfo     \u001b[0m] \u001b[1mCREATING EMBEDDINGS           \u001b[0m \u001b[36membedding_model\u001b[0m=\u001b[35mesm\u001b[0m\n"
     ]
    },
    {
     "name": "stderr",
     "output_type": "stream",
     "text": [
      "\n",
      "100%|██████████| 1/1 [00:05<00:00,  5.01s/it]"
     ]
    },
    {
     "name": "stdout",
     "output_type": "stream",
     "text": [
      "\u001b[2m2025-07-11T15:07:09.645819Z\u001b[0m [\u001b[32m\u001b[1minfo     \u001b[0m] \u001b[1mCREATING EMBEDDINGS           \u001b[0m \u001b[36membedding_model\u001b[0m=\u001b[35mantiberty\u001b[0m\n"
     ]
    },
    {
     "name": "stderr",
     "output_type": "stream",
     "text": [
      "\n",
      "100%|██████████| 1/1 [00:00<00:00,  6.12it/s]"
     ]
    },
    {
     "name": "stdout",
     "output_type": "stream",
     "text": [
      "\u001b[2m2025-07-11T15:07:09.813323Z\u001b[0m [\u001b[32m\u001b[1minfo     \u001b[0m] \u001b[1mCREATING EMBEDDINGS           \u001b[0m \u001b[36membedding_model\u001b[0m=\u001b[35mprot-t5\u001b[0m\n"
     ]
    },
    {
     "name": "stderr",
     "output_type": "stream",
     "text": [
      "\n",
      "100%|██████████| 1/1 [00:02<00:00,  2.57s/it]\n"
     ]
    },
    {
     "data": {
      "text/html": [
       "<div>\n",
       "<style scoped>\n",
       "    .dataframe tbody tr th:only-of-type {\n",
       "        vertical-align: middle;\n",
       "    }\n",
       "\n",
       "    .dataframe tbody tr th {\n",
       "        vertical-align: top;\n",
       "    }\n",
       "\n",
       "    .dataframe thead th {\n",
       "        text-align: right;\n",
       "    }\n",
       "</style>\n",
       "<table border=\"1\" class=\"dataframe\">\n",
       "  <thead>\n",
       "    <tr style=\"text-align: right;\">\n",
       "      <th></th>\n",
       "      <th>sequence_heavy</th>\n",
       "      <th>sequence_light</th>\n",
       "      <th>model_prediction_heavy</th>\n",
       "      <th>model_prediction_light</th>\n",
       "    </tr>\n",
       "  </thead>\n",
       "  <tbody>\n",
       "    <tr>\n",
       "      <th>0</th>\n",
       "      <td>QAYLQQSGAELVKPGASVKMSCKASDYTFTNYNMHWIKQTPGQGLE...</td>\n",
       "      <td>EIVLTQSPTTMAASPGEKITITCSARSSISSNYLHWYQQKPGFSPK...</td>\n",
       "      <td>[0.041725035757, 0.006128619425, 0.00120741000...</td>\n",
       "      <td>[0.02774579823, 0.030432898551, 0.000722601486...</td>\n",
       "    </tr>\n",
       "    <tr>\n",
       "      <th>1</th>\n",
       "      <td>EFQLQQSGPELVKPGASVRMSCKASGYTFASYVMHWVRQNPGQGLE...</td>\n",
       "      <td>EIVLTQSPTTMAASPGEKITITCSASSSISSNYLHWYQQKPGFSPK...</td>\n",
       "      <td>[0.088073186576, 0.009875513613, 0.00031948549...</td>\n",
       "      <td>[0.01704739593, 0.018414046615, 0.000323481188...</td>\n",
       "    </tr>\n",
       "    <tr>\n",
       "      <th>2</th>\n",
       "      <td>EFQLQQSGPELVKPGTSVKMSCKASGYTFSDYVLHWVKPKPGQGLE...</td>\n",
       "      <td>EIVLTQSPTTMAASPGEKITITCSANSSISSNYLHWYQQKPGFSPK...</td>\n",
       "      <td>[0.104903750122, 0.011411688291, 0.00022909764...</td>\n",
       "      <td>[0.021616119891, 0.014892715961, 0.00029867971...</td>\n",
       "    </tr>\n",
       "    <tr>\n",
       "      <th>3</th>\n",
       "      <td>EFQLQQSGPELVKPGASVKMSCKASGYTFSNYVLHWVKQRPGQGLE...</td>\n",
       "      <td>EIVLTQSPTTMAASPGEKITITCSANSSISSNYLHWYQQKPGFSPK...</td>\n",
       "      <td>[0.079148694873, 0.01085769292, 0.000206994431...</td>\n",
       "      <td>[0.025731017813, 0.013135196641, 0.00027886853...</td>\n",
       "    </tr>\n",
       "    <tr>\n",
       "      <th>4</th>\n",
       "      <td>EFQLQQSGPELVKPGASVKMSCKASGYTFTSYVIHWVKQKPGQGLE...</td>\n",
       "      <td>EIVLTQSPTTMAASPGEKITVTCSANSTISSNYFHWYQQKPGFSPK...</td>\n",
       "      <td>[0.113158173859, 0.019801616669, 0.00031696920...</td>\n",
       "      <td>[0.022425999865, 0.015036202036, 0.00038165555...</td>\n",
       "    </tr>\n",
       "  </tbody>\n",
       "</table>\n",
       "</div>"
      ],
      "text/plain": [
       "                                      sequence_heavy  \\\n",
       "0  QAYLQQSGAELVKPGASVKMSCKASDYTFTNYNMHWIKQTPGQGLE...   \n",
       "1  EFQLQQSGPELVKPGASVRMSCKASGYTFASYVMHWVRQNPGQGLE...   \n",
       "2  EFQLQQSGPELVKPGTSVKMSCKASGYTFSDYVLHWVKPKPGQGLE...   \n",
       "3  EFQLQQSGPELVKPGASVKMSCKASGYTFSNYVLHWVKQRPGQGLE...   \n",
       "4  EFQLQQSGPELVKPGASVKMSCKASGYTFTSYVIHWVKQKPGQGLE...   \n",
       "\n",
       "                                      sequence_light  \\\n",
       "0  EIVLTQSPTTMAASPGEKITITCSARSSISSNYLHWYQQKPGFSPK...   \n",
       "1  EIVLTQSPTTMAASPGEKITITCSASSSISSNYLHWYQQKPGFSPK...   \n",
       "2  EIVLTQSPTTMAASPGEKITITCSANSSISSNYLHWYQQKPGFSPK...   \n",
       "3  EIVLTQSPTTMAASPGEKITITCSANSSISSNYLHWYQQKPGFSPK...   \n",
       "4  EIVLTQSPTTMAASPGEKITVTCSANSTISSNYFHWYQQKPGFSPK...   \n",
       "\n",
       "                              model_prediction_heavy  \\\n",
       "0  [0.041725035757, 0.006128619425, 0.00120741000...   \n",
       "1  [0.088073186576, 0.009875513613, 0.00031948549...   \n",
       "2  [0.104903750122, 0.011411688291, 0.00022909764...   \n",
       "3  [0.079148694873, 0.01085769292, 0.000206994431...   \n",
       "4  [0.113158173859, 0.019801616669, 0.00031696920...   \n",
       "\n",
       "                              model_prediction_light  \n",
       "0  [0.02774579823, 0.030432898551, 0.000722601486...  \n",
       "1  [0.01704739593, 0.018414046615, 0.000323481188...  \n",
       "2  [0.021616119891, 0.014892715961, 0.00029867971...  \n",
       "3  [0.025731017813, 0.013135196641, 0.00027886853...  \n",
       "4  [0.022425999865, 0.015036202036, 0.00038165555...  "
      ]
     },
     "execution_count": 25,
     "metadata": {},
     "output_type": "execute_result"
    }
   ],
   "source": [
    "test=pd.read_csv(\"/home/athenes/Paraplume/tests/data/test.csv\")\n",
    "paratope_test=predict_paratope(test)\n",
    "paratope_test.head(5)"
   ]
  },
  {
   "cell_type": "code",
   "execution_count": 26,
   "metadata": {},
   "outputs": [
    {
     "name": "stdout",
     "output_type": "stream",
     "text": [
      "First heavy chain sequence ['Q', 'A', 'Y', 'L', 'Q', 'Q', 'S', 'G', 'A', 'E', 'L', 'V', 'K', 'P', 'G', 'A', 'S', 'V', 'K', 'M', 'S', 'C', 'K', 'A', 'S', 'D', 'Y', 'T', 'F', 'T', 'N', 'Y', 'N', 'M', 'H', 'W', 'I', 'K', 'Q', 'T', 'P', 'G', 'Q', 'G', 'L', 'E', 'W', 'I', 'G', 'A', 'I', 'Y', 'P', 'G', 'N', 'G', 'D', 'T', 'S', 'Y', 'N', 'Q', 'K', 'F', 'K', 'G', 'K', 'A', 'T', 'L', 'T', 'A', 'D', 'K', 'S', 'S', 'S', 'T', 'A', 'Y', 'M', 'Q', 'L', 'S', 'S', 'L', 'T', 'S', 'E', 'D', 'S', 'A', 'V', 'Y', 'Y', 'C', 'A', 'S', 'L', 'G', 'S', 'S', 'Y', 'F', 'D', 'Y', 'W', 'G', 'Q', 'G', 'T', 'T', 'L', 'T', 'V', 'S', 'S']\n",
      "Paratope predictions [0.041725035757, 0.006128619425, 0.001207410009, 1.80866e-07, 3.98825e-07, 4.987e-09, 2.8069e-08, 6.55e-10, 1.99e-10, 2.8506e-08, 2.528e-09, 2.065e-09, 8.9317e-08, 2.98e-10, 5.531e-09, 7.705e-09, 2.3911e-08, 5.073e-08, 2.058793e-06, 1.51e-10, 2.149e-09, 5.5e-11, 0.000133977635, 0.000107230371, 0.002047916641, 0.093398466706, 0.10265520215, 0.140073776245, 0.003913572524, 0.138472557068, 0.677939593792, 0.731532752514, 0.955660700798, 0.001126439194, 0.843931734562, 1.365119e-06, 0.000437757146, 2.37768e-07, 3.87172e-07, 4.43e-10, 9.1969e-08, 2.40231e-07, 4.50017e-07, 1.021782e-06, 3.17246e-07, 0.000228789446, 0.096534252167, 2.325671e-06, 0.000273278099, 0.798560023308, 0.246602371335, 0.987717628479, 0.012933754362, 0.091876469553, 0.830538630486, 0.013485322706, 0.921880662441, 0.714445054531, 0.857830107212, 0.043111827224, 0.001883952529, 0.041577786207, 0.000635273289, 1.4717717e-05, 0.061669036746, 0.000290824129, 5.93027e-07, 1.042273e-06, 0.000118839744, 2.7763059e-05, 2.4549425e-05, 5.5214288e-05, 2.2676115e-05, 0.016220515594, 0.001320617273, 2.8058774e-05, 0.000626010413, 2.31658e-07, 2.5995e-08, 3.448818e-06, 2.601e-09, 4.47783e-07, 5.5e-11, 1.354056e-06, 2.626995e-06, 3.85e-10, 1.607e-09, 6.71e-10, 6.193923e-06, 4.2182e-08, 1.428e-09, 3.16e-10, 1.0914e-08, 3.05e-10, 2.0405e-08, 2.00976e-07, 0.016848996282, 0.179978072643, 0.968669474125, 0.960258483887, 0.93214315176, 0.908363878727, 0.632981598377, 0.086983926594, 0.357486307621, 0.10900823772, 0.002294137841, 3.46392e-07, 2.1738468e-05, 1.45677e-07, 1.083e-09, 3.93e-10, 1.9e-11, 5.2e-10, 2.92e-10, 5.657e-09, 5.63619e-07]\n"
     ]
    }
   ],
   "source": [
    "print(\"First heavy chain sequence\",list(paratope_test[\"sequence_heavy\"].values[0]))\n",
    "print(\"Paratope predictions\",paratope_test[\"model_prediction_heavy\"].values[0])"
   ]
  },
  {
   "cell_type": "markdown",
   "metadata": {},
   "source": [
    "### single chain"
   ]
  },
  {
   "cell_type": "code",
   "execution_count": 27,
   "metadata": {},
   "outputs": [
    {
     "name": "stdout",
     "output_type": "stream",
     "text": [
      "\u001b[2m2025-07-11T15:07:12.505874Z\u001b[0m [\u001b[32m\u001b[1minfo     \u001b[0m] \u001b[1mLoading training summary dictionary.\u001b[0m \u001b[36mpath\u001b[0m=\u001b[35m/home/athenes/Paraplume/paraplume/trained_models/large/summary_dict.json\u001b[0m\n",
      "\u001b[2m2025-07-11T15:07:12.545223Z\u001b[0m [\u001b[32m\u001b[1minfo     \u001b[0m] \u001b[1mLoading model.                \u001b[0m \u001b[36mpath\u001b[0m=\u001b[35m/home/athenes/Paraplume/paraplume/trained_models/large/checkpoint.pt\u001b[0m\n",
      "\u001b[2m2025-07-11T15:07:12.576659Z\u001b[0m [\u001b[32m\u001b[1minfo     \u001b[0m] \u001b[1mCREATING EMBEDDINGS           \u001b[0m \u001b[36membedding_model\u001b[0m=\u001b[35mablang2\u001b[0m\n"
     ]
    },
    {
     "name": "stderr",
     "output_type": "stream",
     "text": [
      "  0%|          | 0/1 [00:00<?, ?it/s]"
     ]
    },
    {
     "name": "stderr",
     "output_type": "stream",
     "text": [
      "100%|██████████| 1/1 [00:00<00:00,  1.55it/s]"
     ]
    },
    {
     "name": "stdout",
     "output_type": "stream",
     "text": [
      "\u001b[2m2025-07-11T15:07:13.225740Z\u001b[0m [\u001b[32m\u001b[1minfo     \u001b[0m] \u001b[1mCREATING EMBEDDINGS           \u001b[0m \u001b[36membedding_model\u001b[0m=\u001b[35migbert\u001b[0m\n"
     ]
    },
    {
     "name": "stderr",
     "output_type": "stream",
     "text": [
      "\n",
      "100%|██████████| 1/1 [00:00<00:00,  1.05it/s]"
     ]
    },
    {
     "name": "stdout",
     "output_type": "stream",
     "text": [
      "\u001b[2m2025-07-11T15:07:14.182881Z\u001b[0m [\u001b[32m\u001b[1minfo     \u001b[0m] \u001b[1mCREATING EMBEDDINGS           \u001b[0m \u001b[36membedding_model\u001b[0m=\u001b[35migT5\u001b[0m\n"
     ]
    },
    {
     "name": "stderr",
     "output_type": "stream",
     "text": [
      "\n",
      "Loading checkpoint shards: 100%|██████████| 3/3 [00:00<00:00, 82.66it/s]\n",
      "100%|██████████| 1/1 [00:01<00:00,  1.76s/it]"
     ]
    },
    {
     "name": "stdout",
     "output_type": "stream",
     "text": [
      "\u001b[2m2025-07-11T15:07:15.950859Z\u001b[0m [\u001b[32m\u001b[1minfo     \u001b[0m] \u001b[1mCREATING EMBEDDINGS           \u001b[0m \u001b[36membedding_model\u001b[0m=\u001b[35mesm\u001b[0m\n"
     ]
    },
    {
     "name": "stderr",
     "output_type": "stream",
     "text": [
      "\n",
      "100%|██████████| 1/1 [00:04<00:00,  4.69s/it]"
     ]
    },
    {
     "name": "stdout",
     "output_type": "stream",
     "text": [
      "\u001b[2m2025-07-11T15:07:20.641580Z\u001b[0m [\u001b[32m\u001b[1minfo     \u001b[0m] \u001b[1mCREATING EMBEDDINGS           \u001b[0m \u001b[36membedding_model\u001b[0m=\u001b[35mantiberty\u001b[0m\n"
     ]
    },
    {
     "name": "stderr",
     "output_type": "stream",
     "text": [
      "\n",
      "100%|██████████| 1/1 [00:00<00:00,  7.74it/s]"
     ]
    },
    {
     "name": "stdout",
     "output_type": "stream",
     "text": [
      "\u001b[2m2025-07-11T15:07:20.774829Z\u001b[0m [\u001b[32m\u001b[1minfo     \u001b[0m] \u001b[1mCREATING EMBEDDINGS           \u001b[0m \u001b[36membedding_model\u001b[0m=\u001b[35mprot-t5\u001b[0m\n"
     ]
    },
    {
     "name": "stderr",
     "output_type": "stream",
     "text": [
      "\n",
      "100%|██████████| 1/1 [00:02<00:00,  2.09s/it]\n"
     ]
    },
    {
     "data": {
      "text/html": [
       "<div>\n",
       "<style scoped>\n",
       "    .dataframe tbody tr th:only-of-type {\n",
       "        vertical-align: middle;\n",
       "    }\n",
       "\n",
       "    .dataframe tbody tr th {\n",
       "        vertical-align: top;\n",
       "    }\n",
       "\n",
       "    .dataframe thead th {\n",
       "        text-align: right;\n",
       "    }\n",
       "</style>\n",
       "<table border=\"1\" class=\"dataframe\">\n",
       "  <thead>\n",
       "    <tr style=\"text-align: right;\">\n",
       "      <th></th>\n",
       "      <th>sequence_heavy</th>\n",
       "      <th>sequence_light</th>\n",
       "      <th>model_prediction_heavy</th>\n",
       "      <th>model_prediction_light</th>\n",
       "    </tr>\n",
       "  </thead>\n",
       "  <tbody>\n",
       "    <tr>\n",
       "      <th>0</th>\n",
       "      <td>QAYLQQSGAELVKPGASVKMSCKASDYTFTNYNMHWIKQTPGQGLE...</td>\n",
       "      <td></td>\n",
       "      <td>[0.060344278812, 0.01300790254, 0.002478634473...</td>\n",
       "      <td>[]</td>\n",
       "    </tr>\n",
       "    <tr>\n",
       "      <th>1</th>\n",
       "      <td>EFQLQQSGPELVKPGASVRMSCKASGYTFASYVMHWVRQNPGQGLE...</td>\n",
       "      <td></td>\n",
       "      <td>[0.11747469008, 0.016421206295, 0.000410120498...</td>\n",
       "      <td>[]</td>\n",
       "    </tr>\n",
       "    <tr>\n",
       "      <th>2</th>\n",
       "      <td>EFQLQQSGPELVKPGTSVKMSCKASGYTFSDYVLHWVKPKPGQGLE...</td>\n",
       "      <td></td>\n",
       "      <td>[0.146373659372, 0.017853245139, 0.00036139242...</td>\n",
       "      <td>[]</td>\n",
       "    </tr>\n",
       "    <tr>\n",
       "      <th>3</th>\n",
       "      <td>EFQLQQSGPELVKPGASVKMSCKASGYTFSNYVLHWVKQRPGQGLE...</td>\n",
       "      <td></td>\n",
       "      <td>[0.11182346195, 0.019265005365, 0.000285910472...</td>\n",
       "      <td>[]</td>\n",
       "    </tr>\n",
       "    <tr>\n",
       "      <th>4</th>\n",
       "      <td>EFQLQQSGPELVKPGASVKMSCKASGYTFTSYVIHWVKQKPGQGLE...</td>\n",
       "      <td></td>\n",
       "      <td>[0.13008095324, 0.02869778499, 0.000496456691,...</td>\n",
       "      <td>[]</td>\n",
       "    </tr>\n",
       "  </tbody>\n",
       "</table>\n",
       "</div>"
      ],
      "text/plain": [
       "                                      sequence_heavy sequence_light  \\\n",
       "0  QAYLQQSGAELVKPGASVKMSCKASDYTFTNYNMHWIKQTPGQGLE...                  \n",
       "1  EFQLQQSGPELVKPGASVRMSCKASGYTFASYVMHWVRQNPGQGLE...                  \n",
       "2  EFQLQQSGPELVKPGTSVKMSCKASGYTFSDYVLHWVKPKPGQGLE...                  \n",
       "3  EFQLQQSGPELVKPGASVKMSCKASGYTFSNYVLHWVKQRPGQGLE...                  \n",
       "4  EFQLQQSGPELVKPGASVKMSCKASGYTFTSYVIHWVKQKPGQGLE...                  \n",
       "\n",
       "                              model_prediction_heavy model_prediction_light  \n",
       "0  [0.060344278812, 0.01300790254, 0.002478634473...                     []  \n",
       "1  [0.11747469008, 0.016421206295, 0.000410120498...                     []  \n",
       "2  [0.146373659372, 0.017853245139, 0.00036139242...                     []  \n",
       "3  [0.11182346195, 0.019265005365, 0.000285910472...                     []  \n",
       "4  [0.13008095324, 0.02869778499, 0.000496456691,...                     []  "
      ]
     },
     "execution_count": 27,
     "metadata": {},
     "output_type": "execute_result"
    }
   ],
   "source": [
    "test_heavy=pd.read_csv(\"/home/athenes/Paraplume/tests/data/test_heavy.csv\")\n",
    "paratope_test_heavy=predict_paratope(test_heavy, single_chain=True)\n",
    "paratope_test_heavy.head(5)"
   ]
  },
  {
   "cell_type": "markdown",
   "metadata": {},
   "source": [
    "### With Paraplume-s"
   ]
  },
  {
   "cell_type": "code",
   "execution_count": 28,
   "metadata": {},
   "outputs": [
    {
     "name": "stdout",
     "output_type": "stream",
     "text": [
      "\u001b[2m2025-07-11T15:07:22.970456Z\u001b[0m [\u001b[32m\u001b[1minfo     \u001b[0m] \u001b[1mLoading training summary dictionary.\u001b[0m \u001b[36mpath\u001b[0m=\u001b[35m/home/athenes/Paraplume/paraplume/trained_models/small/summary_dict.json\u001b[0m\n",
      "\u001b[2m2025-07-11T15:07:22.987043Z\u001b[0m [\u001b[32m\u001b[1minfo     \u001b[0m] \u001b[1mLoading model.                \u001b[0m \u001b[36mpath\u001b[0m=\u001b[35m/home/athenes/Paraplume/paraplume/trained_models/small/checkpoint.pt\u001b[0m\n",
      "\u001b[2m2025-07-11T15:07:23.000053Z\u001b[0m [\u001b[32m\u001b[1minfo     \u001b[0m] \u001b[1mCREATING EMBEDDINGS           \u001b[0m \u001b[36membedding_model\u001b[0m=\u001b[35mesm\u001b[0m\n"
     ]
    },
    {
     "name": "stderr",
     "output_type": "stream",
     "text": [
      "  0%|          | 0/1 [00:00<?, ?it/s]"
     ]
    },
    {
     "name": "stderr",
     "output_type": "stream",
     "text": [
      "100%|██████████| 1/1 [00:04<00:00,  4.66s/it]\n"
     ]
    },
    {
     "data": {
      "text/html": [
       "<div>\n",
       "<style scoped>\n",
       "    .dataframe tbody tr th:only-of-type {\n",
       "        vertical-align: middle;\n",
       "    }\n",
       "\n",
       "    .dataframe tbody tr th {\n",
       "        vertical-align: top;\n",
       "    }\n",
       "\n",
       "    .dataframe thead th {\n",
       "        text-align: right;\n",
       "    }\n",
       "</style>\n",
       "<table border=\"1\" class=\"dataframe\">\n",
       "  <thead>\n",
       "    <tr style=\"text-align: right;\">\n",
       "      <th></th>\n",
       "      <th>sequence_heavy</th>\n",
       "      <th>sequence_light</th>\n",
       "      <th>model_prediction_heavy</th>\n",
       "      <th>model_prediction_light</th>\n",
       "    </tr>\n",
       "  </thead>\n",
       "  <tbody>\n",
       "    <tr>\n",
       "      <th>0</th>\n",
       "      <td>QAYLQQSGAELVKPGASVKMSCKASDYTFTNYNMHWIKQTPGQGLE...</td>\n",
       "      <td></td>\n",
       "      <td>[0.04078932479, 0.006399150006, 0.00481512351,...</td>\n",
       "      <td>[]</td>\n",
       "    </tr>\n",
       "    <tr>\n",
       "      <th>1</th>\n",
       "      <td>EFQLQQSGPELVKPGASVRMSCKASGYTFASYVMHWVRQNPGQGLE...</td>\n",
       "      <td></td>\n",
       "      <td>[0.044797066599, 0.014546340331, 0.00075573823...</td>\n",
       "      <td>[]</td>\n",
       "    </tr>\n",
       "    <tr>\n",
       "      <th>2</th>\n",
       "      <td>EFQLQQSGPELVKPGTSVKMSCKASGYTFSDYVLHWVKPKPGQGLE...</td>\n",
       "      <td></td>\n",
       "      <td>[0.056822281331, 0.01394391153, 0.000546953524...</td>\n",
       "      <td>[]</td>\n",
       "    </tr>\n",
       "    <tr>\n",
       "      <th>3</th>\n",
       "      <td>EFQLQQSGPELVKPGASVKMSCKASGYTFSNYVLHWVKQRPGQGLE...</td>\n",
       "      <td></td>\n",
       "      <td>[0.054696165025, 0.014585443772, 0.00060062651...</td>\n",
       "      <td>[]</td>\n",
       "    </tr>\n",
       "    <tr>\n",
       "      <th>4</th>\n",
       "      <td>EFQLQQSGPELVKPGASVKMSCKASGYTFTSYVIHWVKQKPGQGLE...</td>\n",
       "      <td></td>\n",
       "      <td>[0.060329835862, 0.016410827637, 0.00094029493...</td>\n",
       "      <td>[]</td>\n",
       "    </tr>\n",
       "  </tbody>\n",
       "</table>\n",
       "</div>"
      ],
      "text/plain": [
       "                                      sequence_heavy sequence_light  \\\n",
       "0  QAYLQQSGAELVKPGASVKMSCKASDYTFTNYNMHWIKQTPGQGLE...                  \n",
       "1  EFQLQQSGPELVKPGASVRMSCKASGYTFASYVMHWVRQNPGQGLE...                  \n",
       "2  EFQLQQSGPELVKPGTSVKMSCKASGYTFSDYVLHWVKPKPGQGLE...                  \n",
       "3  EFQLQQSGPELVKPGASVKMSCKASGYTFSNYVLHWVKQRPGQGLE...                  \n",
       "4  EFQLQQSGPELVKPGASVKMSCKASGYTFTSYVIHWVKQKPGQGLE...                  \n",
       "\n",
       "                              model_prediction_heavy model_prediction_light  \n",
       "0  [0.04078932479, 0.006399150006, 0.00481512351,...                     []  \n",
       "1  [0.044797066599, 0.014546340331, 0.00075573823...                     []  \n",
       "2  [0.056822281331, 0.01394391153, 0.000546953524...                     []  \n",
       "3  [0.054696165025, 0.014585443772, 0.00060062651...                     []  \n",
       "4  [0.060329835862, 0.016410827637, 0.00094029493...                     []  "
      ]
     },
     "execution_count": 28,
     "metadata": {},
     "output_type": "execute_result"
    }
   ],
   "source": [
    "test_heavy=pd.read_csv(\"/home/athenes/Paraplume/tests/data/test_heavy.csv\")\n",
    "paratope_test_heavy=predict_paratope(test_heavy, single_chain=True, large=False)\n",
    "paratope_test_heavy.head(5)"
   ]
  },
  {
   "cell_type": "markdown",
   "metadata": {},
   "source": [
    "# Inference for a sequence"
   ]
  },
  {
   "cell_type": "code",
   "execution_count": 30,
   "metadata": {},
   "outputs": [],
   "source": [
    "heavy_seq=test[\"sequence_heavy\"].values[0]\n",
    "light_seq=test[\"sequence_light\"].values[0]\n"
   ]
  },
  {
   "cell_type": "code",
   "execution_count": 31,
   "metadata": {},
   "outputs": [
    {
     "name": "stdout",
     "output_type": "stream",
     "text": [
      "\u001b[2m2025-07-11T15:08:03.802799Z\u001b[0m [\u001b[32m\u001b[1minfo     \u001b[0m] \u001b[1mCREATING EMBEDDINGS           \u001b[0m \u001b[36membedding_model\u001b[0m=\u001b[35mablang2\u001b[0m\n"
     ]
    },
    {
     "name": "stderr",
     "output_type": "stream",
     "text": [
      "100%|██████████| 1/1 [00:00<00:00,  2.14it/s]"
     ]
    },
    {
     "name": "stdout",
     "output_type": "stream",
     "text": [
      "\u001b[2m2025-07-11T15:08:04.275247Z\u001b[0m [\u001b[32m\u001b[1minfo     \u001b[0m] \u001b[1mCREATING EMBEDDINGS           \u001b[0m \u001b[36membedding_model\u001b[0m=\u001b[35migbert\u001b[0m\n"
     ]
    },
    {
     "name": "stderr",
     "output_type": "stream",
     "text": [
      "\n",
      "100%|██████████| 1/1 [00:00<00:00,  1.02it/s]"
     ]
    },
    {
     "name": "stdout",
     "output_type": "stream",
     "text": [
      "\u001b[2m2025-07-11T15:08:05.255337Z\u001b[0m [\u001b[32m\u001b[1minfo     \u001b[0m] \u001b[1mCREATING EMBEDDINGS           \u001b[0m \u001b[36membedding_model\u001b[0m=\u001b[35migT5\u001b[0m\n"
     ]
    },
    {
     "name": "stderr",
     "output_type": "stream",
     "text": [
      "\n",
      "Loading checkpoint shards: 100%|██████████| 3/3 [00:00<00:00, 52.76it/s]\n",
      "100%|██████████| 1/1 [00:01<00:00,  1.36s/it]"
     ]
    },
    {
     "name": "stdout",
     "output_type": "stream",
     "text": [
      "\u001b[2m2025-07-11T15:08:06.619517Z\u001b[0m [\u001b[32m\u001b[1minfo     \u001b[0m] \u001b[1mCREATING EMBEDDINGS           \u001b[0m \u001b[36membedding_model\u001b[0m=\u001b[35mesm\u001b[0m\n"
     ]
    },
    {
     "name": "stderr",
     "output_type": "stream",
     "text": [
      "\n",
      "100%|██████████| 1/1 [00:04<00:00,  4.61s/it]"
     ]
    },
    {
     "name": "stdout",
     "output_type": "stream",
     "text": [
      "\u001b[2m2025-07-11T15:08:11.238878Z\u001b[0m [\u001b[32m\u001b[1minfo     \u001b[0m] \u001b[1mCREATING EMBEDDINGS           \u001b[0m \u001b[36membedding_model\u001b[0m=\u001b[35mantiberty\u001b[0m\n"
     ]
    },
    {
     "name": "stderr",
     "output_type": "stream",
     "text": [
      "\n",
      "100%|██████████| 1/1 [00:00<00:00, 11.91it/s]"
     ]
    },
    {
     "name": "stdout",
     "output_type": "stream",
     "text": [
      "\u001b[2m2025-07-11T15:08:11.327905Z\u001b[0m [\u001b[32m\u001b[1minfo     \u001b[0m] \u001b[1mCREATING EMBEDDINGS           \u001b[0m \u001b[36membedding_model\u001b[0m=\u001b[35mprot-t5\u001b[0m\n"
     ]
    },
    {
     "name": "stderr",
     "output_type": "stream",
     "text": [
      "\n",
      "100%|██████████| 1/1 [00:01<00:00,  1.88s/it]\n"
     ]
    }
   ],
   "source": [
    "# Paired chain\n",
    "paratope_heavy, paratope_light=predict_paratope_seq(sequence_heavy=heavy_seq,sequence_light=light_seq)"
   ]
  },
  {
   "cell_type": "code",
   "execution_count": 32,
   "metadata": {},
   "outputs": [
    {
     "name": "stdout",
     "output_type": "stream",
     "text": [
      "\u001b[2m2025-07-11T15:08:20.712343Z\u001b[0m [\u001b[32m\u001b[1minfo     \u001b[0m] \u001b[1mCREATING EMBEDDINGS           \u001b[0m \u001b[36membedding_model\u001b[0m=\u001b[35mablang2\u001b[0m\n"
     ]
    },
    {
     "name": "stderr",
     "output_type": "stream",
     "text": [
      "100%|██████████| 1/1 [00:00<00:00,  3.17it/s]"
     ]
    },
    {
     "name": "stdout",
     "output_type": "stream",
     "text": [
      "\u001b[2m2025-07-11T15:08:21.031736Z\u001b[0m [\u001b[32m\u001b[1minfo     \u001b[0m] \u001b[1mCREATING EMBEDDINGS           \u001b[0m \u001b[36membedding_model\u001b[0m=\u001b[35migbert\u001b[0m\n"
     ]
    },
    {
     "name": "stderr",
     "output_type": "stream",
     "text": [
      "\n",
      "100%|██████████| 1/1 [00:00<00:00,  1.24it/s]"
     ]
    },
    {
     "name": "stdout",
     "output_type": "stream",
     "text": [
      "\u001b[2m2025-07-11T15:08:21.840385Z\u001b[0m [\u001b[32m\u001b[1minfo     \u001b[0m] \u001b[1mCREATING EMBEDDINGS           \u001b[0m \u001b[36membedding_model\u001b[0m=\u001b[35migT5\u001b[0m\n"
     ]
    },
    {
     "name": "stderr",
     "output_type": "stream",
     "text": [
      "\n",
      "Loading checkpoint shards: 100%|██████████| 3/3 [00:00<00:00, 83.53it/s]\n",
      "100%|██████████| 1/1 [00:01<00:00,  1.19s/it]"
     ]
    },
    {
     "name": "stdout",
     "output_type": "stream",
     "text": [
      "\u001b[2m2025-07-11T15:08:23.031348Z\u001b[0m [\u001b[32m\u001b[1minfo     \u001b[0m] \u001b[1mCREATING EMBEDDINGS           \u001b[0m \u001b[36membedding_model\u001b[0m=\u001b[35mesm\u001b[0m\n"
     ]
    },
    {
     "name": "stderr",
     "output_type": "stream",
     "text": [
      "\n",
      "100%|██████████| 1/1 [00:04<00:00,  4.55s/it]"
     ]
    },
    {
     "name": "stdout",
     "output_type": "stream",
     "text": [
      "\u001b[2m2025-07-11T15:08:27.590129Z\u001b[0m [\u001b[32m\u001b[1minfo     \u001b[0m] \u001b[1mCREATING EMBEDDINGS           \u001b[0m \u001b[36membedding_model\u001b[0m=\u001b[35mantiberty\u001b[0m\n"
     ]
    },
    {
     "name": "stderr",
     "output_type": "stream",
     "text": [
      "\n",
      "100%|██████████| 1/1 [00:00<00:00, 12.05it/s]"
     ]
    },
    {
     "name": "stdout",
     "output_type": "stream",
     "text": [
      "\u001b[2m2025-07-11T15:08:27.677551Z\u001b[0m [\u001b[32m\u001b[1minfo     \u001b[0m] \u001b[1mCREATING EMBEDDINGS           \u001b[0m \u001b[36membedding_model\u001b[0m=\u001b[35mprot-t5\u001b[0m\n"
     ]
    },
    {
     "name": "stderr",
     "output_type": "stream",
     "text": [
      "\n",
      "100%|██████████| 1/1 [00:01<00:00,  1.86s/it]\n"
     ]
    }
   ],
   "source": [
    "# Heavy chain only\n",
    "paratope_heavy, _ =predict_paratope_seq(sequence_heavy=heavy_seq, single_chain=True)"
   ]
  },
  {
   "cell_type": "code",
   "execution_count": 34,
   "metadata": {},
   "outputs": [
    {
     "name": "stdout",
     "output_type": "stream",
     "text": [
      "\u001b[2m2025-07-11T15:08:47.267401Z\u001b[0m [\u001b[32m\u001b[1minfo     \u001b[0m] \u001b[1mCREATING EMBEDDINGS           \u001b[0m \u001b[36membedding_model\u001b[0m=\u001b[35mablang2\u001b[0m\n"
     ]
    },
    {
     "name": "stderr",
     "output_type": "stream",
     "text": [
      "100%|██████████| 1/1 [00:00<00:00,  2.03it/s]"
     ]
    },
    {
     "name": "stdout",
     "output_type": "stream",
     "text": [
      "\u001b[2m2025-07-11T15:08:47.765436Z\u001b[0m [\u001b[32m\u001b[1minfo     \u001b[0m] \u001b[1mCREATING EMBEDDINGS           \u001b[0m \u001b[36membedding_model\u001b[0m=\u001b[35migbert\u001b[0m\n"
     ]
    },
    {
     "name": "stderr",
     "output_type": "stream",
     "text": [
      "\n",
      "100%|██████████| 1/1 [00:00<00:00,  1.07it/s]"
     ]
    },
    {
     "name": "stdout",
     "output_type": "stream",
     "text": [
      "\u001b[2m2025-07-11T15:08:48.702304Z\u001b[0m [\u001b[32m\u001b[1minfo     \u001b[0m] \u001b[1mCREATING EMBEDDINGS           \u001b[0m \u001b[36membedding_model\u001b[0m=\u001b[35migT5\u001b[0m\n"
     ]
    },
    {
     "name": "stderr",
     "output_type": "stream",
     "text": [
      "\n",
      "Loading checkpoint shards: 100%|██████████| 3/3 [00:00<00:00, 53.42it/s]\n",
      "100%|██████████| 1/1 [00:01<00:00,  1.31s/it]"
     ]
    },
    {
     "name": "stdout",
     "output_type": "stream",
     "text": [
      "\u001b[2m2025-07-11T15:08:50.017529Z\u001b[0m [\u001b[32m\u001b[1minfo     \u001b[0m] \u001b[1mCREATING EMBEDDINGS           \u001b[0m \u001b[36membedding_model\u001b[0m=\u001b[35mesm\u001b[0m\n"
     ]
    },
    {
     "name": "stderr",
     "output_type": "stream",
     "text": [
      "\n",
      "100%|██████████| 1/1 [00:04<00:00,  4.86s/it]"
     ]
    },
    {
     "name": "stdout",
     "output_type": "stream",
     "text": [
      "\u001b[2m2025-07-11T15:08:54.878068Z\u001b[0m [\u001b[32m\u001b[1minfo     \u001b[0m] \u001b[1mCREATING EMBEDDINGS           \u001b[0m \u001b[36membedding_model\u001b[0m=\u001b[35mantiberty\u001b[0m\n"
     ]
    },
    {
     "name": "stderr",
     "output_type": "stream",
     "text": [
      "\n",
      "100%|██████████| 1/1 [00:00<00:00, 12.16it/s]"
     ]
    },
    {
     "name": "stdout",
     "output_type": "stream",
     "text": [
      "\u001b[2m2025-07-11T15:08:54.964772Z\u001b[0m [\u001b[32m\u001b[1minfo     \u001b[0m] \u001b[1mCREATING EMBEDDINGS           \u001b[0m \u001b[36membedding_model\u001b[0m=\u001b[35mprot-t5\u001b[0m\n"
     ]
    },
    {
     "name": "stderr",
     "output_type": "stream",
     "text": [
      "\n",
      "100%|██████████| 1/1 [00:01<00:00,  1.92s/it]\n"
     ]
    }
   ],
   "source": [
    "# light chain only\n",
    "_, paratope_light=predict_paratope_seq(sequence_light=light_seq, single_chain=True)\n"
   ]
  }
 ],
 "metadata": {
  "kernelspec": {
   "display_name": "paraplume",
   "language": "python",
   "name": "python3"
  },
  "language_info": {
   "codemirror_mode": {
    "name": "ipython",
    "version": 3
   },
   "file_extension": ".py",
   "mimetype": "text/x-python",
   "name": "python",
   "nbconvert_exporter": "python",
   "pygments_lexer": "ipython3",
   "version": "3.10.13"
  }
 },
 "nbformat": 4,
 "nbformat_minor": 2
}
