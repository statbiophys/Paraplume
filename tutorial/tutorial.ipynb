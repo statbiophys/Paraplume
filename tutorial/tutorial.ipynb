{
  "cells": [
  {
   "cell_type": "code",
   "execution_count": 1,
   "metadata": {},
   "outputs": [
    {
     "name": "stderr",
     "output_type": "stream",
     "text": [
      "/home/athenes/.pyenv/versions/paraplume/lib/python3.10/site-packages/tqdm/auto.py:21: TqdmWarning: IProgress not found. Please update jupyter and ipywidgets. See https://ipywidgets.readthedocs.io/en/stable/user_install.html\n",
      "  from .autonotebook import tqdm as notebook_tqdm\n"
     ]
    }
   ],
   "source": [
    "import pandas as pd\n",
    "\n",
    "from paraplume.infer import predict_paratope, predict_paratope_seq"
   ]
  },
  {
   "cell_type": "code",
   "execution_count": 4,
   "metadata": {},
   "outputs": [
    {
     "name": "stdout",
     "output_type": "stream",
     "text": [
      "/home/athenes/Paraplume/tutorial\n"
     ]
    }
   ],
   "source": [
    "# Go to the tutorial folder\n",
    "!pwd"
   ]
  },
  {
   "cell_type": "markdown",
   "metadata": {},
   "source": [
    "# Inference for a csv file"
   ]
  },
  {
   "cell_type": "markdown",
   "metadata": {},
   "source": [
    "### Paired chain"
   ]
  },
  {
   "cell_type": "code",
   "execution_count": 6,
   "metadata": {},
   "outputs": [
    {
     "name": "stdout",
     "output_type": "stream",
     "text": [
      "\u001b[2m2025-08-04T07:38:38.385852Z\u001b[0m [\u001b[32m\u001b[1minfo     \u001b[0m] \u001b[1mLoading training summary dictionary.\u001b[0m \u001b[36mpath\u001b[0m=\u001b[35m/home/athenes/Paraplume/paraplume/trained_models/large/summary_dict.json\u001b[0m\n"
     ]
    },
    {
     "name": "stdout",
     "output_type": "stream",
     "text": [
      "\u001b[2m2025-08-04T07:38:38.477203Z\u001b[0m [\u001b[32m\u001b[1minfo     \u001b[0m] \u001b[1mLoading model.                \u001b[0m \u001b[36mpath\u001b[0m=\u001b[35m/home/athenes/Paraplume/paraplume/trained_models/large/checkpoint.pt\u001b[0m\n",
      "\u001b[2m2025-08-04T07:38:39.193788Z\u001b[0m [\u001b[32m\u001b[1minfo     \u001b[0m] \u001b[1mCREATING EMBEDDINGS           \u001b[0m \u001b[36membedding_model\u001b[0m=\u001b[35mablang2\u001b[0m\n"
     ]
    },
    {
     "name": "stderr",
     "output_type": "stream",
     "text": [
      "100%|██████████| 1/1 [00:01<00:00,  1.96s/it]"
     ]
    },
    {
     "name": "stdout",
     "output_type": "stream",
     "text": [
      "\u001b[2m2025-08-04T07:38:41.160936Z\u001b[0m [\u001b[32m\u001b[1minfo     \u001b[0m] \u001b[1mCREATING EMBEDDINGS           \u001b[0m \u001b[36membedding_model\u001b[0m=\u001b[35migbert\u001b[0m\n"
     ]
    },
    {
     "name": "stderr",
     "output_type": "stream",
     "text": [
      "\n",
      "100%|██████████| 1/1 [00:01<00:00,  1.41s/it]"
     ]
    },
    {
     "name": "stdout",
     "output_type": "stream",
     "text": [
      "\u001b[2m2025-08-04T07:38:42.575253Z\u001b[0m [\u001b[32m\u001b[1minfo     \u001b[0m] \u001b[1mCREATING EMBEDDINGS           \u001b[0m \u001b[36membedding_model\u001b[0m=\u001b[35migT5\u001b[0m\n"
     ]
    },
    {
     "name": "stderr",
     "output_type": "stream",
     "text": [
      "\n",
      "Loading checkpoint shards: 100%|██████████| 3/3 [00:00<00:00, 52.03it/s]\n",
      "100%|██████████| 1/1 [00:02<00:00,  2.25s/it]"
     ]
    },
    {
     "name": "stdout",
     "output_type": "stream",
     "text": [
      "\u001b[2m2025-08-04T07:38:44.839476Z\u001b[0m [\u001b[32m\u001b[1minfo     \u001b[0m] \u001b[1mCREATING EMBEDDINGS           \u001b[0m \u001b[36membedding_model\u001b[0m=\u001b[35mesm\u001b[0m\n"
     ]
    },
    {
     "name": "stderr",
     "output_type": "stream",
     "text": [
      "\n",
      "100%|██████████| 1/1 [00:04<00:00,  4.87s/it]"
     ]
    },
    {
     "name": "stdout",
     "output_type": "stream",
     "text": [
      "\u001b[2m2025-08-04T07:38:49.715341Z\u001b[0m [\u001b[32m\u001b[1minfo     \u001b[0m] \u001b[1mCREATING EMBEDDINGS           \u001b[0m \u001b[36membedding_model\u001b[0m=\u001b[35mantiberty\u001b[0m\n"
     ]
    },
    {
     "name": "stderr",
     "output_type": "stream",
     "text": [
      "\n",
      "100%|██████████| 1/1 [00:00<00:00,  5.78it/s]"
     ]
    },
    {
     "name": "stdout",
     "output_type": "stream",
     "text": [
      "\u001b[2m2025-08-04T07:38:49.892550Z\u001b[0m [\u001b[32m\u001b[1minfo     \u001b[0m] \u001b[1mCREATING EMBEDDINGS           \u001b[0m \u001b[36membedding_model\u001b[0m=\u001b[35mprot-t5\u001b[0m\n"
     ]
    },
    {
     "name": "stderr",
     "output_type": "stream",
     "text": [
      "\n",
      "  0%|          | 0/1 [00:00<?, ?it/s]You are using the default legacy behaviour of the <class 'transformers.models.t5.tokenization_t5.T5Tokenizer'>. This is expected, and simply means that the `legacy` (previous) behavior will be used so nothing changes for you. If you want to use the new behaviour, set `legacy=False`. This should only be set if you understand what it means, and thoroughly read the reason why this was added as explained in https://github.com/huggingface/transformers/pull/24565\n",
      "100%|██████████| 1/1 [00:02<00:00,  2.92s/it]\n"
     ]
    },
    {
     "data": {
      "text/html": [
       "<div>\n",
       "<style scoped>\n",
       "    .dataframe tbody tr th:only-of-type {\n",
       "        vertical-align: middle;\n",
       "    }\n",
       "\n",
       "    .dataframe tbody tr th {\n",
       "        vertical-align: top;\n",
       "    }\n",
       "\n",
       "    .dataframe thead th {\n",
       "        text-align: right;\n",
       "    }\n",
       "</style>\n",
       "<table border=\"1\" class=\"dataframe\">\n",
       "  <thead>\n",
       "    <tr style=\"text-align: right;\">\n",
       "      <th></th>\n",
       "      <th>sequence_heavy</th>\n",
       "      <th>sequence_light</th>\n",
       "      <th>model_prediction_heavy</th>\n",
       "      <th>model_prediction_light</th>\n",
       "    </tr>\n",
       "  </thead>\n",
       "  <tbody>\n",
       "    <tr>\n",
       "      <th>0</th>\n",
       "      <td>QAYLQQSGAELVKPGASVKMSCKASDYTFTNYNMHWIKQTPGQGLE...</td>\n",
       "      <td>EIVLTQSPTTMAASPGEKITITCSARSSISSNYLHWYQQKPGFSPK...</td>\n",
       "      <td>[0.041725035757, 0.006128619425, 0.00120741000...</td>\n",
       "      <td>[0.02774579823, 0.030432898551, 0.000722601486...</td>\n",
       "    </tr>\n",
       "    <tr>\n",
       "      <th>1</th>\n",
       "      <td>EFQLQQSGPELVKPGASVRMSCKASGYTFASYVMHWVRQNPGQGLE...</td>\n",
       "      <td>EIVLTQSPTTMAASPGEKITITCSASSSISSNYLHWYQQKPGFSPK...</td>\n",
       "      <td>[0.088073186576, 0.009875513613, 0.00031948549...</td>\n",
       "      <td>[0.01704739593, 0.018414046615, 0.000323481188...</td>\n",
       "    </tr>\n",
       "    <tr>\n",
       "      <th>2</th>\n",
       "      <td>EFQLQQSGPELVKPGTSVKMSCKASGYTFSDYVLHWVKPKPGQGLE...</td>\n",
       "      <td>EIVLTQSPTTMAASPGEKITITCSANSSISSNYLHWYQQKPGFSPK...</td>\n",
       "      <td>[0.104903750122, 0.011411688291, 0.00022909764...</td>\n",
       "      <td>[0.021616119891, 0.014892715961, 0.00029867971...</td>\n",
       "    </tr>\n",
       "    <tr>\n",
       "      <th>3</th>\n",
       "      <td>EFQLQQSGPELVKPGASVKMSCKASGYTFSNYVLHWVKQRPGQGLE...</td>\n",
       "      <td>EIVLTQSPTTMAASPGEKITITCSANSSISSNYLHWYQQKPGFSPK...</td>\n",
       "      <td>[0.079148694873, 0.01085769292, 0.000206994431...</td>\n",
       "      <td>[0.025731017813, 0.013135196641, 0.00027886853...</td>\n",
       "    </tr>\n",
       "    <tr>\n",
       "      <th>4</th>\n",
       "      <td>EFQLQQSGPELVKPGASVKMSCKASGYTFTSYVIHWVKQKPGQGLE...</td>\n",
       "      <td>EIVLTQSPTTMAASPGEKITVTCSANSTISSNYFHWYQQKPGFSPK...</td>\n",
       "      <td>[0.113158173859, 0.019801616669, 0.00031696920...</td>\n",
       "      <td>[0.022425999865, 0.015036202036, 0.00038165555...</td>\n",
       "    </tr>\n",
       "  </tbody>\n",
       "</table>\n",
       "</div>"
      ],
      "text/plain": [
       "                                      sequence_heavy  \\\n",
       "0  QAYLQQSGAELVKPGASVKMSCKASDYTFTNYNMHWIKQTPGQGLE...   \n",
       "1  EFQLQQSGPELVKPGASVRMSCKASGYTFASYVMHWVRQNPGQGLE...   \n",
       "2  EFQLQQSGPELVKPGTSVKMSCKASGYTFSDYVLHWVKPKPGQGLE...   \n",
       "3  EFQLQQSGPELVKPGASVKMSCKASGYTFSNYVLHWVKQRPGQGLE...   \n",
       "4  EFQLQQSGPELVKPGASVKMSCKASGYTFTSYVIHWVKQKPGQGLE...   \n",
       "\n",
       "                                      sequence_light  \\\n",
       "0  EIVLTQSPTTMAASPGEKITITCSARSSISSNYLHWYQQKPGFSPK...   \n",
       "1  EIVLTQSPTTMAASPGEKITITCSASSSISSNYLHWYQQKPGFSPK...   \n",
       "2  EIVLTQSPTTMAASPGEKITITCSANSSISSNYLHWYQQKPGFSPK...   \n",
       "3  EIVLTQSPTTMAASPGEKITITCSANSSISSNYLHWYQQKPGFSPK...   \n",
       "4  EIVLTQSPTTMAASPGEKITVTCSANSTISSNYFHWYQQKPGFSPK...   \n",
       "\n",
       "                              model_prediction_heavy  \\\n",
       "0  [0.041725035757, 0.006128619425, 0.00120741000...   \n",
       "1  [0.088073186576, 0.009875513613, 0.00031948549...   \n",
       "2  [0.104903750122, 0.011411688291, 0.00022909764...   \n",
       "3  [0.079148694873, 0.01085769292, 0.000206994431...   \n",
       "4  [0.113158173859, 0.019801616669, 0.00031696920...   \n",
       "\n",
       "                              model_prediction_light  \n",
       "0  [0.02774579823, 0.030432898551, 0.000722601486...  \n",
       "1  [0.01704739593, 0.018414046615, 0.000323481188...  \n",
       "2  [0.021616119891, 0.014892715961, 0.00029867971...  \n",
       "3  [0.025731017813, 0.013135196641, 0.00027886853...  \n",
       "4  [0.022425999865, 0.015036202036, 0.00038165555...  "
      ]
     },
     "execution_count": 6,
     "metadata": {},
     "output_type": "execute_result"
    }
   ],
   "source": [
    "test=pd.read_csv(\"./paired.csv\")\n",
    "paratope_test=predict_paratope(test)\n",
    "paratope_test.head(5)"
   ]
  },
  {
   "cell_type": "code",
   "execution_count": 7,
   "metadata": {},
   "outputs": [
    {
     "name": "stdout",
     "output_type": "stream",
     "text": [
      "First heavy chain sequence ['Q', 'A', 'Y', 'L', 'Q', 'Q', 'S', 'G', 'A', 'E', 'L', 'V', 'K', 'P', 'G', 'A', 'S', 'V', 'K', 'M', 'S', 'C', 'K', 'A', 'S', 'D', 'Y', 'T', 'F', 'T', 'N', 'Y', 'N', 'M', 'H', 'W', 'I', 'K', 'Q', 'T', 'P', 'G', 'Q', 'G', 'L', 'E', 'W', 'I', 'G', 'A', 'I', 'Y', 'P', 'G', 'N', 'G', 'D', 'T', 'S', 'Y', 'N', 'Q', 'K', 'F', 'K', 'G', 'K', 'A', 'T', 'L', 'T', 'A', 'D', 'K', 'S', 'S', 'S', 'T', 'A', 'Y', 'M', 'Q', 'L', 'S', 'S', 'L', 'T', 'S', 'E', 'D', 'S', 'A', 'V', 'Y', 'Y', 'C', 'A', 'S', 'L', 'G', 'S', 'S', 'Y', 'F', 'D', 'Y', 'W', 'G', 'Q', 'G', 'T', 'T', 'L', 'T', 'V', 'S', 'S']\n",
      "Paratope predictions [0.041725035757, 0.006128619425, 0.001207410009, 1.80866e-07, 3.98825e-07, 4.987e-09, 2.8069e-08, 6.55e-10, 1.99e-10, 2.8506e-08, 2.528e-09, 2.065e-09, 8.9317e-08, 2.98e-10, 5.531e-09, 7.705e-09, 2.3911e-08, 5.073e-08, 2.058793e-06, 1.51e-10, 2.149e-09, 5.5e-11, 0.000133977635, 0.000107230371, 0.002047916641, 0.093398466706, 0.10265520215, 0.140073776245, 0.003913572524, 0.138472557068, 0.677939593792, 0.731532752514, 0.955660700798, 0.001126439194, 0.843931734562, 1.365119e-06, 0.000437757146, 2.37768e-07, 3.87172e-07, 4.43e-10, 9.1969e-08, 2.40231e-07, 4.50017e-07, 1.021782e-06, 3.17246e-07, 0.000228789446, 0.096534252167, 2.325671e-06, 0.000273278099, 0.798560023308, 0.246602371335, 0.987717628479, 0.012933754362, 0.091876469553, 0.830538630486, 0.013485322706, 0.921880662441, 0.714445054531, 0.857830107212, 0.043111827224, 0.001883952529, 0.041577786207, 0.000635273289, 1.4717717e-05, 0.061669036746, 0.000290824129, 5.93027e-07, 1.042273e-06, 0.000118839744, 2.7763059e-05, 2.4549425e-05, 5.5214288e-05, 2.2676115e-05, 0.016220515594, 0.001320617273, 2.8058774e-05, 0.000626010413, 2.31658e-07, 2.5995e-08, 3.448818e-06, 2.601e-09, 4.47783e-07, 5.5e-11, 1.354056e-06, 2.626995e-06, 3.85e-10, 1.607e-09, 6.71e-10, 6.193923e-06, 4.2182e-08, 1.428e-09, 3.16e-10, 1.0914e-08, 3.05e-10, 2.0405e-08, 2.00976e-07, 0.016848996282, 0.179978072643, 0.968669474125, 0.960258483887, 0.93214315176, 0.908363878727, 0.632981598377, 0.086983926594, 0.357486307621, 0.10900823772, 0.002294137841, 3.46392e-07, 2.1738468e-05, 1.45677e-07, 1.083e-09, 3.93e-10, 1.9e-11, 5.2e-10, 2.92e-10, 5.657e-09, 5.63619e-07]\n"
     ]
    }
   ],
   "source": [
    "print(\"First heavy chain sequence\",list(paratope_test[\"sequence_heavy\"].values[0]))\n",
    "print(\"Paratope predictions\",paratope_test[\"model_prediction_heavy\"].values[0])"
   ]
  },
  {
   "cell_type": "markdown",
   "metadata": {},
   "source": [
    "### single chain"
   ]
  },
  {
   "cell_type": "code",
   "execution_count": 8,
   "metadata": {},
   "outputs": [
    {
     "name": "stdout",
     "output_type": "stream",
     "text": [
      "\u001b[2m2025-08-04T07:38:54.245807Z\u001b[0m [\u001b[32m\u001b[1minfo     \u001b[0m] \u001b[1mLoading training summary dictionary.\u001b[0m \u001b[36mpath\u001b[0m=\u001b[35m/home/athenes/Paraplume/paraplume/trained_models/large/summary_dict.json\u001b[0m\n",
      "\u001b[2m2025-08-04T07:38:54.310827Z\u001b[0m [\u001b[32m\u001b[1minfo     \u001b[0m] \u001b[1mLoading model.                \u001b[0m \u001b[36mpath\u001b[0m=\u001b[35m/home/athenes/Paraplume/paraplume/trained_models/large/checkpoint.pt\u001b[0m\n",
      "\u001b[2m2025-08-04T07:38:54.348958Z\u001b[0m [\u001b[32m\u001b[1minfo     \u001b[0m] \u001b[1mCREATING EMBEDDINGS           \u001b[0m \u001b[36membedding_model\u001b[0m=\u001b[35mablang2\u001b[0m\n"
     ]
    },
    {
     "name": "stderr",
     "output_type": "stream",
     "text": [
      "100%|██████████| 1/1 [00:00<00:00,  1.39it/s]"
     ]
    },
    {
     "name": "stdout",
     "output_type": "stream",
     "text": [
      "\u001b[2m2025-08-04T07:38:55.074851Z\u001b[0m [\u001b[32m\u001b[1minfo     \u001b[0m] \u001b[1mCREATING EMBEDDINGS           \u001b[0m \u001b[36membedding_model\u001b[0m=\u001b[35migbert\u001b[0m\n"
     ]
    },
    {
     "name": "stderr",
     "output_type": "stream",
     "text": [
      "\n",
      "100%|██████████| 1/1 [00:10<00:00, 10.38s/it]"
     ]
    },
    {
     "name": "stdout",
     "output_type": "stream",
     "text": [
      "\u001b[2m2025-08-04T07:39:05.458696Z\u001b[0m [\u001b[32m\u001b[1minfo     \u001b[0m] \u001b[1mCREATING EMBEDDINGS           \u001b[0m \u001b[36membedding_model\u001b[0m=\u001b[35migT5\u001b[0m\n"
     ]
    },
    {
     "name": "stderr",
     "output_type": "stream",
     "text": [
      "\n",
      "Loading checkpoint shards: 100%|██████████| 3/3 [00:01<00:00,  1.64it/s]\n",
      "100%|██████████| 1/1 [00:16<00:00, 16.10s/it]"
     ]
    },
    {
     "name": "stdout",
     "output_type": "stream",
     "text": [
      "\u001b[2m2025-08-04T07:39:21.565741Z\u001b[0m [\u001b[32m\u001b[1minfo     \u001b[0m] \u001b[1mCREATING EMBEDDINGS           \u001b[0m \u001b[36membedding_model\u001b[0m=\u001b[35mesm\u001b[0m\n"
     ]
    },
    {
     "name": "stderr",
     "output_type": "stream",
     "text": [
      "\n",
      "100%|██████████| 1/1 [00:05<00:00,  5.47s/it]"
     ]
    },
    {
     "name": "stdout",
     "output_type": "stream",
     "text": [
      "\u001b[2m2025-08-04T07:39:27.037331Z\u001b[0m [\u001b[32m\u001b[1minfo     \u001b[0m] \u001b[1mCREATING EMBEDDINGS           \u001b[0m \u001b[36membedding_model\u001b[0m=\u001b[35mantiberty\u001b[0m\n"
     ]
    },
    {
     "name": "stderr",
     "output_type": "stream",
     "text": [
      "\n",
      "100%|██████████| 1/1 [00:00<00:00,  9.09it/s]"
     ]
    },
    {
     "name": "stdout",
     "output_type": "stream",
     "text": [
      "\u001b[2m2025-08-04T07:39:27.151335Z\u001b[0m [\u001b[32m\u001b[1minfo     \u001b[0m] \u001b[1mCREATING EMBEDDINGS           \u001b[0m \u001b[36membedding_model\u001b[0m=\u001b[35mprot-t5\u001b[0m\n"
     ]
    },
    {
     "name": "stderr",
     "output_type": "stream",
     "text": [
      "\n",
      "100%|██████████| 1/1 [00:02<00:00,  2.33s/it]\n"
     ]
    },
    {
     "data": {
      "text/html": [
       "<div>\n",
       "<style scoped>\n",
       "    .dataframe tbody tr th:only-of-type {\n",
       "        vertical-align: middle;\n",
       "    }\n",
       "\n",
       "    .dataframe tbody tr th {\n",
       "        vertical-align: top;\n",
       "    }\n",
       "\n",
       "    .dataframe thead th {\n",
       "        text-align: right;\n",
       "    }\n",
       "</style>\n",
       "<table border=\"1\" class=\"dataframe\">\n",
       "  <thead>\n",
       "    <tr style=\"text-align: right;\">\n",
       "      <th></th>\n",
       "      <th>sequence_heavy</th>\n",
       "      <th>sequence_light</th>\n",
       "      <th>model_prediction_heavy</th>\n",
       "      <th>model_prediction_light</th>\n",
       "    </tr>\n",
       "  </thead>\n",
       "  <tbody>\n",
       "    <tr>\n",
       "      <th>0</th>\n",
       "      <td>QAYLQQSGAELVKPGASVKMSCKASDYTFTNYNMHWIKQTPGQGLE...</td>\n",
       "      <td></td>\n",
       "      <td>[0.060344278812, 0.01300790254, 0.002478634473...</td>\n",
       "      <td>[]</td>\n",
       "    </tr>\n",
       "    <tr>\n",
       "      <th>1</th>\n",
       "      <td>EFQLQQSGPELVKPGASVRMSCKASGYTFASYVMHWVRQNPGQGLE...</td>\n",
       "      <td></td>\n",
       "      <td>[0.11747469008, 0.016421206295, 0.000410120498...</td>\n",
       "      <td>[]</td>\n",
       "    </tr>\n",
       "    <tr>\n",
       "      <th>2</th>\n",
       "      <td>EFQLQQSGPELVKPGTSVKMSCKASGYTFSDYVLHWVKPKPGQGLE...</td>\n",
       "      <td></td>\n",
       "      <td>[0.146373659372, 0.017853245139, 0.00036139242...</td>\n",
       "      <td>[]</td>\n",
       "    </tr>\n",
       "    <tr>\n",
       "      <th>3</th>\n",
       "      <td>EFQLQQSGPELVKPGASVKMSCKASGYTFSNYVLHWVKQRPGQGLE...</td>\n",
       "      <td></td>\n",
       "      <td>[0.11182346195, 0.019265005365, 0.000285910472...</td>\n",
       "      <td>[]</td>\n",
       "    </tr>\n",
       "    <tr>\n",
       "      <th>4</th>\n",
       "      <td>EFQLQQSGPELVKPGASVKMSCKASGYTFTSYVIHWVKQKPGQGLE...</td>\n",
       "      <td></td>\n",
       "      <td>[0.13008095324, 0.02869778499, 0.000496456691,...</td>\n",
       "      <td>[]</td>\n",
       "    </tr>\n",
       "  </tbody>\n",
       "</table>\n",
       "</div>"
      ],
      "text/plain": [
       "                                      sequence_heavy sequence_light  \\\n",
       "0  QAYLQQSGAELVKPGASVKMSCKASDYTFTNYNMHWIKQTPGQGLE...                  \n",
       "1  EFQLQQSGPELVKPGASVRMSCKASGYTFASYVMHWVRQNPGQGLE...                  \n",
       "2  EFQLQQSGPELVKPGTSVKMSCKASGYTFSDYVLHWVKPKPGQGLE...                  \n",
       "3  EFQLQQSGPELVKPGASVKMSCKASGYTFSNYVLHWVKQRPGQGLE...                  \n",
       "4  EFQLQQSGPELVKPGASVKMSCKASGYTFTSYVIHWVKQKPGQGLE...                  \n",
       "\n",
       "                              model_prediction_heavy model_prediction_light  \n",
       "0  [0.060344278812, 0.01300790254, 0.002478634473...                     []  \n",
       "1  [0.11747469008, 0.016421206295, 0.000410120498...                     []  \n",
       "2  [0.146373659372, 0.017853245139, 0.00036139242...                     []  \n",
       "3  [0.11182346195, 0.019265005365, 0.000285910472...                     []  \n",
       "4  [0.13008095324, 0.02869778499, 0.000496456691,...                     []  "
      ]
     },
     "execution_count": 8,
     "metadata": {},
     "output_type": "execute_result"
    }
   ],
   "source": [
    "test_heavy=pd.read_csv(\"./heavy.csv\")\n",
    "paratope_test_heavy=predict_paratope(test_heavy, single_chain=True)\n",
    "paratope_test_heavy.head(5)"
   ]
  },
  {
   "cell_type": "markdown",
   "metadata": {},
   "source": [
    "### With Paraplume-s"
   ]
  },
  {
   "cell_type": "code",
   "execution_count": 9,
   "metadata": {},
   "outputs": [
    {
     "name": "stdout",
     "output_type": "stream",
     "text": [
      "\u001b[2m2025-08-04T07:39:29.564754Z\u001b[0m [\u001b[32m\u001b[1minfo     \u001b[0m] \u001b[1mLoading training summary dictionary.\u001b[0m \u001b[36mpath\u001b[0m=\u001b[35m/home/athenes/Paraplume/paraplume/trained_models/small/summary_dict.json\u001b[0m\n",
      "\u001b[2m2025-08-04T07:39:29.606361Z\u001b[0m [\u001b[32m\u001b[1minfo     \u001b[0m] \u001b[1mLoading model.                \u001b[0m \u001b[36mpath\u001b[0m=\u001b[35m/home/athenes/Paraplume/paraplume/trained_models/small/checkpoint.pt\u001b[0m\n",
      "\u001b[2m2025-08-04T07:39:29.718656Z\u001b[0m [\u001b[32m\u001b[1minfo     \u001b[0m] \u001b[1mCREATING EMBEDDINGS           \u001b[0m \u001b[36membedding_model\u001b[0m=\u001b[35mesm\u001b[0m\n"
     ]
    },
    {
     "name": "stderr",
     "output_type": "stream",
     "text": [
      "100%|██████████| 1/1 [00:04<00:00,  4.42s/it]\n"
     ]
    },
    {
     "data": {
      "text/html": [
       "<div>\n",
       "<style scoped>\n",
       "    .dataframe tbody tr th:only-of-type {\n",
       "        vertical-align: middle;\n",
       "    }\n",
       "\n",
       "    .dataframe tbody tr th {\n",
       "        vertical-align: top;\n",
       "    }\n",
       "\n",
       "    .dataframe thead th {\n",
       "        text-align: right;\n",
       "    }\n",
       "</style>\n",
       "<table border=\"1\" class=\"dataframe\">\n",
       "  <thead>\n",
       "    <tr style=\"text-align: right;\">\n",
       "      <th></th>\n",
       "      <th>sequence_heavy</th>\n",
       "      <th>sequence_light</th>\n",
       "      <th>model_prediction_heavy</th>\n",
       "      <th>model_prediction_light</th>\n",
       "    </tr>\n",
       "  </thead>\n",
       "  <tbody>\n",
       "    <tr>\n",
       "      <th>0</th>\n",
       "      <td>QAYLQQSGAELVKPGASVKMSCKASDYTFTNYNMHWIKQTPGQGLE...</td>\n",
       "      <td></td>\n",
       "      <td>[0.04078932479, 0.006399150006, 0.00481512351,...</td>\n",
       "      <td>[]</td>\n",
       "    </tr>\n",
       "    <tr>\n",
       "      <th>1</th>\n",
       "      <td>EFQLQQSGPELVKPGASVRMSCKASGYTFASYVMHWVRQNPGQGLE...</td>\n",
       "      <td></td>\n",
       "      <td>[0.044797066599, 0.014546340331, 0.00075573823...</td>\n",
       "      <td>[]</td>\n",
       "    </tr>\n",
       "    <tr>\n",
       "      <th>2</th>\n",
       "      <td>EFQLQQSGPELVKPGTSVKMSCKASGYTFSDYVLHWVKPKPGQGLE...</td>\n",
       "      <td></td>\n",
       "      <td>[0.056822281331, 0.01394391153, 0.000546953524...</td>\n",
       "      <td>[]</td>\n",
       "    </tr>\n",
       "    <tr>\n",
       "      <th>3</th>\n",
       "      <td>EFQLQQSGPELVKPGASVKMSCKASGYTFSNYVLHWVKQRPGQGLE...</td>\n",
       "      <td></td>\n",
       "      <td>[0.054696165025, 0.014585443772, 0.00060062651...</td>\n",
       "      <td>[]</td>\n",
       "    </tr>\n",
       "    <tr>\n",
       "      <th>4</th>\n",
       "      <td>EFQLQQSGPELVKPGASVKMSCKASGYTFTSYVIHWVKQKPGQGLE...</td>\n",
       "      <td></td>\n",
       "      <td>[0.060329835862, 0.016410827637, 0.00094029493...</td>\n",
       "      <td>[]</td>\n",
       "    </tr>\n",
       "  </tbody>\n",
       "</table>\n",
       "</div>"
      ],
      "text/plain": [
       "                                      sequence_heavy sequence_light  \\\n",
       "0  QAYLQQSGAELVKPGASVKMSCKASDYTFTNYNMHWIKQTPGQGLE...                  \n",
       "1  EFQLQQSGPELVKPGASVRMSCKASGYTFASYVMHWVRQNPGQGLE...                  \n",
       "2  EFQLQQSGPELVKPGTSVKMSCKASGYTFSDYVLHWVKPKPGQGLE...                  \n",
       "3  EFQLQQSGPELVKPGASVKMSCKASGYTFSNYVLHWVKQRPGQGLE...                  \n",
       "4  EFQLQQSGPELVKPGASVKMSCKASGYTFTSYVIHWVKQKPGQGLE...                  \n",
       "\n",
       "                              model_prediction_heavy model_prediction_light  \n",
       "0  [0.04078932479, 0.006399150006, 0.00481512351,...                     []  \n",
       "1  [0.044797066599, 0.014546340331, 0.00075573823...                     []  \n",
       "2  [0.056822281331, 0.01394391153, 0.000546953524...                     []  \n",
       "3  [0.054696165025, 0.014585443772, 0.00060062651...                     []  \n",
       "4  [0.060329835862, 0.016410827637, 0.00094029493...                     []  "
      ]
     },
     "execution_count": 9,
     "metadata": {},
     "output_type": "execute_result"
    }
   ],
   "source": [
    "test_heavy=pd.read_csv(\"./heavy.csv\")\n",
    "paratope_test_heavy=predict_paratope(test_heavy, single_chain=True, large=False)\n",
    "paratope_test_heavy.head(5)"
   ]
  },
  {
   "cell_type": "markdown",
   "metadata": {},
   "source": [
    "# Inference for a sequence"
   ]
  },
  {
   "cell_type": "code",
   "execution_count": 14,
   "metadata": {},
   "outputs": [],
   "source": [
    "heavy_seq=test[\"sequence_heavy\"].values[0]\n",
    "light_seq=test[\"sequence_light\"].values[0]\n"
   ]
  },
  {
   "cell_type": "code",
   "execution_count": 15,
   "metadata": {},
   "outputs": [
    {
     "name": "stdout",
     "output_type": "stream",
     "text": [
      "\u001b[2m2025-08-04T07:40:40.611649Z\u001b[0m [\u001b[32m\u001b[1minfo     \u001b[0m] \u001b[1mCREATING EMBEDDINGS           \u001b[0m \u001b[36membedding_model\u001b[0m=\u001b[35mablang2\u001b[0m\n"
     ]
    },
    {
     "name": "stderr",
     "output_type": "stream",
     "text": [
      "100%|██████████| 1/1 [00:00<00:00,  2.27it/s]"
     ]
    },
    {
     "name": "stdout",
     "output_type": "stream",
     "text": [
      "\u001b[2m2025-08-04T07:40:41.057384Z\u001b[0m [\u001b[32m\u001b[1minfo     \u001b[0m] \u001b[1mCREATING EMBEDDINGS           \u001b[0m \u001b[36membedding_model\u001b[0m=\u001b[35migbert\u001b[0m\n"
     ]
    },
    {
     "name": "stderr",
     "output_type": "stream",
     "text": [
      "\n",
      "100%|██████████| 1/1 [00:00<00:00,  1.28it/s]"
     ]
    },
    {
     "name": "stdout",
     "output_type": "stream",
     "text": [
      "\u001b[2m2025-08-04T07:40:41.840612Z\u001b[0m [\u001b[32m\u001b[1minfo     \u001b[0m] \u001b[1mCREATING EMBEDDINGS           \u001b[0m \u001b[36membedding_model\u001b[0m=\u001b[35migT5\u001b[0m\n"
     ]
    },
    {
     "name": "stderr",
     "output_type": "stream",
     "text": [
      "\n",
      "Loading checkpoint shards: 100%|██████████| 3/3 [00:00<00:00, 80.32it/s]\n",
      "100%|██████████| 1/1 [00:01<00:00,  1.17s/it]"
     ]
    },
    {
     "name": "stdout",
     "output_type": "stream",
     "text": [
      "\u001b[2m2025-08-04T07:40:43.020360Z\u001b[0m [\u001b[32m\u001b[1minfo     \u001b[0m] \u001b[1mCREATING EMBEDDINGS           \u001b[0m \u001b[36membedding_model\u001b[0m=\u001b[35mesm\u001b[0m\n"
     ]
    },
    {
     "name": "stderr",
     "output_type": "stream",
     "text": [
      "\n",
      "100%|██████████| 1/1 [00:04<00:00,  4.24s/it]"
     ]
    },
    {
     "name": "stdout",
     "output_type": "stream",
     "text": [
      "\u001b[2m2025-08-04T07:40:47.263844Z\u001b[0m [\u001b[32m\u001b[1minfo     \u001b[0m] \u001b[1mCREATING EMBEDDINGS           \u001b[0m \u001b[36membedding_model\u001b[0m=\u001b[35mantiberty\u001b[0m\n"
     ]
    },
    {
     "name": "stderr",
     "output_type": "stream",
     "text": [
      "\n",
      "100%|██████████| 1/1 [00:00<00:00, 11.66it/s]"
     ]
    },
    {
     "name": "stdout",
     "output_type": "stream",
     "text": [
      "\u001b[2m2025-08-04T07:40:47.354764Z\u001b[0m [\u001b[32m\u001b[1minfo     \u001b[0m] \u001b[1mCREATING EMBEDDINGS           \u001b[0m \u001b[36membedding_model\u001b[0m=\u001b[35mprot-t5\u001b[0m\n"
     ]
    },
    {
     "name": "stderr",
     "output_type": "stream",
     "text": [
      "\n",
      "100%|██████████| 1/1 [00:02<00:00,  2.20s/it]\n"
     ]
    }
   ],
   "source": [
    "# Paired chain\n",
    "paratope_heavy, paratope_light=predict_paratope_seq(sequence_heavy=heavy_seq,sequence_light=light_seq)"
   ]
  },
  {
   "cell_type": "code",
   "execution_count": 16,
   "metadata": {},
   "outputs": [
    {
     "name": "stdout",
     "output_type": "stream",
     "text": [
      "[0.0417250357568264, 0.00612852955237031, 0.0012074250262230635, 1.8086383590798505e-07, 3.98824056446756e-07, 4.987386059696064e-09, 2.8069608859482287e-08, 6.546194697421015e-10, 1.987225939359405e-10, 2.8505768412401267e-08, 2.5276285509079344e-09, 2.064911575061501e-09, 8.931517214705309e-08, 2.976796309450691e-10, 5.530565783118391e-09, 7.704881177517109e-09, 2.3911226776363037e-08, 5.072985942433661e-08, 2.0587872313626576e-06, 1.5099256567285835e-10, 2.1494792612486435e-09, 5.521642865158327e-11, 0.00013397751899901778, 0.00010723139712354168, 0.0020479299128055573, 0.09339828789234161, 0.10265472531318665, 0.14007353782653809, 0.00391355948522687, 0.13847270607948303, 0.6779400706291199, 0.7315337657928467, 0.9556609392166138, 0.001126437564380467, 0.8439315557479858, 1.3651070958076161e-06, 0.00043775796075351536, 2.3776819091381185e-07, 3.871759588491841e-07, 4.43015485407372e-10, 9.196755712537197e-08, 2.402281893409963e-07, 4.5001260673416255e-07, 1.0217759154329542e-06, 3.1724638915875403e-07, 0.0002287887764396146, 0.09653444588184357, 2.3256914118974237e-06, 0.00027327757561579347, 0.7985607385635376, 0.24660331010818481, 0.9877176284790039, 0.012933694757521152, 0.0918758437037468, 0.8305388689041138, 0.013485308736562729, 0.9218805432319641, 0.7144460678100586, 0.8578310608863831, 0.043112169951200485, 0.0018839793046936393, 0.04157799854874611, 0.0006352771888487041, 1.4717942576680798e-05, 0.061669230461120605, 0.0002908233436755836, 5.930248221375223e-07, 1.0422725154057844e-06, 0.00011883906699949875, 2.7762847821577452e-05, 2.4549495719838887e-05, 5.5214659369084984e-05, 2.267609306727536e-05, 0.016220569610595703, 0.0013206172734498978, 2.8058746465831064e-05, 0.0006260151858441532, 2.316564007287525e-07, 2.5995570140935342e-08, 3.44879163094447e-06, 2.600979209788079e-09, 4.4778084884455893e-07, 5.466439800816403e-11, 1.3540563941205619e-06, 2.6269792670063907e-06, 3.852099195178482e-10, 1.6069526820317037e-09, 6.711167732653678e-10, 6.193964509293437e-06, 4.218210492012986e-08, 1.4276050341877067e-09, 3.157205885617742e-10, 1.091387424878576e-08, 3.0511576598613033e-10, 2.0405440892545812e-08, 2.0097618858017086e-07, 0.01684904471039772, 0.17998041212558746, 0.9686693549156189, 0.9602584838867188, 0.9321431517601013, 0.9083638787269592, 0.6329813599586487, 0.08698434382677078, 0.35748669505119324, 0.10900836437940598, 0.002294135745614767, 3.4639501222955005e-07, 2.173865505028516e-05, 1.456784133324618e-07, 1.0832199581756186e-09, 3.9348088676227633e-10, 1.9296031786297796e-11, 5.195087138254451e-10, 2.9239455301421913e-10, 5.657099677591759e-09, 5.636143214360345e-07]\n"
     ]
    }
   ],
   "source": [
    "print(paratope_heavy)"
   ]
  },
  {
   "cell_type": "code",
   "execution_count": 17,
   "metadata": {},
   "outputs": [
    {
     "name": "stdout",
     "output_type": "stream",
     "text": [
      "\u001b[2m2025-08-04T07:40:49.728838Z\u001b[0m [\u001b[32m\u001b[1minfo     \u001b[0m] \u001b[1mCREATING EMBEDDINGS           \u001b[0m \u001b[36membedding_model\u001b[0m=\u001b[35mablang2\u001b[0m\n"
     ]
    },
    {
     "name": "stderr",
     "output_type": "stream",
     "text": [
      "100%|██████████| 1/1 [00:00<00:00,  2.46it/s]"
     ]
    },
    {
     "name": "stdout",
     "output_type": "stream",
     "text": [
      "\u001b[2m2025-08-04T07:40:50.139484Z\u001b[0m [\u001b[32m\u001b[1minfo     \u001b[0m] \u001b[1mCREATING EMBEDDINGS           \u001b[0m \u001b[36membedding_model\u001b[0m=\u001b[35migbert\u001b[0m\n"
     ]
    },
    {
     "name": "stderr",
     "output_type": "stream",
     "text": [
      "\n",
      "100%|██████████| 1/1 [00:00<00:00,  1.12it/s]"
     ]
    },
    {
     "name": "stdout",
     "output_type": "stream",
     "text": [
      "\u001b[2m2025-08-04T07:40:51.034099Z\u001b[0m [\u001b[32m\u001b[1minfo     \u001b[0m] \u001b[1mCREATING EMBEDDINGS           \u001b[0m \u001b[36membedding_model\u001b[0m=\u001b[35migT5\u001b[0m\n"
     ]
    },
    {
     "name": "stderr",
     "output_type": "stream",
     "text": [
      "\n",
      "Loading checkpoint shards: 100%|██████████| 3/3 [00:00<00:00, 54.09it/s]\n",
      "100%|██████████| 1/1 [00:01<00:00,  1.33s/it]"
     ]
    },
    {
     "name": "stdout",
     "output_type": "stream",
     "text": [
      "\u001b[2m2025-08-04T07:40:52.369858Z\u001b[0m [\u001b[32m\u001b[1minfo     \u001b[0m] \u001b[1mCREATING EMBEDDINGS           \u001b[0m \u001b[36membedding_model\u001b[0m=\u001b[35mesm\u001b[0m\n"
     ]
    },
    {
     "name": "stderr",
     "output_type": "stream",
     "text": [
      "\n",
      "100%|██████████| 1/1 [00:04<00:00,  4.28s/it]"
     ]
    },
    {
     "name": "stdout",
     "output_type": "stream",
     "text": [
      "\u001b[2m2025-08-04T07:40:56.654647Z\u001b[0m [\u001b[32m\u001b[1minfo     \u001b[0m] \u001b[1mCREATING EMBEDDINGS           \u001b[0m \u001b[36membedding_model\u001b[0m=\u001b[35mantiberty\u001b[0m\n"
     ]
    },
    {
     "name": "stderr",
     "output_type": "stream",
     "text": [
      "\n",
      "100%|██████████| 1/1 [00:00<00:00, 11.44it/s]"
     ]
    },
    {
     "name": "stdout",
     "output_type": "stream",
     "text": [
      "\u001b[2m2025-08-04T07:40:56.746599Z\u001b[0m [\u001b[32m\u001b[1minfo     \u001b[0m] \u001b[1mCREATING EMBEDDINGS           \u001b[0m \u001b[36membedding_model\u001b[0m=\u001b[35mprot-t5\u001b[0m\n"
     ]
    },
    {
     "name": "stderr",
     "output_type": "stream",
     "text": [
      "\n",
      "100%|██████████| 1/1 [00:02<00:00,  2.12s/it]\n"
     ]
    }
   ],
   "source": [
    "# Heavy chain only\n",
    "paratope_heavy, _ =predict_paratope_seq(sequence_heavy=heavy_seq, single_chain=True)"
   ]
  },
  {
   "cell_type": "code",
   "execution_count": 18,
   "metadata": {},
   "outputs": [
    {
     "name": "stdout",
     "output_type": "stream",
     "text": [
      "\u001b[2m2025-08-04T07:40:58.971610Z\u001b[0m [\u001b[32m\u001b[1minfo     \u001b[0m] \u001b[1mCREATING EMBEDDINGS           \u001b[0m \u001b[36membedding_model\u001b[0m=\u001b[35mablang2\u001b[0m\n"
     ]
    },
    {
     "name": "stderr",
     "output_type": "stream",
     "text": [
      "100%|██████████| 1/1 [00:00<00:00,  3.19it/s]"
     ]
    },
    {
     "name": "stdout",
     "output_type": "stream",
     "text": [
      "\u001b[2m2025-08-04T07:40:59.289179Z\u001b[0m [\u001b[32m\u001b[1minfo     \u001b[0m] \u001b[1mCREATING EMBEDDINGS           \u001b[0m \u001b[36membedding_model\u001b[0m=\u001b[35migbert\u001b[0m\n"
     ]
    },
    {
     "name": "stderr",
     "output_type": "stream",
     "text": [
      "\n",
      "100%|██████████| 1/1 [00:00<00:00,  1.07it/s]"
     ]
    },
    {
     "name": "stdout",
     "output_type": "stream",
     "text": [
      "\u001b[2m2025-08-04T07:41:00.229030Z\u001b[0m [\u001b[32m\u001b[1minfo     \u001b[0m] \u001b[1mCREATING EMBEDDINGS           \u001b[0m \u001b[36membedding_model\u001b[0m=\u001b[35migT5\u001b[0m\n"
     ]
    },
    {
     "name": "stderr",
     "output_type": "stream",
     "text": [
      "\n",
      "Loading checkpoint shards: 100%|██████████| 3/3 [00:00<00:00, 82.23it/s]\n",
      "100%|██████████| 1/1 [00:01<00:00,  1.20s/it]"
     ]
    },
    {
     "name": "stdout",
     "output_type": "stream",
     "text": [
      "\u001b[2m2025-08-04T07:41:01.438532Z\u001b[0m [\u001b[32m\u001b[1minfo     \u001b[0m] \u001b[1mCREATING EMBEDDINGS           \u001b[0m \u001b[36membedding_model\u001b[0m=\u001b[35mesm\u001b[0m\n"
     ]
    },
    {
     "name": "stderr",
     "output_type": "stream",
     "text": [
      "\n",
      "100%|██████████| 1/1 [00:04<00:00,  4.17s/it]"
     ]
    },
    {
     "name": "stdout",
     "output_type": "stream",
     "text": [
      "\u001b[2m2025-08-04T07:41:05.617829Z\u001b[0m [\u001b[32m\u001b[1minfo     \u001b[0m] \u001b[1mCREATING EMBEDDINGS           \u001b[0m \u001b[36membedding_model\u001b[0m=\u001b[35mantiberty\u001b[0m\n"
     ]
    },
    {
     "name": "stderr",
     "output_type": "stream",
     "text": [
      "\n",
      "100%|██████████| 1/1 [00:00<00:00, 11.81it/s]"
     ]
    },
    {
     "name": "stdout",
     "output_type": "stream",
     "text": [
      "\u001b[2m2025-08-04T07:41:05.707800Z\u001b[0m [\u001b[32m\u001b[1minfo     \u001b[0m] \u001b[1mCREATING EMBEDDINGS           \u001b[0m \u001b[36membedding_model\u001b[0m=\u001b[35mprot-t5\u001b[0m\n"
     ]
    },
    {
     "name": "stderr",
     "output_type": "stream",
     "text": [
      "\n",
      "100%|██████████| 1/1 [00:02<00:00,  2.03s/it]\n"
     ]
    }
   ],
   "source": [
    "# light chain only\n",
    "_, paratope_light=predict_paratope_seq(sequence_light=light_seq, single_chain=True)\n"
   ]
  }
 ],
 "metadata": {
  "kernelspec": {
   "display_name": "paraplume",
   "language": "python",
   "name": "python3"
  },
  "language_info": {
   "codemirror_mode": {
    "name": "ipython",
    "version": 3
   },
   "file_extension": ".py",
   "mimetype": "text/x-python",
   "name": "python",
   "nbconvert_exporter": "python",
   "pygments_lexer": "ipython3",
   "version": "3.10.13"
  }
 },
 "nbformat": 4,
 "nbformat_minor": 2
}
